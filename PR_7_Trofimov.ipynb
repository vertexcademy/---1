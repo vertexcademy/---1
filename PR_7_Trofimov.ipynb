{
  "cells": [
    {
      "cell_type": "code",
      "execution_count": null,
      "metadata": {},
      "outputs": [],
      "source": [
        "TROFIMOV_BBMO-01-24"
      ]
    },
    {
      "cell_type": "code",
      "execution_count": 29,
      "metadata": {
        "colab": {
          "base_uri": "https://localhost:8080/"
        },
        "id": "bhVZNa0FDVDF",
        "outputId": "ea8a85e2-af52-426e-cd59-3671c375af32"
      },
      "outputs": [
        {
          "name": "stdout",
          "output_type": "stream",
          "text": [
            "Requirement already satisfied: adversarial-robustness-toolbox in /usr/local/lib/python3.11/dist-packages (1.19.1)\n",
            "Requirement already satisfied: tensorflow in /usr/local/lib/python3.11/dist-packages (2.18.0)\n",
            "Requirement already satisfied: matplotlib in /usr/local/lib/python3.11/dist-packages (3.10.0)\n",
            "Requirement already satisfied: numpy>=1.18.0 in /usr/local/lib/python3.11/dist-packages (from adversarial-robustness-toolbox) (2.0.2)\n",
            "Requirement already satisfied: scipy>=1.4.1 in /usr/local/lib/python3.11/dist-packages (from adversarial-robustness-toolbox) (1.15.2)\n",
            "Requirement already satisfied: scikit-learn>=0.22.2 in /usr/local/lib/python3.11/dist-packages (from adversarial-robustness-toolbox) (1.6.1)\n",
            "Requirement already satisfied: six in /usr/local/lib/python3.11/dist-packages (from adversarial-robustness-toolbox) (1.17.0)\n",
            "Requirement already satisfied: setuptools in /usr/local/lib/python3.11/dist-packages (from adversarial-robustness-toolbox) (75.2.0)\n",
            "Requirement already satisfied: tqdm in /usr/local/lib/python3.11/dist-packages (from adversarial-robustness-toolbox) (4.67.1)\n",
            "Requirement already satisfied: absl-py>=1.0.0 in /usr/local/lib/python3.11/dist-packages (from tensorflow) (1.4.0)\n",
            "Requirement already satisfied: astunparse>=1.6.0 in /usr/local/lib/python3.11/dist-packages (from tensorflow) (1.6.3)\n",
            "Requirement already satisfied: flatbuffers>=24.3.25 in /usr/local/lib/python3.11/dist-packages (from tensorflow) (25.2.10)\n",
            "Requirement already satisfied: gast!=0.5.0,!=0.5.1,!=0.5.2,>=0.2.1 in /usr/local/lib/python3.11/dist-packages (from tensorflow) (0.6.0)\n",
            "Requirement already satisfied: google-pasta>=0.1.1 in /usr/local/lib/python3.11/dist-packages (from tensorflow) (0.2.0)\n",
            "Requirement already satisfied: libclang>=13.0.0 in /usr/local/lib/python3.11/dist-packages (from tensorflow) (18.1.1)\n",
            "Requirement already satisfied: opt-einsum>=2.3.2 in /usr/local/lib/python3.11/dist-packages (from tensorflow) (3.4.0)\n",
            "Requirement already satisfied: packaging in /usr/local/lib/python3.11/dist-packages (from tensorflow) (24.2)\n",
            "Requirement already satisfied: protobuf!=4.21.0,!=4.21.1,!=4.21.2,!=4.21.3,!=4.21.4,!=4.21.5,<6.0.0dev,>=3.20.3 in /usr/local/lib/python3.11/dist-packages (from tensorflow) (5.29.4)\n",
            "Requirement already satisfied: requests<3,>=2.21.0 in /usr/local/lib/python3.11/dist-packages (from tensorflow) (2.32.3)\n",
            "Requirement already satisfied: termcolor>=1.1.0 in /usr/local/lib/python3.11/dist-packages (from tensorflow) (3.1.0)\n",
            "Requirement already satisfied: typing-extensions>=3.6.6 in /usr/local/lib/python3.11/dist-packages (from tensorflow) (4.13.2)\n",
            "Requirement already satisfied: wrapt>=1.11.0 in /usr/local/lib/python3.11/dist-packages (from tensorflow) (1.17.2)\n",
            "Requirement already satisfied: grpcio<2.0,>=1.24.3 in /usr/local/lib/python3.11/dist-packages (from tensorflow) (1.71.0)\n",
            "Requirement already satisfied: tensorboard<2.19,>=2.18 in /usr/local/lib/python3.11/dist-packages (from tensorflow) (2.18.0)\n",
            "Requirement already satisfied: keras>=3.5.0 in /usr/local/lib/python3.11/dist-packages (from tensorflow) (3.8.0)\n",
            "Requirement already satisfied: h5py>=3.11.0 in /usr/local/lib/python3.11/dist-packages (from tensorflow) (3.13.0)\n",
            "Requirement already satisfied: ml-dtypes<0.5.0,>=0.4.0 in /usr/local/lib/python3.11/dist-packages (from tensorflow) (0.4.1)\n",
            "Requirement already satisfied: tensorflow-io-gcs-filesystem>=0.23.1 in /usr/local/lib/python3.11/dist-packages (from tensorflow) (0.37.1)\n",
            "Requirement already satisfied: contourpy>=1.0.1 in /usr/local/lib/python3.11/dist-packages (from matplotlib) (1.3.2)\n",
            "Requirement already satisfied: cycler>=0.10 in /usr/local/lib/python3.11/dist-packages (from matplotlib) (0.12.1)\n",
            "Requirement already satisfied: fonttools>=4.22.0 in /usr/local/lib/python3.11/dist-packages (from matplotlib) (4.57.0)\n",
            "Requirement already satisfied: kiwisolver>=1.3.1 in /usr/local/lib/python3.11/dist-packages (from matplotlib) (1.4.8)\n",
            "Requirement already satisfied: pillow>=8 in /usr/local/lib/python3.11/dist-packages (from matplotlib) (11.2.1)\n",
            "Requirement already satisfied: pyparsing>=2.3.1 in /usr/local/lib/python3.11/dist-packages (from matplotlib) (3.2.3)\n",
            "Requirement already satisfied: python-dateutil>=2.7 in /usr/local/lib/python3.11/dist-packages (from matplotlib) (2.9.0.post0)\n",
            "Requirement already satisfied: wheel<1.0,>=0.23.0 in /usr/local/lib/python3.11/dist-packages (from astunparse>=1.6.0->tensorflow) (0.45.1)\n",
            "Requirement already satisfied: rich in /usr/local/lib/python3.11/dist-packages (from keras>=3.5.0->tensorflow) (13.9.4)\n",
            "Requirement already satisfied: namex in /usr/local/lib/python3.11/dist-packages (from keras>=3.5.0->tensorflow) (0.0.9)\n",
            "Requirement already satisfied: optree in /usr/local/lib/python3.11/dist-packages (from keras>=3.5.0->tensorflow) (0.15.0)\n",
            "Requirement already satisfied: charset-normalizer<4,>=2 in /usr/local/lib/python3.11/dist-packages (from requests<3,>=2.21.0->tensorflow) (3.4.1)\n",
            "Requirement already satisfied: idna<4,>=2.5 in /usr/local/lib/python3.11/dist-packages (from requests<3,>=2.21.0->tensorflow) (3.10)\n",
            "Requirement already satisfied: urllib3<3,>=1.21.1 in /usr/local/lib/python3.11/dist-packages (from requests<3,>=2.21.0->tensorflow) (2.4.0)\n",
            "Requirement already satisfied: certifi>=2017.4.17 in /usr/local/lib/python3.11/dist-packages (from requests<3,>=2.21.0->tensorflow) (2025.4.26)\n",
            "Requirement already satisfied: joblib>=1.2.0 in /usr/local/lib/python3.11/dist-packages (from scikit-learn>=0.22.2->adversarial-robustness-toolbox) (1.4.2)\n",
            "Requirement already satisfied: threadpoolctl>=3.1.0 in /usr/local/lib/python3.11/dist-packages (from scikit-learn>=0.22.2->adversarial-robustness-toolbox) (3.6.0)\n",
            "Requirement already satisfied: markdown>=2.6.8 in /usr/local/lib/python3.11/dist-packages (from tensorboard<2.19,>=2.18->tensorflow) (3.8)\n",
            "Requirement already satisfied: tensorboard-data-server<0.8.0,>=0.7.0 in /usr/local/lib/python3.11/dist-packages (from tensorboard<2.19,>=2.18->tensorflow) (0.7.2)\n",
            "Requirement already satisfied: werkzeug>=1.0.1 in /usr/local/lib/python3.11/dist-packages (from tensorboard<2.19,>=2.18->tensorflow) (3.1.3)\n",
            "Requirement already satisfied: MarkupSafe>=2.1.1 in /usr/local/lib/python3.11/dist-packages (from werkzeug>=1.0.1->tensorboard<2.19,>=2.18->tensorflow) (3.0.2)\n",
            "Requirement already satisfied: markdown-it-py>=2.2.0 in /usr/local/lib/python3.11/dist-packages (from rich->keras>=3.5.0->tensorflow) (3.0.0)\n",
            "Requirement already satisfied: pygments<3.0.0,>=2.13.0 in /usr/local/lib/python3.11/dist-packages (from rich->keras>=3.5.0->tensorflow) (2.19.1)\n",
            "Requirement already satisfied: mdurl~=0.1 in /usr/local/lib/python3.11/dist-packages (from markdown-it-py>=2.2.0->rich->keras>=3.5.0->tensorflow) (0.1.2)\n"
          ]
        }
      ],
      "source": [
        "# Установка необходимых пакетов\n",
        "!pip install adversarial-robustness-toolbox tensorflow matplotlib\n",
        "\n",
        "# Импортирование необходимых библиотек\n",
        "import numpy as np  # Библиотека для работы с массивами и матрицами\n",
        "import tensorflow as tf  # Библиотека для машинного обучения и глубокого обучения\n",
        "import matplotlib.pyplot as plt  # Библиотека для визуализации данных\n",
        "from tensorflow.keras.datasets import mnist  # Импортирование MNIST датасета из Keras\n",
        "from tensorflow.keras.models import Sequential  # Импортирование класса Sequential для создания моделей\n",
        "from tensorflow.keras.layers import Dense, Flatten, Conv2D, MaxPooling2D  # Импортирование слоев для построения нейронной сети\n",
        "from tensorflow.keras.utils import to_categorical  # Утилита для преобразования меток в категориальный формат\n",
        "from tensorflow import keras  # Импортирование Keras для работы с моделями\n",
        "from art.estimators.classification import KerasClassifier  # Импортирование KerasClassifier из ART для работы с Keras моделями\n",
        "from art.attacks.evasion import FastGradientMethod  # Импортирование метода FGSM для создания состязательных примеров\n",
        "from art.utils import load_mnist  # Утилита для загрузки MNIST датасета\n",
        "from art.estimators.classification import TensorFlowV2Classifier  # Импортирование TensorFlowV2Classifier для работы с TensorFlow 2.x\n",
        "from art.attacks.evasion import FastGradientMethod  # Повторный импорт метода FGSM (можно удалить дублирование)\n"
      ]
    },
    {
      "cell_type": "markdown",
      "metadata": {
        "id": "YrX2liR2mw78"
      },
      "source": [
        "Загружаем набор данных MNIST, который содержит изображения рукописных цифр и соответствующие метки классов.\n",
        "Функция load_data() возвращает два кортежа: один для обучающего набора данных и один для тестового\n",
        "\n",
        "x_train: массив изображений (60,000 изображений размером 28x28 пикселей), которые будут использоваться для обучения модели.\n",
        "\n",
        "y_train: массив меток (60,000 меток), соответствующих цифрам на изображениях в x_train. Метки представляют собой целые числа от 0 до 9.\n",
        "\n",
        "x_test: массив изображений (10,000 изображений размером 28x28 пикселей), которые будут использоваться для тестирования модели.\n",
        "\n",
        "y_test: массив меток (10,000 меток), соответствующих цифрам на изображениях в x_test."
      ]
    },
    {
      "cell_type": "code",
      "execution_count": 30,
      "metadata": {
        "id": "LJNSqvjvEHSb"
      },
      "outputs": [],
      "source": [
        "(x_train, y_train), (x_test, y_test) = mnist.load_data()\n"
      ]
    },
    {
      "cell_type": "markdown",
      "metadata": {
        "id": "XQb9XGSgnfpK"
      },
      "source": [
        "x_train.reshape(-1, 28, 28, 1):\n",
        "Этот код изменяет форму массива x_train, который изначально имеет размерность (60000, 28, 28), на (60000, 28, 28, 1).\n",
        "\n",
        "Здесь -1 позволяет NumPy автоматически вычислить размер первого измерения (количество изображений), а 1 добавляет дополнительное измерение для канала (в данном случае, это канал для оттенков серого, так как изображения черно-белые).\n",
        "\n",
        "astype('float32'): преобразует данные в тип float32, что является стандартом для работы с нейронными сетями, так как это позволяет ускорить вычисления и уменьшить использование памяти.\n",
        "\n",
        "/ 255.0: нормализует значения пикселей, которые изначально находятся в диапазоне от 0 до 255, к диапазону от 0 до 1. Это помогает улучшить сходимость модели во время обучения.\n",
        "\n",
        "to_categorical(y_train, 10): преобразует метки классов (например, 0, 1, 2, ..., 9) в категориальный формат (one-hot encoding). Это означает, что каждая метка будет представлена в виде вектора, где индекс, соответствующий классу, будет равен 1, а остальные индексы будут равны 0. Например, метка 3 будет представлена как [0, 0, 0, 1, 0, 0, 0, 0, 0, 0].\n",
        "\n",
        "В наборе данных MNIST содержится 10 классов, соответствующих цифрам от 0 до 9. Каждая метка в y_train представляет собой целое число, указывающее на класс (например, 0 для цифры \"0\", 1 для \"1\" и так далее до 9).\n"
      ]
    },
    {
      "cell_type": "code",
      "execution_count": 31,
      "metadata": {
        "id": "J1ko-UqQE_GT"
      },
      "outputs": [],
      "source": [
        "# Изменение формы обучающего набора данных\n",
        "x_train = x_train.reshape(-1, 28, 28, 1).astype('float32') / 255.0\n",
        "# Изменение формы тестового набора данных\n",
        "x_test = x_test.reshape(-1, 28, 28, 1).astype('float32') / 255.0\n",
        "\n",
        "# Преобразование меток классов в категориальный формат для многоклассовой классификации\n",
        "y_train = to_categorical(y_train, 10)\n",
        "y_test = to_categorical(y_test, 10)\n"
      ]
    },
    {
      "cell_type": "markdown",
      "metadata": {
        "id": "B383nCUtor8N"
      },
      "source": [
        "Создание CNN (сверточной нейронной сети) модели\n",
        "\n",
        "Сверточный слой (Conv2D):\n",
        "\n",
        "Извлекает признаки из изображений\n",
        "\n",
        "32 фильтра размером 3x3\n",
        "\n",
        "Функция активации ReLU для нелинейности\n",
        "\n",
        "Слой подвыборки (MaxPooling2D):\n",
        "\n",
        "Уменьшает пространственные размерности\n",
        "\n",
        "Помогает уменьшить вычислительную сложность\n",
        "\n",
        "Сохраняет наиболее важные признаки\n",
        "\n",
        "Flatten слой:\n",
        "\n",
        "Преобразует многомерный тензор в одномерный вектор\n",
        "\n",
        "Подготавливает данные для полносвязных слоев\n",
        "\n",
        "Полносвязные слои (Dense):\n",
        "\n",
        "Первый слой с 64 нейронами для дополнительной обработки признаков\n",
        "\n",
        "Выходной слой с 10 нейронами (по количеству цифр)\n",
        "\n",
        "Softmax активация для получения вероятностей классов\n",
        "\n",
        "Компиляция модели\n",
        "\n",
        "Оптимизатор Adam: адаптивный метод оптимизации\n",
        "\n",
        "Функция потерь categorical_crossentropy: для многоклассовой классификации\n",
        "\n",
        "Метрика accuracy: измерение точности классификации\n",
        "\n",
        "Этот код создает простую, но эффективную CNN модель для распознавания\n",
        "\n",
        "рукописных цифр из набора MNIST."
      ]
    },
    {
      "cell_type": "code",
      "execution_count": 33,
      "metadata": {
        "id": "LiucWx_Vbw5X"
      },
      "outputs": [],
      "source": [
        "def create_model():\n",
        "    # Создание последовательной модели с несколькими слоями\n",
        "    model = Sequential([\n",
        "        # Первый сверточный слой:\n",
        "        # - 32 фильтра размером 3x3\n",
        "        # - функция активации ReLU\n",
        "        # - входная форма изображения 28x28x1 (черно-белое изображение)\n",
        "        Conv2D(32, (3, 3), activation='relu', input_shape=(28, 28, 1)),\n",
        "\n",
        "        # Слой максимальной pooling для уменьшения пространственных размерностей\n",
        "        # Уменьшает размер изображения в 2 раза\n",
        "        MaxPooling2D((2, 2)),\n",
        "\n",
        "        # Преобразование многомерного тензора в одномерный вектор\n",
        "        Flatten(),\n",
        "\n",
        "        # Полносвязный слой с 64 нейронами и ReLU активацией\n",
        "        # Извлекает признаки для классификации\n",
        "        Dense(64, activation='relu'),\n",
        "\n",
        "        # Выходной слой с 10 нейронами (по количеству цифр)\n",
        "        # Softmax для получения вероятностей классов\n",
        "        Dense(10, activation='softmax')\n",
        "    ])\n",
        "\n",
        "    # Компиляция модели с параметрами обучения:\n",
        "    # - оптимизатор Adam\n",
        "    # - функция потерь для многоклассовой классификации\n",
        "    # - метрика точности\n",
        "    model.compile(optimizer='adam',\n",
        "                 loss='categorical_crossentropy',\n",
        "                 metrics=['accuracy'])\n",
        "\n",
        "    # Возврат скомпилированной модели\n",
        "    return model\n"
      ]
    },
    {
      "cell_type": "code",
      "execution_count": 34,
      "metadata": {
        "colab": {
          "base_uri": "https://localhost:8080/"
        },
        "id": "bHNDv2AocRvG",
        "outputId": "046ccbf7-73db-400f-e5dc-a857bf7521cb"
      },
      "outputs": [
        {
          "name": "stderr",
          "output_type": "stream",
          "text": [
            "/usr/local/lib/python3.11/dist-packages/keras/src/layers/convolutional/base_conv.py:107: UserWarning: Do not pass an `input_shape`/`input_dim` argument to a layer. When using Sequential models, prefer using an `Input(shape)` object as the first layer in the model instead.\n",
            "  super().__init__(activity_regularizer=activity_regularizer, **kwargs)\n"
          ]
        },
        {
          "name": "stdout",
          "output_type": "stream",
          "text": [
            "Epoch 1/3\n",
            "\u001b[1m422/422\u001b[0m \u001b[32m━━━━━━━━━━━━━━━━━━━━\u001b[0m\u001b[37m\u001b[0m \u001b[1m24s\u001b[0m 54ms/step - accuracy: 0.8481 - loss: 0.5523 - val_accuracy: 0.9720 - val_loss: 0.1017\n",
            "Epoch 2/3\n",
            "\u001b[1m422/422\u001b[0m \u001b[32m━━━━━━━━━━━━━━━━━━━━\u001b[0m\u001b[37m\u001b[0m \u001b[1m42s\u001b[0m 56ms/step - accuracy: 0.9729 - loss: 0.0933 - val_accuracy: 0.9820 - val_loss: 0.0689\n",
            "Epoch 3/3\n",
            "\u001b[1m422/422\u001b[0m \u001b[32m━━━━━━━━━━━━━━━━━━━━\u001b[0m\u001b[37m\u001b[0m \u001b[1m25s\u001b[0m 60ms/step - accuracy: 0.9822 - loss: 0.0613 - val_accuracy: 0.9845 - val_loss: 0.0540\n"
          ]
        }
      ],
      "source": [
        "# Обучение модели\n",
        "model = create_model()  # Создание экземпляра модели, используя функцию create_model()\n",
        "\n",
        "# Обучение модели на обучающем наборе данных\n",
        "history = model.fit(x_train, y_train,\n",
        "                   epochs=3,  # Количество эпох (полных проходов по обучающим данным)\n",
        "                   batch_size=128,  # Размер пакета (количество образцов, обрабатываемых одновременно)\n",
        "                   validation_split=0.1,  # Доля данных, используемая для валидации (10% от обучающего набора)\n",
        "                   verbose=1)  # Уровень вывода информации о процессе обучения (1 - выводить прогресс)\n"
      ]
    },
    {
      "cell_type": "markdown",
      "metadata": {
        "id": "HABn-IFgpseZ"
      },
      "source": [
        "Классификатор позволяет применять различные атаки и методы защиты к модели"
      ]
    },
    {
      "cell_type": "code",
      "execution_count": 35,
      "metadata": {
        "id": "6kqL8nd3cmB0"
      },
      "outputs": [],
      "source": [
        "# Создание классификатора ART для модели TensorFlow\n",
        "art_classifier = TensorFlowV2Classifier(\n",
        "    model=model,  # Передача ранее созданной модели TensorFlow\n",
        "    nb_classes=10,  # Количество классов (в данном случае 10, так как мы классифицируем цифры от 0 до 9)\n",
        "    input_shape=(28, 28, 1),  # Форма входных данных (изображения 28x28 пикселей с 1 цветовым каналом)\n",
        "    clip_values=(0, 1),  # Значения, на которые будут ограничены пиксели (в данном случае от 0 до 1 после нормализации)\n",
        "    loss_object=tf.keras.losses.CategoricalCrossentropy(from_logits=False),  # Функция потерь для многоклассовой классификации\n",
        "    channels_first=False  # Указывает, что порядок каналов в данных - \"последовательный\", а не \"первый\"\n",
        ")\n"
      ]
    },
    {
      "cell_type": "markdown",
      "metadata": {
        "id": "piHBa84xqfEu"
      },
      "source": [
        "Создаем экземпляр атаки FGSM\n",
        "\n",
        "estimator=art_classifier: передает ранее созданный классификатор ART, который будет использоваться для генерации состязательных примеров.\n",
        "\n",
        "eps=0.1: задает величину искажения, которое будет добавлено к входным данным. Это значение определяет, насколько сильно будут изменены пиксели изображений для создания состязательных примеров. Чем больше значение eps, тем более агрессивной будет атака."
      ]
    },
    {
      "cell_type": "code",
      "execution_count": 53,
      "metadata": {
        "id": "jy6Uf0IEgJWm"
      },
      "outputs": [],
      "source": [
        "# Создание атаки FGSM с использованием классификатора ART\n",
        "attack_fgsm = FastGradientMethod(estimator=art_classifier, eps=0.1)\n",
        "\n",
        "# Генерация состязательных примеров на тестовом наборе данных\n",
        "x_test_adv = attack_fgsm.generate(x_test)\n"
      ]
    },
    {
      "cell_type": "markdown",
      "metadata": {
        "id": "jxu_udN-roQw"
      },
      "source": [
        "Состязательные примеры (или adversarial examples) — это специально измененные входные данные"
      ]
    },
    {
      "cell_type": "code",
      "execution_count": 37,
      "metadata": {
        "colab": {
          "base_uri": "https://localhost:8080/"
        },
        "id": "sNWUWocggYVz",
        "outputId": "3d627e5c-c99d-4e6a-dd02-547992b38ac5"
      },
      "outputs": [
        {
          "name": "stdout",
          "output_type": "stream",
          "text": [
            "Точность на adversarial данных: 0.6050\n"
          ]
        }
      ],
      "source": [
        "\n",
        "loss_adv, adv_acc = model.evaluate(x_test_adv, y_test, verbose=0)\n",
        "#Значение 0 означает, что не будет выводиться никакой информации во время оценки.\n",
        "print(f\"Точность на adversarial данных: {adv_acc:.4f}\")"
      ]
    },
    {
      "cell_type": "markdown",
      "metadata": {
        "id": "yqKiAqiysL8B"
      },
      "source": [
        "Функция предназначена для визуализации изображений и их заголовков. Она принимает массив изображений, заголовки, количество изображений для отображения и цветовую карту.\n",
        "\n",
        "Внутри функции создается фигура, и для каждого изображения создается подграфик, где изображение отображается с соответствующим заголовком.\n",
        "\n",
        "Выбор случайных примеров:\n",
        "sample_idx = np.random.choice(len(x_test_adv), 5): выбирает 5 случайных индексов из тестового набора состязательных изображений для дальнейшей визуализации.\n",
        "\n",
        "Предсказания модели:\n",
        "clean_preds и adv_preds: вычисляют предсказания модели для оригинальных и состязательных изображений соответственно, используя метод predict. np.argmax используется для получения индекса класса с наибольшей вероятностью."
      ]
    },
    {
      "cell_type": "code",
      "execution_count": 43,
      "metadata": {
        "colab": {
          "base_uri": "https://localhost:8080/",
          "height": 876
        },
        "id": "16tD_JkYjy_q",
        "outputId": "5bfa5c9f-47ea-430f-d77b-b4e526cdea44"
      },
      "outputs": [
        {
          "name": "stdout",
          "output_type": "stream",
          "text": [
            "\u001b[1m1/1\u001b[0m \u001b[32m━━━━━━━━━━━━━━━━━━━━\u001b[0m\u001b[37m\u001b[0m \u001b[1m0s\u001b[0m 43ms/step\n",
            "\u001b[1m1/1\u001b[0m \u001b[32m━━━━━━━━━━━━━━━━━━━━\u001b[0m\u001b[37m\u001b[0m \u001b[1m0s\u001b[0m 41ms/step\n",
            "\n",
            "Примеры оригинальных изображений:\n"
          ]
        },
        {
          "data": {
            "image/png": "[encoded data removed]",
            "text/plain": [
              "<Figure size 1500x300 with 5 Axes>"
            ]
          },
          "metadata": {},
          "output_type": "display_data"
        },
        {
          "name": "stdout",
          "output_type": "stream",
          "text": [
            "\n",
            "Примеры adversarial изображений:\n"
          ]
        },
        {
          "data": {
            "image/png": "[encoded data removed]",
            "text/plain": [
              "<Figure size 1500x300 with 5 Axes>"
            ]
          },
          "metadata": {},
          "output_type": "display_data"
        },
        {
          "name": "stdout",
          "output_type": "stream",
          "text": [
            "\n",
            "Визуализация возмущений:\n"
          ]
        },
        {
          "data": {
            "image/png": "[encoded data removed]",
            "text/plain": [
              "<Figure size 1500x300 with 5 Axes>"
            ]
          },
          "metadata": {},
          "output_type": "display_data"
        }
      ],
      "source": [
        "# 8. Визуализация результатов\n",
        "def plot_samples(images, titles, n=5, cmap='gray'):\n",
        "    # Создание фигуры для отображения изображений\n",
        "    plt.figure(figsize=(15, 3))\n",
        "    for i in range(n):\n",
        "        # Создание подграфика для каждого изображения\n",
        "        plt.subplot(1, n, i+1)\n",
        "        # Отображение изображения с заданной цветовой картой\n",
        "        plt.imshow(images[i].reshape(28, 28), cmap=cmap)\n",
        "        # Установка заголовка для подграфика\n",
        "        plt.title(titles[i])\n",
        "        # Отключение осей для более чистого отображения\n",
        "        plt.axis('off')\n",
        "    plt.tight_layout()  # Автоматическая настройка отступов\n",
        "    plt.show()  # Отображение фигуры\n",
        "\n",
        "# Выбираем случайные примеры из тестового набора состязательных изображений\n",
        "sample_idx = np.random.choice(len(x_test_adv), 5)\n",
        "\n",
        "# Предсказания модели на оригинальных изображениях\n",
        "clean_preds = np.argmax(model.predict(x_test[sample_idx]), axis=1)\n",
        "# Предсказания модели на состязательных изображениях\n",
        "adv_preds = np.argmax(model.predict(x_test_adv[sample_idx]), axis=1)\n",
        "\n",
        "# Вывод оригинальных изображений и их предсказаний\n",
        "print(\"\\nПримеры оригинальных изображений:\")\n",
        "plot_samples(x_test[sample_idx], [f\"Предсказание: {p}\" for p in clean_preds])\n",
        "\n",
        "# Вывод состязательных изображений и их предсказаний\n",
        "print(\"\\nПримеры adversarial изображений:\")\n",
        "plot_samples(x_test_adv[sample_idx], [f\"Предсказание: {p}\" for p in adv_preds])\n",
        "\n",
        "# Визуализация разницы между оригинальными и состязательными изображениями\n",
        "print(\"\\nВизуализация возмущений:\")\n",
        "plot_samples(x_test_adv[sample_idx] - x_test[sample_idx],\n",
        "            [\"Разница\"]*5,\n",
        "            cmap='seismic')\n"
      ]
    },
    {
      "cell_type": "markdown",
      "metadata": {
        "id": "ZA6z9Dortb2Y"
      },
      "source": [
        "x_train_adv = attack_fgsm.generate(x_train[:5000]): создает состязательные примеры для первых 5000 изображений из обучающего набора данных с использованием метода FGSM. Это позволяет создать искаженные версии оригинальных изображений, которые будут использоваться для обучения модели.\n",
        "\n",
        "Объединение данных:\n",
        "x_train_mixed = np.concatenate([x_train[:5000], x_train_adv]): объединяет оригинальные изображения и их состязательные версии в один набор данных для обучения.\n",
        "\n",
        "y_train_mixed = np.concatenate([y_train[:5000], y_train[:5000]]): объединяет метки классов для оригинальных и состязательных изображений. Поскольку метки для состязательных примеров такие же, как и для оригинальных, они дублируются.\n",
        "\n",
        "Создание новой модели:\n",
        "model_robust = create_model(): создает новую модель, которая будет обучаться на смешанном наборе данных.\n",
        "\n",
        "Обучение модели:\n",
        "history_robust = model_robust.fit(...): обучает модель на смешанном наборе данных, используя метод fit.\n",
        "\n",
        "Параметры:\n",
        "epochs=3: модель будет проходить через весь набор данных 3 раза.\n",
        "batch_size=128: размер пакета, который будет использоваться для обучения.\n",
        "validation_split=0.1: 10% данных будет использоваться для валидации, что позволяет отслеживать производительность модели на данных, которые она не видела во время обучения.\n",
        "verbose=1: выводит информацию о процессе обучения."
      ]
    },
    {
      "cell_type": "code",
      "execution_count": 44,
      "metadata": {
        "colab": {
          "base_uri": "https://localhost:8080/"
        },
        "id": "QE0BnY-OkLfT",
        "outputId": "30ba4d06-95e9-4ee3-dcbd-3256ebf5e93c"
      },
      "outputs": [
        {
          "name": "stdout",
          "output_type": "stream",
          "text": [
            "\n",
            "Adversarial Training...\n",
            "Epoch 1/3\n",
            "\u001b[1m71/71\u001b[0m \u001b[32m━━━━━━━━━━━━━━━━━━━━\u001b[0m\u001b[37m\u001b[0m \u001b[1m5s\u001b[0m 55ms/step - accuracy: 0.7099 - loss: 1.1911 - val_accuracy: 0.9270 - val_loss: 0.2499\n",
            "Epoch 2/3\n",
            "\u001b[1m71/71\u001b[0m \u001b[32m━━━━━━━━━━━━━━━━━━━━\u001b[0m\u001b[37m\u001b[0m \u001b[1m5s\u001b[0m 55ms/step - accuracy: 0.9314 - loss: 0.2447 - val_accuracy: 0.9610 - val_loss: 0.1621\n",
            "Epoch 3/3\n",
            "\u001b[1m71/71\u001b[0m \u001b[32m━━━━━━━━━━━━━━━━━━━━\u001b[0m\u001b[37m\u001b[0m \u001b[1m5s\u001b[0m 53ms/step - accuracy: 0.9598 - loss: 0.1546 - val_accuracy: 0.9770 - val_loss: 0.1014\n"
          ]
        }
      ],
      "source": [
        "#Adversarial Training (защита)\n",
        "print(\"\\nAdversarial Training...\")\n",
        "\n",
        "# Генерация состязательных примеров для небольшого подмножества обучающих данных (5000 изображений)\n",
        "x_train_adv = attack_fgsm.generate(x_train[:5000])  # Используем FGSM для создания состязательных примеров\n",
        "\n",
        "# Объединение оригинальных и состязательных изображений в один набор данных\n",
        "x_train_mixed = np.concatenate([x_train[:5000], x_train_adv])\n",
        "# Объединение меток классов для оригинальных и состязательных изображений\n",
        "y_train_mixed = np.concatenate([y_train[:5000], y_train[:5000]])\n",
        "\n",
        "# Создание новой модели для обучения\n",
        "model_robust = create_model()\n",
        "\n",
        "# Обучение модели на смешанном наборе данных (оригинальные и состязательные примеры)\n",
        "history_robust = model_robust.fit(x_train_mixed, y_train_mixed,\n",
        "                                epochs=3,  # Количество эпох обучения\n",
        "                                batch_size=128,  # Размер пакета для обучения\n",
        "                                validation_split=0.1,  # Доля данных для валидации (10%)\n",
        "                                verbose=1)  # Уровень вывода информации о процессе обучения\n"
      ]
    },
    {
      "cell_type": "code",
      "execution_count": 51,
      "metadata": {
        "colab": {
          "base_uri": "https://localhost:8080/"
        },
        "id": "jRyxTI6gkpEG",
        "outputId": "86b12176-522e-4152-f5f7-ca4d8a3fc7c7"
      },
      "outputs": [
        {
          "name": "stdout",
          "output_type": "stream",
          "text": [
            "\n",
            "Сравнение точности:\n",
            "Оригинальная модель (adversarial): 0.6050\n",
            "Защищенная модель (adversarial): 0.9550\n"
          ]
        }
      ],
      "source": [
        "#Оценка защищенной модели\n",
        "\n",
        "# Оценка точности оригинальной модели\n",
        "_, robust_clean_acc = model_robust.evaluate(x_test, y_test, verbose=0)\n",
        "\n",
        "# Оценка точности защищенной модели\n",
        "_, robust_adv_acc = model_robust.evaluate(x_test_adv, y_test, verbose=0)\n",
        "\n",
        "# Вывод сравнения точности\n",
        "print(\"\\nСравнение точности:\")\n",
        "\n",
        "print(f\"Оригинальная модель (adversarial): {adv_acc:.4f}\")\n",
        "\n",
        "print(f\"Защищенная модель (adversarial): {robust_adv_acc:.4f}\")\n"
      ]
    }
  ],
  "metadata": {
    "colab": {
      "provenance": []
    },
    "kernelspec": {
      "display_name": "Python 3",
      "name": "python3"
    },
    "language_info": {
      "name": "python"
    }
  },
  "nbformat": 4,
  "nbformat_minor": 0
}
