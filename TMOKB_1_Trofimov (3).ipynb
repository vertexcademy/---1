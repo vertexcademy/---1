{
  "cells": [
    {
      "cell_type": "markdown",
      "metadata": {
        "id": "YSeYMz5xnG9L"
      },
      "source": [
        "#1 Разбиение выборки на обучающую и тестовую\n",
        "01-task-train-test-split\n"
      ]
    },
    {
      "cell_type": "code",
      "execution_count": null,
      "metadata": {},
      "outputs": [],
      "source": []
    },
    {
      "cell_type": "code",
      "execution_count": null,
      "metadata": {
        "id": "Uky0XtZvoLF0"
      },
      "outputs": [],
      "source": [
        "import pandas as pd\n",
        "from sklearn.model_selection import StratifiedShuffleSplit"
      ]
    },
    {
      "cell_type": "code",
      "execution_count": null,
      "metadata": {
        "id": "BThtW-WkmuyZ"
      },
      "outputs": [],
      "source": [
        "# Загружаем датасет\n",
        "file = \"/content/spambase.csv\"\n",
        "df = pd.read_csv(file)\n",
        "\n",
        "# Разделяем на признаки и целевую переменную\n",
        "X = df.drop(\"class\", axis=1)\n",
        "y = df[\"class\"]\n"
      ]
    },
    {
      "cell_type": "code",
      "execution_count": null,
      "metadata": {
        "colab": {
          "base_uri": "https://localhost:8080/"
        },
        "id": "6hmH4yztnpP_",
        "outputId": "902685cb-930a-4371-ace2-eaa2d4b4f000"
      },
      "outputs": [
        {
          "name": "stdout",
          "output_type": "stream",
          "text": [
            "80/20 split:\n",
            "Train class distribution:\n",
            " class\n",
            "0    0.605978\n",
            "1    0.394022\n",
            "Name: proportion, dtype: float64\n",
            "Test class distribution:\n",
            " class\n",
            "0    0.605863\n",
            "1    0.394137\n",
            "Name: proportion, dtype: float64\n"
          ]
        }
      ],
      "source": [
        "sss_80_20 = StratifiedShuffleSplit(n_splits=1, test_size=0.2, random_state=42)\n",
        "\n",
        "for train_index, test_index in sss_80_20.split(X, y):\n",
        "    X_train_80, X_test_20 = X.iloc[train_index], X.iloc[test_index]\n",
        "    y_train_80, y_test_20 = y.iloc[train_index], y.iloc[test_index]\n",
        "\n",
        "print(\"80/20 split:\")\n",
        "print(\"Train class distribution:\\n\", y_train_80.value_counts(normalize=True))\n",
        "print(\"Test class distribution:\\n\", y_test_20.value_counts(normalize=True))\n"
      ]
    },
    {
      "cell_type": "code",
      "execution_count": null,
      "metadata": {
        "colab": {
          "base_uri": "https://localhost:8080/"
        },
        "id": "i83IUg7ynsHm",
        "outputId": "9e24197c-ccc5-42fa-b73b-9f50e41389c6"
      },
      "outputs": [
        {
          "name": "stdout",
          "output_type": "stream",
          "text": [
            "\n",
            "70/30 split:\n",
            "Train class distribution:\n",
            " class\n",
            "0    0.605901\n",
            "1    0.394099\n",
            "Name: proportion, dtype: float64\n",
            "Test class distribution:\n",
            " class\n",
            "0    0.606083\n",
            "1    0.393917\n",
            "Name: proportion, dtype: float64\n"
          ]
        }
      ],
      "source": [
        "sss_70_30 = StratifiedShuffleSplit(n_splits=1, test_size=0.3, random_state=42)\n",
        "\n",
        "for train_index, test_index in sss_70_30.split(X, y):\n",
        "    X_train_70, X_test_30 = X.iloc[train_index], X.iloc[test_index]\n",
        "    y_train_70, y_test_30 = y.iloc[train_index], y.iloc[test_index]\n",
        "\n",
        "print(\"\\n70/30 split:\")\n",
        "print(\"Train class distribution:\\n\", y_train_70.value_counts(normalize=True))\n",
        "print(\"Test class distribution:\\n\", y_test_30.value_counts(normalize=True))\n"
      ]
    },
    {
      "cell_type": "markdown",
      "metadata": {
        "id": "nelR0LH-nQIe"
      },
      "source": [
        "# 2 Нормализация данных\n",
        "02-task-standardize-data"
      ]
    },
    {
      "cell_type": "code",
      "execution_count": null,
      "metadata": {
        "id": "av9ko-NLB8Mm"
      },
      "outputs": [],
      "source": [
        "import pandas as pd\n",
        "from sklearn.model_selection import train_test_split\n",
        "from sklearn.preprocessing import StandardScaler\n",
        "from sklearn.neighbors import KNeighborsClassifier\n",
        "from sklearn.metrics import accuracy_score"
      ]
    },
    {
      "cell_type": "code",
      "execution_count": null,
      "metadata": {
        "id": "FaokQb0yncLW"
      },
      "outputs": [],
      "source": [
        "# Загружаем датасет\n",
        "df = pd.read_csv(\"wine_types.csv\")\n",
        "\n",
        "# Отделяем признаки и целевую переменную\n",
        "X = df.drop(\"Type\", axis=1)\n",
        "y = df[\"Type\"]\n",
        "\n",
        "# Делим на train/test\n",
        "from sklearn.model_selection import train_test_split\n",
        "\n",
        "X_train, X_test, y_train, y_test = train_test_split(\n",
        "    X, y, test_size=0.3, random_state=42\n",
        ")"
      ]
    },
    {
      "cell_type": "markdown",
      "metadata": {
        "id": "Rl9TEDU073e7"
      },
      "source": [
        "Модель k-NN без нормализации"
      ]
    },
    {
      "cell_type": "code",
      "execution_count": null,
      "metadata": {
        "colab": {
          "base_uri": "https://localhost:8080/"
        },
        "id": "9izq64HaB1Wa",
        "outputId": "ccd68474-8439-4b59-a481-eadc48ebc800"
      },
      "outputs": [
        {
          "name": "stdout",
          "output_type": "stream",
          "text": [
            "Accuracy без нормализации: 0.7407407407407407\n"
          ]
        }
      ],
      "source": [
        "knn = KNeighborsClassifier(n_neighbors=5)\n",
        "knn.fit(X_train, y_train)\n",
        "y_pred = knn.predict(X_test)\n",
        "\n",
        "print(\"Accuracy без нормализации:\", accuracy_score(y_test, y_pred))"
      ]
    },
    {
      "cell_type": "markdown",
      "metadata": {
        "id": "QdZZ8rtN74QF"
      },
      "source": [
        "Модель k-NN со стандартизацией"
      ]
    },
    {
      "cell_type": "code",
      "execution_count": null,
      "metadata": {
        "colab": {
          "base_uri": "https://localhost:8080/"
        },
        "id": "vRVOndsrB1iO",
        "outputId": "32d198ac-5e33-494a-f57d-db09f729acb4"
      },
      "outputs": [
        {
          "name": "stdout",
          "output_type": "stream",
          "text": [
            "Accuracy после стандартизации: 0.9629629629629629\n"
          ]
        }
      ],
      "source": [
        "# Стандартизируем данные\n",
        "scaler = StandardScaler()\n",
        "X_train_scaled = scaler.fit_transform(X_train)\n",
        "X_test_scaled = scaler.transform(X_test)\n",
        "\n",
        "knn_scaled = KNeighborsClassifier(n_neighbors=5)\n",
        "knn_scaled.fit(X_train_scaled, y_train)\n",
        "y_pred_scaled = knn_scaled.predict(X_test_scaled)\n",
        "\n",
        "print(\"Accuracy после стандартизации:\", accuracy_score(y_test, y_pred_scaled))"
      ]
    },
    {
      "cell_type": "markdown",
      "metadata": {
        "id": "DrZvo1S_nQfv"
      },
      "source": [
        "# 3 Линейная алгебра\n",
        "03-task-linear-algebra"
      ]
    },
    {
      "cell_type": "code",
      "execution_count": null,
      "metadata": {
        "id": "CUvl8Uhi79lM"
      },
      "outputs": [],
      "source": [
        "import numpy as np\n",
        "import time"
      ]
    },
    {
      "cell_type": "code",
      "execution_count": null,
      "metadata": {
        "colab": {
          "base_uri": "https://localhost:8080/"
        },
        "id": "q2hoNHRZnc_k",
        "outputId": "ee3a5ddf-ec62-48f4-879a-84b158ce9f23"
      },
      "outputs": [
        {
          "name": "stdout",
          "output_type": "stream",
          "text": [
            "Скалярное произведение y:\n",
            "[67 36 29]\n",
            "Поэлементное умножение z:\n",
            "[[ -8  75]\n",
            " [-24  60]\n",
            " [-16  45]]\n"
          ]
        }
      ],
      "source": [
        "# Вектор a\n",
        "a = np.array([-8, 15])\n",
        "\n",
        "# Матрица X\n",
        "X = np.array([\n",
        "    [1, 5],\n",
        "    [3, 4],\n",
        "    [2, 3]\n",
        "])\n",
        "\n",
        "# Скалярное произведение (dot product)\n",
        "y = np.dot(X, a)\n",
        "\n",
        "# Поэлементное умножение\n",
        "z = X * a\n",
        "\n",
        "print(f\"Скалярное произведение y:\\n{y}\")\n",
        "print(f\"Поэлементное умножение z:\\n{z}\")"
      ]
    },
    {
      "cell_type": "markdown",
      "metadata": {
        "id": "qJhjZL5a81dy"
      },
      "source": [
        "Матрица 10×10"
      ]
    },
    {
      "cell_type": "code",
      "execution_count": null,
      "metadata": {
        "colab": {
          "base_uri": "https://localhost:8080/"
        },
        "id": "ILaBKT-f8Ai_",
        "outputId": "3a2177c0-194a-43a8-c890-3b6b4da5656b"
      },
      "outputs": [
        {
          "name": "stdout",
          "output_type": "stream",
          "text": [
            "Матрица A:\n",
            " [[ 0  1  2  3  4  5  6  7  8  9]\n",
            " [10 11 12 13 14 15 16 17 18 19]\n",
            " [20 21 22 23 24 25 26 27 28 29]\n",
            " [30 31 32 33 34 35 36 37 38 39]\n",
            " [40 41 42 43 44 45 46 47 48 49]\n",
            " [50 51 52 53 54 55 56 57 58 59]\n",
            " [60 61 62 63 64 65 66 67 68 69]\n",
            " [70 71 72 73 74 75 76 77 78 79]\n",
            " [80 81 82 83 84 85 86 87 88 89]\n",
            " [90 91 92 93 94 95 96 97 98 99]]\n"
          ]
        }
      ],
      "source": [
        "# Создание матрицы 10x10\n",
        "A = np.arange(100).reshape(10, 10)\n",
        "print(\"Матрица A:\\n\", A)"
      ]
    },
    {
      "cell_type": "markdown",
      "metadata": {
        "id": "iB1uzjKv84eo"
      },
      "source": [
        "Сравнение умножений"
      ]
    },
    {
      "cell_type": "code",
      "execution_count": null,
      "metadata": {
        "colab": {
          "base_uri": "https://localhost:8080/"
        },
        "id": "VsUOc9Ma8DC3",
        "outputId": "685c4ac6-2f99-4ef7-c189-3cf6c51bd747"
      },
      "outputs": [
        {
          "name": "stdout",
          "output_type": "stream",
          "text": [
            "Скалярное произведение (dot): 14\n",
            "Поэлементное умножение: [ 4 10]\n"
          ]
        }
      ],
      "source": [
        "f = np.array([1, 2])\n",
        "g = np.array([4, 5])\n",
        "\n",
        "dot_result = np.dot(f, g)\n",
        "elementwise_result = f * g\n",
        "\n",
        "print(f\"Скалярное произведение (dot): {dot_result}\")\n",
        "print(f\"Поэлементное умножение: {elementwise_result}\")"
      ]
    },
    {
      "cell_type": "markdown",
      "metadata": {
        "id": "TAftLju7HVpW"
      },
      "source": [
        "Задание 1"
      ]
    },
    {
      "cell_type": "code",
      "execution_count": null,
      "metadata": {
        "colab": {
          "base_uri": "https://localhost:8080/"
        },
        "id": "5VzmGP70ED0d",
        "outputId": "972ef6c3-c7d2-4903-f201-1a3d4cb6dade"
      },
      "outputs": [
        {
          "name": "stdout",
          "output_type": "stream",
          "text": [
            "Исходная матрица A:\n",
            " [[1 2 3]\n",
            " [4 5 6]]\n",
            "Транспонирование дважды A.T.T:\n",
            " [[1 2 3]\n",
            " [4 5 6]]\n",
            "Равны ли матрицы: True\n"
          ]
        }
      ],
      "source": [
        "# Исходная матрица A\n",
        "A = np.array([[1, 2, 3],\n",
        "              [4, 5, 6]])\n",
        "\n",
        "# Двойное транспонирование\n",
        "A_t_t = A.T.T\n",
        "\n",
        "# Проверка на равенство\n",
        "print(\"Исходная матрица A:\\n\", A)\n",
        "print(\"Транспонирование дважды A.T.T:\\n\", A_t_t)\n",
        "print(\"Равны ли матрицы:\", np.array_equal(A, A_t_t))"
      ]
    },
    {
      "cell_type": "markdown",
      "metadata": {
        "id": "BIuxs5RlHuZy"
      },
      "source": [
        "Задание 2"
      ]
    },
    {
      "cell_type": "code",
      "execution_count": null,
      "metadata": {
        "colab": {
          "base_uri": "https://localhost:8080/"
        },
        "id": "Fsl14dTSH977",
        "outputId": "8e0a0044-6575-413b-b3e7-a1c7c51c278e"
      },
      "outputs": [
        {
          "name": "stdout",
          "output_type": "stream",
          "text": [
            "Левая часть (A + B).T:\n",
            " [[ 6 10]\n",
            " [ 8 12]]\n",
            "Правая часть A.T + B.T:\n",
            " [[ 6 10]\n",
            " [ 8 12]]\n",
            "Равны ли они: True\n"
          ]
        }
      ],
      "source": [
        "# Две матрицы одинакового размера\n",
        "A = np.array([[1, 2],\n",
        "              [3, 4]])\n",
        "B = np.array([[5, 6],\n",
        "              [7, 8]])\n",
        "\n",
        "# Левая часть уравнения\n",
        "left = (A + B).T\n",
        "\n",
        "# Правая часть уравнения\n",
        "right = A.T + B.T\n",
        "\n",
        "# Проверка\n",
        "print(\"Левая часть (A + B).T:\\n\", left)\n",
        "print(\"Правая часть A.T + B.T:\\n\", right)\n",
        "print(\"Равны ли они:\", np.array_equal(left, right))"
      ]
    },
    {
      "cell_type": "markdown",
      "metadata": {
        "id": "uM8FCQV2HyIA"
      },
      "source": [
        "Задание 3"
      ]
    },
    {
      "cell_type": "code",
      "execution_count": null,
      "metadata": {
        "colab": {
          "base_uri": "https://localhost:8080/"
        },
        "id": "BdZLLng6H9rw",
        "outputId": "ab05ad4d-cee4-442c-af9a-c4280c2b1e74"
      },
      "outputs": [
        {
          "name": "stdout",
          "output_type": "stream",
          "text": [
            "Сумма A + A.T:\n",
            " [[ 2  7  7]\n",
            " [ 7 10 11]\n",
            " [ 7 11 12]]\n",
            "Транспонированная сумма:\n",
            " [[ 2  7  7]\n",
            " [ 7 10 11]\n",
            " [ 7 11 12]]\n",
            "Симметрична ли S: True\n"
          ]
        }
      ],
      "source": [
        "# Квадратная матрица A\n",
        "A = np.array([[1, 7, 3],\n",
        "              [0, 5, 9],\n",
        "              [4, 2, 6]])\n",
        "\n",
        "S = A + A.T  # Сумма A и A^T\n",
        "print(\"Сумма A + A.T:\\n\", S)\n",
        "\n",
        "# Проверка симметричности\n",
        "print(\"Транспонированная сумма:\\n\", S.T)\n",
        "print(\"Симметрична ли S:\", np.array_equal(S, S.T))"
      ]
    },
    {
      "cell_type": "markdown",
      "metadata": {
        "id": "wPnjg8tdHzfP"
      },
      "source": [
        "Задание 4"
      ]
    },
    {
      "cell_type": "code",
      "execution_count": null,
      "metadata": {
        "colab": {
          "base_uri": "https://localhost:8080/"
        },
        "id": "ELb1sbxZH9eL",
        "outputId": "bf29b8d8-71c2-4cd4-83c6-a2f17069252d"
      },
      "outputs": [
        {
          "name": "stdout",
          "output_type": "stream",
          "text": [
            "Форма тензора x: (2, 3, 4)\n",
            "len(x): 2\n",
            "(3, 4)\n",
            "(3, 4)\n"
          ]
        }
      ],
      "source": [
        "x = np.zeros((2, 3, 4))\n",
        "\n",
        "print(\"Форма тензора x:\", x.shape)\n",
        "print(\"len(x):\", len(x))\n",
        "\n",
        "print(x[0].shape)  # (3, 4)\n",
        "print(x[1].shape)  # (3, 4)"
      ]
    },
    {
      "cell_type": "markdown",
      "metadata": {
        "id": "om00OMLSH0yV"
      },
      "source": [
        "Задание 5"
      ]
    },
    {
      "cell_type": "code",
      "execution_count": null,
      "metadata": {
        "colab": {
          "base_uri": "https://localhost:8080/"
        },
        "id": "Wb7rdMu0H9Sc",
        "outputId": "b8bf4133-5056-4408-ebef-4b2e57711794"
      },
      "outputs": [
        {
          "name": "stdout",
          "output_type": "stream",
          "text": [
            "Форма: (10,), len(x): 10, x.shape[0]: 10\n",
            "Форма: (3, 5), len(x): 3, x.shape[0]: 3\n",
            "Форма: (2, 4, 6), len(x): 2, x.shape[0]: 2\n",
            "Форма: (1, 1, 1, 1), len(x): 1, x.shape[0]: 1\n"
          ]
        }
      ],
      "source": [
        "for shape in [(10,), (3, 5), (2, 4, 6), (1, 1, 1, 1)]:\n",
        "    x = np.zeros(shape)\n",
        "    print(f\"Форма: {shape}, len(x): {len(x)}, x.shape[0]: {x.shape[0]}\")"
      ]
    },
    {
      "cell_type": "markdown",
      "metadata": {
        "id": "iOUnHGzLH2Cr"
      },
      "source": [
        "Задание 6"
      ]
    },
    {
      "cell_type": "code",
      "execution_count": null,
      "metadata": {
        "colab": {
          "base_uri": "https://localhost:8080/"
        },
        "id": "YV6KErs-H9Bb",
        "outputId": "8f8d8830-c35d-4b59-d1c1-912ff33a36eb"
      },
      "outputs": [
        {
          "name": "stdout",
          "output_type": "stream",
          "text": [
            "Исходная матрица A:\n",
            " [[1 2 3]\n",
            " [4 5 6]]\n",
            "Сумма по строкам:\n",
            " [[ 6]\n",
            " [15]]\n",
            "Результат A / A.sum(axis=1):\n",
            " [[0.16666667 0.33333333 0.5       ]\n",
            " [0.26666667 0.33333333 0.4       ]]\n"
          ]
        }
      ],
      "source": [
        "A = np.array([\n",
        "    [1, 2, 3],\n",
        "    [4, 5, 6]\n",
        "])\n",
        "\n",
        "row_sums = A.sum(axis=1, keepdims=True)  # сохраняем размерность для корректного деления\n",
        "normalized = A / row_sums\n",
        "\n",
        "print(\"Исходная матрица A:\\n\", A)\n",
        "print(\"Сумма по строкам:\\n\", row_sums)\n",
        "print(\"Результат A / A.sum(axis=1):\\n\", normalized)"
      ]
    },
    {
      "cell_type": "markdown",
      "metadata": {
        "id": "gdGxYDwXH3M0"
      },
      "source": [
        "Задание 7"
      ]
    },
    {
      "cell_type": "code",
      "execution_count": null,
      "metadata": {
        "colab": {
          "base_uri": "https://localhost:8080/"
        },
        "id": "naA2U1tTH80a",
        "outputId": "84b732b4-460a-498e-d5ef-92a0a5418628"
      },
      "outputs": [
        {
          "name": "stdout",
          "output_type": "stream",
          "text": [
            "Исходная форма: (2, 3, 4)\n",
            "Сумма по axis=0: (3, 4)\n",
            "Сумма по axis=1: (2, 4)\n",
            "Сумма по axis=2: (2, 3)\n"
          ]
        }
      ],
      "source": [
        "import numpy as np\n",
        "\n",
        "x = np.ones((2, 3, 4))  # или np.random.rand(...)\n",
        "\n",
        "print(\"Исходная форма:\", x.shape)\n",
        "print(\"Сумма по axis=0:\", x.sum(axis=0).shape)\n",
        "print(\"Сумма по axis=1:\", x.sum(axis=1).shape)\n",
        "print(\"Сумма по axis=2:\", x.sum(axis=2).shape)"
      ]
    },
    {
      "cell_type": "markdown",
      "metadata": {
        "id": "uZf3kjbjH4Zb"
      },
      "source": [
        "Задание 8"
      ]
    },
    {
      "cell_type": "code",
      "execution_count": null,
      "metadata": {
        "colab": {
          "base_uri": "https://localhost:8080/"
        },
        "id": "uJpqTi7JH8kg",
        "outputId": "6d32d55f-5e85-4294-a416-e3f09f0a899e"
      },
      "outputs": [
        {
          "name": "stdout",
          "output_type": "stream",
          "text": [
            "Форма тензора: (2, 3, 4)\n",
            "Норма тензора: 2.838079536187457\n"
          ]
        }
      ],
      "source": [
        "# Тензор размерности (2, 3, 4)\n",
        "x = np.random.rand(2, 3, 4)\n",
        "\n",
        "norm = np.linalg.norm(x)\n",
        "\n",
        "print(\"Форма тензора:\", x.shape)\n",
        "print(\"Норма тензора:\", norm)"
      ]
    },
    {
      "cell_type": "markdown",
      "metadata": {
        "id": "xGhRocfXH5jH"
      },
      "source": [
        "Задание 9"
      ]
    },
    {
      "cell_type": "code",
      "execution_count": null,
      "metadata": {
        "colab": {
          "base_uri": "https://localhost:8080/"
        },
        "id": "A_nboS4lH8Rf",
        "outputId": "57c28fb9-546d-450a-c1ea-e5fe5c8d3156"
      },
      "outputs": [
        {
          "name": "stdout",
          "output_type": "stream",
          "text": [
            "Время (AB)C: 0.001762 сек\n",
            "Время A(BC): 0.001213 сек\n",
            "Результаты идентичны: True\n"
          ]
        }
      ],
      "source": [
        "# Матрицы\n",
        "A = np.random.randn(210, 216)\n",
        "B = np.random.randn(216, 25)\n",
        "C = np.random.randn(25, 214)\n",
        "\n",
        "# AB -> C\n",
        "start1 = time.time()\n",
        "result1 = np.dot(np.dot(A, B), C)\n",
        "end1 = time.time()\n",
        "\n",
        "# A -> BC\n",
        "start2 = time.time()\n",
        "result2 = np.dot(A, np.dot(B, C))\n",
        "end2 = time.time()\n",
        "\n",
        "print(\"Время (AB)C:\", round(end1 - start1, 6), \"сек\")\n",
        "print(\"Время A(BC):\", round(end2 - start2, 6), \"сек\")\n",
        "print(\"Результаты идентичны:\", np.allclose(result1, result2))"
      ]
    },
    {
      "cell_type": "markdown",
      "metadata": {
        "id": "keOfBytXH67v"
      },
      "source": [
        "Задание 10"
      ]
    },
    {
      "cell_type": "code",
      "execution_count": null,
      "metadata": {
        "colab": {
          "base_uri": "https://localhost:8080/"
        },
        "id": "TTo2Q4CGHrl-",
        "outputId": "a81c25b1-4ac9-46e8-e12a-e04564482fd9"
      },
      "outputs": [
        {
          "name": "stdout",
          "output_type": "stream",
          "text": [
            "Время A @ B: 0.000444 сек\n",
            "Время A @ C.T: 0.00036 сек\n",
            "Результаты равны: True\n",
            "B is C.T: False\n"
          ]
        }
      ],
      "source": [
        "# Матрицы\n",
        "A = np.random.randn(210, 216)\n",
        "B = np.random.randn(216, 25)\n",
        "C = B.T  # Без копии\n",
        "\n",
        "# AB\n",
        "start1 = time.time()\n",
        "result1 = A @ B\n",
        "end1 = time.time()\n",
        "\n",
        "# AC^T (т.е. A @ C.T → A @ B)\n",
        "start2 = time.time()\n",
        "result2 = A @ C.T\n",
        "end2 = time.time()\n",
        "\n",
        "# Сравнение\n",
        "print(\"Время A @ B:\", round(end1 - start1, 6), \"сек\")\n",
        "print(\"Время A @ C.T:\", round(end2 - start2, 6), \"сек\")\n",
        "print(\"Результаты равны:\", np.allclose(result1, result2))\n",
        "\n",
        "# Проверим: C — это ссылка или копия?\n",
        "print(\"B is C.T:\", B is C.T)  # True — значит, это просто представление, не копия"
      ]
    },
    {
      "cell_type": "markdown",
      "metadata": {
        "id": "TSv_cx0NQUsX"
      },
      "source": [
        "Задание 11"
      ]
    },
    {
      "cell_type": "code",
      "execution_count": null,
      "metadata": {
        "colab": {
          "base_uri": "https://localhost:8080/"
        },
        "id": "K2DDCJlBQWBT",
        "outputId": "82149b57-c6c3-4775-9cc5-da12ea7b7a18"
      },
      "outputs": [
        {
          "name": "stdout",
          "output_type": "stream",
          "text": [
            "Форма тензора x: (3, 3, 4)\n",
            "Совпадают ли массивы: True True True\n"
          ]
        }
      ],
      "source": [
        "# 3 двумерных массива\n",
        "a = np.random.rand(3, 4)\n",
        "b = np.random.rand(3, 4)\n",
        "c = np.random.rand(3, 4)\n",
        "\n",
        "# Объединение в 3D-тензор\n",
        "x = np.stack([a, b, c], axis=0)\n",
        "\n",
        "print(\"Форма тензора x:\", x.shape)\n",
        "\n",
        "# Извлечение обратно\n",
        "a2, b2, c2 = x[0], x[1], x[2]\n",
        "\n",
        "# Проверка\n",
        "print(\"Совпадают ли массивы:\", np.allclose(a, a2), np.allclose(b, b2), np.allclose(c, c2))"
      ]
    },
    {
      "cell_type": "markdown",
      "metadata": {
        "id": "ETGjYKHqnQrI"
      },
      "source": [
        "# 4 Работа с данными в PyCaret\n",
        "04-task-pycaret"
      ]
    },
    {
      "cell_type": "code",
      "execution_count": 4,
      "metadata": {
        "colab": {
          "base_uri": "https://localhost:8080/",
          "height": 1000
        },
        "id": "7kcUhPCtfkrw",
        "outputId": "eed24ccb-0e72-471e-f7c1-0f5a0551ca7d"
      },
      "outputs": [
        {
          "name": "stdout",
          "output_type": "stream",
          "text": [
            "Collecting pycaret\n",
            "  Downloading pycaret-3.3.2-py3-none-any.whl.metadata (17 kB)\n",
            "Requirement already satisfied: ipython>=5.5.0 in /usr/local/lib/python3.11/dist-packages (from pycaret) (7.34.0)\n",
            "Requirement already satisfied: ipywidgets>=7.6.5 in /usr/local/lib/python3.11/dist-packages (from pycaret) (7.7.1)\n",
            "Requirement already satisfied: tqdm>=4.62.0 in /usr/local/lib/python3.11/dist-packages (from pycaret) (4.67.1)\n",
            "Collecting numpy<1.27,>=1.21 (from pycaret)\n",
            "  Downloading numpy-1.26.4-cp311-cp311-manylinux_2_17_x86_64.manylinux2014_x86_64.whl.metadata (61 kB)\n",
            "\u001b[2K     \u001b[90m━━━━━━━━━━━━━━━━━━━━━━━━━━━━━━━━━━━━━━━━\u001b[0m \u001b[32m61.0/61.0 kB\u001b[0m \u001b[31m5.3 MB/s\u001b[0m eta \u001b[36m0:00:00\u001b[0m\n",
            "\u001b[?25hCollecting pandas<2.2.0 (from pycaret)\n",
            "  Downloading pandas-2.1.4-cp311-cp311-manylinux_2_17_x86_64.manylinux2014_x86_64.whl.metadata (18 kB)\n",
            "Requirement already satisfied: jinja2>=3 in /usr/local/lib/python3.11/dist-packages (from pycaret) (3.1.6)\n",
            "Collecting scipy<=1.11.4,>=1.6.1 (from pycaret)\n",
            "  Downloading scipy-1.11.4-cp311-cp311-manylinux_2_17_x86_64.manylinux2014_x86_64.whl.metadata (60 kB)\n",
            "\u001b[2K     \u001b[90m━━━━━━━━━━━━━━━━━━━━━━━━━━━━━━━━━━━━━━━━\u001b[0m \u001b[32m60.4/60.4 kB\u001b[0m \u001b[31m5.2 MB/s\u001b[0m eta \u001b[36m0:00:00\u001b[0m\n",
            "\u001b[?25hCollecting joblib<1.4,>=1.2.0 (from pycaret)\n",
            "  Downloading joblib-1.3.2-py3-none-any.whl.metadata (5.4 kB)\n",
            "Requirement already satisfied: scikit-learn>1.4.0 in /usr/local/lib/python3.11/dist-packages (from pycaret) (1.6.1)\n",
            "Collecting pyod>=1.1.3 (from pycaret)\n",
            "  Downloading pyod-2.0.4.tar.gz (169 kB)\n",
            "\u001b[2K     \u001b[90m━━━━━━━━━━━━━━━━━━━━━━━━━━━━━━━━━━━━━━━━\u001b[0m \u001b[32m169.7/169.7 kB\u001b[0m \u001b[31m17.7 MB/s\u001b[0m eta \u001b[36m0:00:00\u001b[0m\n",
            "\u001b[?25h  Preparing metadata (setup.py) ... \u001b[?25l\u001b[?25hdone\n",
            "Requirement already satisfied: imbalanced-learn>=0.12.0 in /usr/local/lib/python3.11/dist-packages (from pycaret) (0.13.0)\n",
            "Collecting category-encoders>=2.4.0 (from pycaret)\n",
            "  Downloading category_encoders-2.8.1-py3-none-any.whl.metadata (7.9 kB)\n",
            "Requirement already satisfied: lightgbm>=3.0.0 in /usr/local/lib/python3.11/dist-packages (from pycaret) (4.5.0)\n",
            "Requirement already satisfied: numba>=0.55.0 in /usr/local/lib/python3.11/dist-packages (from pycaret) (0.60.0)\n",
            "Requirement already satisfied: requests>=2.27.1 in /usr/local/lib/python3.11/dist-packages (from pycaret) (2.32.3)\n",
            "Requirement already satisfied: psutil>=5.9.0 in /usr/local/lib/python3.11/dist-packages (from pycaret) (5.9.5)\n",
            "Requirement already satisfied: markupsafe>=2.0.1 in /usr/local/lib/python3.11/dist-packages (from pycaret) (3.0.2)\n",
            "Requirement already satisfied: importlib-metadata>=4.12.0 in /usr/local/lib/python3.11/dist-packages (from pycaret) (8.6.1)\n",
            "Requirement already satisfied: nbformat>=4.2.0 in /usr/local/lib/python3.11/dist-packages (from pycaret) (5.10.4)\n",
            "Requirement already satisfied: cloudpickle in /usr/local/lib/python3.11/dist-packages (from pycaret) (3.1.1)\n",
            "Collecting deprecation>=2.1.0 (from pycaret)\n",
            "  Downloading deprecation-2.1.0-py2.py3-none-any.whl.metadata (4.6 kB)\n",
            "Collecting xxhash (from pycaret)\n",
            "  Downloading xxhash-3.5.0-cp311-cp311-manylinux_2_17_x86_64.manylinux2014_x86_64.whl.metadata (12 kB)\n",
            "Collecting matplotlib<3.8.0 (from pycaret)\n",
            "  Downloading matplotlib-3.7.5-cp311-cp311-manylinux_2_17_x86_64.manylinux2014_x86_64.whl.metadata (5.7 kB)\n",
            "Collecting scikit-plot>=0.3.7 (from pycaret)\n",
            "  Downloading scikit_plot-0.3.7-py3-none-any.whl.metadata (7.1 kB)\n",
            "Requirement already satisfied: yellowbrick>=1.4 in /usr/local/lib/python3.11/dist-packages (from pycaret) (1.5)\n",
            "Requirement already satisfied: plotly>=5.14.0 in /usr/local/lib/python3.11/dist-packages (from pycaret) (5.24.1)\n",
            "Collecting kaleido>=0.2.1 (from pycaret)\n",
            "  Downloading kaleido-1.0.0rc11-py3-none-any.whl.metadata (5.0 kB)\n",
            "Collecting schemdraw==0.15 (from pycaret)\n",
            "  Downloading schemdraw-0.15-py3-none-any.whl.metadata (2.2 kB)\n",
            "Collecting plotly-resampler>=0.8.3.1 (from pycaret)\n",
            "  Downloading plotly_resampler-0.11.0rc0-py3-none-any.whl.metadata (13 kB)\n",
            "Requirement already satisfied: statsmodels>=0.12.1 in /usr/local/lib/python3.11/dist-packages (from pycaret) (0.14.4)\n",
            "Collecting sktime==0.26.0 (from pycaret)\n",
            "  Downloading sktime-0.26.0-py3-none-any.whl.metadata (29 kB)\n",
            "Collecting tbats>=1.1.3 (from pycaret)\n",
            "  Downloading tbats-1.1.3-py3-none-any.whl.metadata (3.8 kB)\n",
            "Collecting pmdarima>=2.0.4 (from pycaret)\n",
            "  Downloading pmdarima-2.0.4-cp311-cp311-manylinux_2_17_x86_64.manylinux2014_x86_64.manylinux_2_28_x86_64.whl.metadata (7.8 kB)\n",
            "Collecting wurlitzer (from pycaret)\n",
            "  Downloading wurlitzer-3.1.1-py3-none-any.whl.metadata (2.5 kB)\n",
            "Requirement already satisfied: packaging in /usr/local/lib/python3.11/dist-packages (from sktime==0.26.0->pycaret) (24.2)\n",
            "Collecting scikit-base<0.8.0 (from sktime==0.26.0->pycaret)\n",
            "  Downloading scikit_base-0.7.8-py3-none-any.whl.metadata (8.8 kB)\n",
            "Collecting scikit-learn>1.4.0 (from pycaret)\n",
            "  Downloading scikit_learn-1.4.2-cp311-cp311-manylinux_2_17_x86_64.manylinux2014_x86_64.whl.metadata (11 kB)\n",
            "Requirement already satisfied: patsy>=0.5.1 in /usr/local/lib/python3.11/dist-packages (from category-encoders>=2.4.0->pycaret) (1.0.1)\n",
            "INFO: pip is looking at multiple versions of category-encoders to determine which version is compatible with other requirements. This could take a while.\n",
            "Collecting category-encoders>=2.4.0 (from pycaret)\n",
            "  Downloading category_encoders-2.8.0-py3-none-any.whl.metadata (7.9 kB)\n",
            "  Downloading category_encoders-2.7.0-py3-none-any.whl.metadata (7.9 kB)\n",
            "Requirement already satisfied: sklearn-compat<1,>=0.1 in /usr/local/lib/python3.11/dist-packages (from imbalanced-learn>=0.12.0->pycaret) (0.1.3)\n",
            "Requirement already satisfied: threadpoolctl<4,>=2.0.0 in /usr/local/lib/python3.11/dist-packages (from imbalanced-learn>=0.12.0->pycaret) (3.6.0)\n",
            "Requirement already satisfied: zipp>=3.20 in /usr/local/lib/python3.11/dist-packages (from importlib-metadata>=4.12.0->pycaret) (3.21.0)\n",
            "Requirement already satisfied: setuptools>=18.5 in /usr/local/lib/python3.11/dist-packages (from ipython>=5.5.0->pycaret) (75.1.0)\n",
            "Collecting jedi>=0.16 (from ipython>=5.5.0->pycaret)\n",
            "  Downloading jedi-0.19.2-py2.py3-none-any.whl.metadata (22 kB)\n",
            "Requirement already satisfied: decorator in /usr/local/lib/python3.11/dist-packages (from ipython>=5.5.0->pycaret) (4.4.2)\n",
            "Requirement already satisfied: pickleshare in /usr/local/lib/python3.11/dist-packages (from ipython>=5.5.0->pycaret) (0.7.5)\n",
            "Requirement already satisfied: traitlets>=4.2 in /usr/local/lib/python3.11/dist-packages (from ipython>=5.5.0->pycaret) (5.7.1)\n",
            "Requirement already satisfied: prompt-toolkit!=3.0.0,!=3.0.1,<3.1.0,>=2.0.0 in /usr/local/lib/python3.11/dist-packages (from ipython>=5.5.0->pycaret) (3.0.50)\n",
            "Requirement already satisfied: pygments in /usr/local/lib/python3.11/dist-packages (from ipython>=5.5.0->pycaret) (2.18.0)\n",
            "Requirement already satisfied: backcall in /usr/local/lib/python3.11/dist-packages (from ipython>=5.5.0->pycaret) (0.2.0)\n",
            "Requirement already satisfied: matplotlib-inline in /usr/local/lib/python3.11/dist-packages (from ipython>=5.5.0->pycaret) (0.1.7)\n",
            "Requirement already satisfied: pexpect>4.3 in /usr/local/lib/python3.11/dist-packages (from ipython>=5.5.0->pycaret) (4.9.0)\n",
            "Requirement already satisfied: ipykernel>=4.5.1 in /usr/local/lib/python3.11/dist-packages (from ipywidgets>=7.6.5->pycaret) (6.17.1)\n",
            "Requirement already satisfied: ipython-genutils~=0.2.0 in /usr/local/lib/python3.11/dist-packages (from ipywidgets>=7.6.5->pycaret) (0.2.0)\n",
            "Requirement already satisfied: widgetsnbextension~=3.6.0 in /usr/local/lib/python3.11/dist-packages (from ipywidgets>=7.6.5->pycaret) (3.6.10)\n",
            "Requirement already satisfied: jupyterlab-widgets>=1.0.0 in /usr/local/lib/python3.11/dist-packages (from ipywidgets>=7.6.5->pycaret) (3.0.13)\n",
            "Collecting choreographer>=1.0.5 (from kaleido>=0.2.1->pycaret)\n",
            "  Downloading choreographer-1.0.5-py3-none-any.whl.metadata (5.5 kB)\n",
            "Collecting logistro>=1.0.8 (from kaleido>=0.2.1->pycaret)\n",
            "  Downloading logistro-1.0.11-py3-none-any.whl.metadata (2.6 kB)\n",
            "Requirement already satisfied: orjson>=3.10.15 in /usr/local/lib/python3.11/dist-packages (from kaleido>=0.2.1->pycaret) (3.10.15)\n",
            "Requirement already satisfied: contourpy>=1.0.1 in /usr/local/lib/python3.11/dist-packages (from matplotlib<3.8.0->pycaret) (1.3.1)\n",
            "Requirement already satisfied: cycler>=0.10 in /usr/local/lib/python3.11/dist-packages (from matplotlib<3.8.0->pycaret) (0.12.1)\n",
            "Requirement already satisfied: fonttools>=4.22.0 in /usr/local/lib/python3.11/dist-packages (from matplotlib<3.8.0->pycaret) (4.56.0)\n",
            "Requirement already satisfied: kiwisolver>=1.0.1 in /usr/local/lib/python3.11/dist-packages (from matplotlib<3.8.0->pycaret) (1.4.8)\n",
            "Requirement already satisfied: pillow>=6.2.0 in /usr/local/lib/python3.11/dist-packages (from matplotlib<3.8.0->pycaret) (11.1.0)\n",
            "Requirement already satisfied: pyparsing>=2.3.1 in /usr/local/lib/python3.11/dist-packages (from matplotlib<3.8.0->pycaret) (3.2.1)\n",
            "Requirement already satisfied: python-dateutil>=2.7 in /usr/local/lib/python3.11/dist-packages (from matplotlib<3.8.0->pycaret) (2.8.2)\n",
            "Requirement already satisfied: fastjsonschema>=2.15 in /usr/local/lib/python3.11/dist-packages (from nbformat>=4.2.0->pycaret) (2.21.1)\n",
            "Requirement already satisfied: jsonschema>=2.6 in /usr/local/lib/python3.11/dist-packages (from nbformat>=4.2.0->pycaret) (4.23.0)\n",
            "Requirement already satisfied: jupyter-core!=5.0.*,>=4.12 in /usr/local/lib/python3.11/dist-packages (from nbformat>=4.2.0->pycaret) (5.7.2)\n",
            "Requirement already satisfied: llvmlite<0.44,>=0.43.0dev0 in /usr/local/lib/python3.11/dist-packages (from numba>=0.55.0->pycaret) (0.43.0)\n",
            "Requirement already satisfied: pytz>=2020.1 in /usr/local/lib/python3.11/dist-packages (from pandas<2.2.0->pycaret) (2025.1)\n",
            "Requirement already satisfied: tzdata>=2022.1 in /usr/local/lib/python3.11/dist-packages (from pandas<2.2.0->pycaret) (2025.1)\n",
            "Requirement already satisfied: tenacity>=6.2.0 in /usr/local/lib/python3.11/dist-packages (from plotly>=5.14.0->pycaret) (9.0.0)\n",
            "Collecting dash>=2.11.0 (from plotly-resampler>=0.8.3.1->pycaret)\n",
            "  Downloading dash-3.0.1-py3-none-any.whl.metadata (10 kB)\n",
            "Collecting tsdownsample>=0.1.3 (from plotly-resampler>=0.8.3.1->pycaret)\n",
            "  Downloading tsdownsample-0.1.4.1-cp311-cp311-manylinux_2_17_x86_64.manylinux2014_x86_64.whl.metadata (8.0 kB)\n",
            "Requirement already satisfied: Cython!=0.29.18,!=0.29.31,>=0.29 in /usr/local/lib/python3.11/dist-packages (from pmdarima>=2.0.4->pycaret) (3.0.12)\n",
            "Requirement already satisfied: urllib3 in /usr/local/lib/python3.11/dist-packages (from pmdarima>=2.0.4->pycaret) (2.3.0)\n",
            "Requirement already satisfied: charset-normalizer<4,>=2 in /usr/local/lib/python3.11/dist-packages (from requests>=2.27.1->pycaret) (3.4.1)\n",
            "Requirement already satisfied: idna<4,>=2.5 in /usr/local/lib/python3.11/dist-packages (from requests>=2.27.1->pycaret) (3.10)\n",
            "Requirement already satisfied: certifi>=2017.4.17 in /usr/local/lib/python3.11/dist-packages (from requests>=2.27.1->pycaret) (2025.1.31)\n",
            "Requirement already satisfied: simplejson in /usr/local/lib/python3.11/dist-packages (from choreographer>=1.0.5->kaleido>=0.2.1->pycaret) (3.20.1)\n",
            "Collecting Flask<3.1,>=1.0.4 (from dash>=2.11.0->plotly-resampler>=0.8.3.1->pycaret)\n",
            "  Downloading flask-3.0.3-py3-none-any.whl.metadata (3.2 kB)\n",
            "Collecting Werkzeug<3.1 (from dash>=2.11.0->plotly-resampler>=0.8.3.1->pycaret)\n",
            "  Downloading werkzeug-3.0.6-py3-none-any.whl.metadata (3.7 kB)\n",
            "Requirement already satisfied: typing-extensions>=4.1.1 in /usr/local/lib/python3.11/dist-packages (from dash>=2.11.0->plotly-resampler>=0.8.3.1->pycaret) (4.12.2)\n",
            "Collecting retrying (from dash>=2.11.0->plotly-resampler>=0.8.3.1->pycaret)\n",
            "  Downloading retrying-1.3.4-py3-none-any.whl.metadata (6.9 kB)\n",
            "Requirement already satisfied: nest-asyncio in /usr/local/lib/python3.11/dist-packages (from dash>=2.11.0->plotly-resampler>=0.8.3.1->pycaret) (1.6.0)\n",
            "Requirement already satisfied: debugpy>=1.0 in /usr/local/lib/python3.11/dist-packages (from ipykernel>=4.5.1->ipywidgets>=7.6.5->pycaret) (1.8.0)\n",
            "Requirement already satisfied: jupyter-client>=6.1.12 in /usr/local/lib/python3.11/dist-packages (from ipykernel>=4.5.1->ipywidgets>=7.6.5->pycaret) (6.1.12)\n",
            "Requirement already satisfied: pyzmq>=17 in /usr/local/lib/python3.11/dist-packages (from ipykernel>=4.5.1->ipywidgets>=7.6.5->pycaret) (24.0.1)\n",
            "Requirement already satisfied: tornado>=6.1 in /usr/local/lib/python3.11/dist-packages (from ipykernel>=4.5.1->ipywidgets>=7.6.5->pycaret) (6.4.2)\n",
            "Requirement already satisfied: parso<0.9.0,>=0.8.4 in /usr/local/lib/python3.11/dist-packages (from jedi>=0.16->ipython>=5.5.0->pycaret) (0.8.4)\n",
            "Requirement already satisfied: attrs>=22.2.0 in /usr/local/lib/python3.11/dist-packages (from jsonschema>=2.6->nbformat>=4.2.0->pycaret) (25.3.0)\n",
            "Requirement already satisfied: jsonschema-specifications>=2023.03.6 in /usr/local/lib/python3.11/dist-packages (from jsonschema>=2.6->nbformat>=4.2.0->pycaret) (2024.10.1)\n",
            "Requirement already satisfied: referencing>=0.28.4 in /usr/local/lib/python3.11/dist-packages (from jsonschema>=2.6->nbformat>=4.2.0->pycaret) (0.36.2)\n",
            "Requirement already satisfied: rpds-py>=0.7.1 in /usr/local/lib/python3.11/dist-packages (from jsonschema>=2.6->nbformat>=4.2.0->pycaret) (0.23.1)\n",
            "Requirement already satisfied: platformdirs>=2.5 in /usr/local/lib/python3.11/dist-packages (from jupyter-core!=5.0.*,>=4.12->nbformat>=4.2.0->pycaret) (4.3.7)\n",
            "Requirement already satisfied: ptyprocess>=0.5 in /usr/local/lib/python3.11/dist-packages (from pexpect>4.3->ipython>=5.5.0->pycaret) (0.7.0)\n",
            "Requirement already satisfied: wcwidth in /usr/local/lib/python3.11/dist-packages (from prompt-toolkit!=3.0.0,!=3.0.1,<3.1.0,>=2.0.0->ipython>=5.5.0->pycaret) (0.2.13)\n",
            "Requirement already satisfied: six>=1.5 in /usr/local/lib/python3.11/dist-packages (from python-dateutil>=2.7->matplotlib<3.8.0->pycaret) (1.17.0)\n",
            "Requirement already satisfied: notebook>=4.4.1 in /usr/local/lib/python3.11/dist-packages (from widgetsnbextension~=3.6.0->ipywidgets>=7.6.5->pycaret) (6.5.7)\n",
            "Requirement already satisfied: itsdangerous>=2.1.2 in /usr/local/lib/python3.11/dist-packages (from Flask<3.1,>=1.0.4->dash>=2.11.0->plotly-resampler>=0.8.3.1->pycaret) (2.2.0)\n",
            "Requirement already satisfied: click>=8.1.3 in /usr/local/lib/python3.11/dist-packages (from Flask<3.1,>=1.0.4->dash>=2.11.0->plotly-resampler>=0.8.3.1->pycaret) (8.1.8)\n",
            "Requirement already satisfied: blinker>=1.6.2 in /usr/local/lib/python3.11/dist-packages (from Flask<3.1,>=1.0.4->dash>=2.11.0->plotly-resampler>=0.8.3.1->pycaret) (1.9.0)\n",
            "Requirement already satisfied: argon2-cffi in /usr/local/lib/python3.11/dist-packages (from notebook>=4.4.1->widgetsnbextension~=3.6.0->ipywidgets>=7.6.5->pycaret) (23.1.0)\n",
            "Requirement already satisfied: nbconvert>=5 in /usr/local/lib/python3.11/dist-packages (from notebook>=4.4.1->widgetsnbextension~=3.6.0->ipywidgets>=7.6.5->pycaret) (7.16.6)\n",
            "Requirement already satisfied: Send2Trash>=1.8.0 in /usr/local/lib/python3.11/dist-packages (from notebook>=4.4.1->widgetsnbextension~=3.6.0->ipywidgets>=7.6.5->pycaret) (1.8.3)\n",
            "Requirement already satisfied: terminado>=0.8.3 in /usr/local/lib/python3.11/dist-packages (from notebook>=4.4.1->widgetsnbextension~=3.6.0->ipywidgets>=7.6.5->pycaret) (0.18.1)\n",
            "Requirement already satisfied: prometheus-client in /usr/local/lib/python3.11/dist-packages (from notebook>=4.4.1->widgetsnbextension~=3.6.0->ipywidgets>=7.6.5->pycaret) (0.21.1)\n",
            "Requirement already satisfied: nbclassic>=0.4.7 in /usr/local/lib/python3.11/dist-packages (from notebook>=4.4.1->widgetsnbextension~=3.6.0->ipywidgets>=7.6.5->pycaret) (1.2.0)\n",
            "Requirement already satisfied: notebook-shim>=0.2.3 in /usr/local/lib/python3.11/dist-packages (from nbclassic>=0.4.7->notebook>=4.4.1->widgetsnbextension~=3.6.0->ipywidgets>=7.6.5->pycaret) (0.2.4)\n",
            "Requirement already satisfied: beautifulsoup4 in /usr/local/lib/python3.11/dist-packages (from nbconvert>=5->notebook>=4.4.1->widgetsnbextension~=3.6.0->ipywidgets>=7.6.5->pycaret) (4.13.3)\n",
            "Requirement already satisfied: bleach!=5.0.0 in /usr/local/lib/python3.11/dist-packages (from bleach[css]!=5.0.0->nbconvert>=5->notebook>=4.4.1->widgetsnbextension~=3.6.0->ipywidgets>=7.6.5->pycaret) (6.2.0)\n",
            "Requirement already satisfied: defusedxml in /usr/local/lib/python3.11/dist-packages (from nbconvert>=5->notebook>=4.4.1->widgetsnbextension~=3.6.0->ipywidgets>=7.6.5->pycaret) (0.7.1)\n",
            "Requirement already satisfied: jupyterlab-pygments in /usr/local/lib/python3.11/dist-packages (from nbconvert>=5->notebook>=4.4.1->widgetsnbextension~=3.6.0->ipywidgets>=7.6.5->pycaret) (0.3.0)\n",
            "Requirement already satisfied: mistune<4,>=2.0.3 in /usr/local/lib/python3.11/dist-packages (from nbconvert>=5->notebook>=4.4.1->widgetsnbextension~=3.6.0->ipywidgets>=7.6.5->pycaret) (3.1.3)\n",
            "Requirement already satisfied: nbclient>=0.5.0 in /usr/local/lib/python3.11/dist-packages (from nbconvert>=5->notebook>=4.4.1->widgetsnbextension~=3.6.0->ipywidgets>=7.6.5->pycaret) (0.10.2)\n",
            "Requirement already satisfied: pandocfilters>=1.4.1 in /usr/local/lib/python3.11/dist-packages (from nbconvert>=5->notebook>=4.4.1->widgetsnbextension~=3.6.0->ipywidgets>=7.6.5->pycaret) (1.5.1)\n",
            "Requirement already satisfied: argon2-cffi-bindings in /usr/local/lib/python3.11/dist-packages (from argon2-cffi->notebook>=4.4.1->widgetsnbextension~=3.6.0->ipywidgets>=7.6.5->pycaret) (21.2.0)\n",
            "Requirement already satisfied: webencodings in /usr/local/lib/python3.11/dist-packages (from bleach!=5.0.0->bleach[css]!=5.0.0->nbconvert>=5->notebook>=4.4.1->widgetsnbextension~=3.6.0->ipywidgets>=7.6.5->pycaret) (0.5.1)\n",
            "Requirement already satisfied: tinycss2<1.5,>=1.1.0 in /usr/local/lib/python3.11/dist-packages (from bleach[css]!=5.0.0->nbconvert>=5->notebook>=4.4.1->widgetsnbextension~=3.6.0->ipywidgets>=7.6.5->pycaret) (1.4.0)\n",
            "Requirement already satisfied: jupyter-server<3,>=1.8 in /usr/local/lib/python3.11/dist-packages (from notebook-shim>=0.2.3->nbclassic>=0.4.7->notebook>=4.4.1->widgetsnbextension~=3.6.0->ipywidgets>=7.6.5->pycaret) (1.16.0)\n",
            "Requirement already satisfied: cffi>=1.0.1 in /usr/local/lib/python3.11/dist-packages (from argon2-cffi-bindings->argon2-cffi->notebook>=4.4.1->widgetsnbextension~=3.6.0->ipywidgets>=7.6.5->pycaret) (1.17.1)\n",
            "Requirement already satisfied: soupsieve>1.2 in /usr/local/lib/python3.11/dist-packages (from beautifulsoup4->nbconvert>=5->notebook>=4.4.1->widgetsnbextension~=3.6.0->ipywidgets>=7.6.5->pycaret) (2.6)\n",
            "Requirement already satisfied: pycparser in /usr/local/lib/python3.11/dist-packages (from cffi>=1.0.1->argon2-cffi-bindings->argon2-cffi->notebook>=4.4.1->widgetsnbextension~=3.6.0->ipywidgets>=7.6.5->pycaret) (2.22)\n",
            "Requirement already satisfied: anyio>=3.1.0 in /usr/local/lib/python3.11/dist-packages (from jupyter-server<3,>=1.8->notebook-shim>=0.2.3->nbclassic>=0.4.7->notebook>=4.4.1->widgetsnbextension~=3.6.0->ipywidgets>=7.6.5->pycaret) (4.9.0)\n",
            "Requirement already satisfied: websocket-client in /usr/local/lib/python3.11/dist-packages (from jupyter-server<3,>=1.8->notebook-shim>=0.2.3->nbclassic>=0.4.7->notebook>=4.4.1->widgetsnbextension~=3.6.0->ipywidgets>=7.6.5->pycaret) (1.8.0)\n",
            "Requirement already satisfied: sniffio>=1.1 in /usr/local/lib/python3.11/dist-packages (from anyio>=3.1.0->jupyter-server<3,>=1.8->notebook-shim>=0.2.3->nbclassic>=0.4.7->notebook>=4.4.1->widgetsnbextension~=3.6.0->ipywidgets>=7.6.5->pycaret) (1.3.1)\n",
            "Downloading pycaret-3.3.2-py3-none-any.whl (486 kB)\n",
            "\u001b[2K   \u001b[90m━━━━━━━━━━━━━━━━━━━━━━━━━━━━━━━━━━━━━━━━\u001b[0m \u001b[32m486.1/486.1 kB\u001b[0m \u001b[31m37.1 MB/s\u001b[0m eta \u001b[36m0:00:00\u001b[0m\n",
            "\u001b[?25hDownloading schemdraw-0.15-py3-none-any.whl (106 kB)\n",
            "\u001b[2K   \u001b[90m━━━━━━━━━━━━━━━━━━━━━━━━━━━━━━━━━━━━━━━━\u001b[0m \u001b[32m106.8/106.8 kB\u001b[0m \u001b[31m10.3 MB/s\u001b[0m eta \u001b[36m0:00:00\u001b[0m\n",
            "\u001b[?25hDownloading sktime-0.26.0-py3-none-any.whl (21.8 MB)\n",
            "\u001b[2K   \u001b[90m━━━━━━━━━━━━━━━━━━━━━━━━━━━━━━━━━━━━━━━━\u001b[0m \u001b[32m21.8/21.8 MB\u001b[0m \u001b[31m73.8 MB/s\u001b[0m eta \u001b[36m0:00:00\u001b[0m\n",
            "\u001b[?25hDownloading category_encoders-2.7.0-py3-none-any.whl (85 kB)\n",
            "\u001b[2K   \u001b[90m━━━━━━━━━━━━━━━━━━━━━━━━━━━━━━━━━━━━━━━━\u001b[0m \u001b[32m85.4/85.4 kB\u001b[0m \u001b[31m8.6 MB/s\u001b[0m eta \u001b[36m0:00:00\u001b[0m\n",
            "\u001b[?25hDownloading deprecation-2.1.0-py2.py3-none-any.whl (11 kB)\n",
            "Downloading joblib-1.3.2-py3-none-any.whl (302 kB)\n",
            "\u001b[2K   \u001b[90m━━━━━━━━━━━━━━━━━━━━━━━━━━━━━━━━━━━━━━━━\u001b[0m \u001b[32m302.2/302.2 kB\u001b[0m \u001b[31m26.2 MB/s\u001b[0m eta \u001b[36m0:00:00\u001b[0m\n",
            "\u001b[?25hDownloading kaleido-1.0.0rc11-py3-none-any.whl (45 kB)\n",
            "\u001b[2K   \u001b[90m━━━━━━━━━━━━━━━━━━━━━━━━━━━━━━━━━━━━━━━━\u001b[0m \u001b[32m45.3/45.3 kB\u001b[0m \u001b[31m4.6 MB/s\u001b[0m eta \u001b[36m0:00:00\u001b[0m\n",
            "\u001b[?25hDownloading matplotlib-3.7.5-cp311-cp311-manylinux_2_17_x86_64.manylinux2014_x86_64.whl (11.6 MB)\n",
            "\u001b[2K   \u001b[90m━━━━━━━━━━━━━━━━━━━━━━━━━━━━━━━━━━━━━━━━\u001b[0m \u001b[32m11.6/11.6 MB\u001b[0m \u001b[31m100.8 MB/s\u001b[0m eta \u001b[36m0:00:00\u001b[0m\n",
            "\u001b[?25hDownloading numpy-1.26.4-cp311-cp311-manylinux_2_17_x86_64.manylinux2014_x86_64.whl (18.3 MB)\n",
            "\u001b[2K   \u001b[90m━━━━━━━━━━━━━━━━━━━━━━━━━━━━━━━━━━━━━━━━\u001b[0m \u001b[32m18.3/18.3 MB\u001b[0m \u001b[31m29.0 MB/s\u001b[0m eta \u001b[36m0:00:00\u001b[0m\n",
            "\u001b[?25hDownloading pandas-2.1.4-cp311-cp311-manylinux_2_17_x86_64.manylinux2014_x86_64.whl (12.2 MB)\n",
            "\u001b[2K   \u001b[90m━━━━━━━━━━━━━━━━━━━━━━━━━━━━━━━━━━━━━━━━\u001b[0m \u001b[32m12.2/12.2 MB\u001b[0m \u001b[31m93.8 MB/s\u001b[0m eta \u001b[36m0:00:00\u001b[0m\n",
            "\u001b[?25hDownloading plotly_resampler-0.11.0rc0-py3-none-any.whl (82 kB)\n",
            "\u001b[2K   \u001b[90m━━━━━━━━━━━━━━━━━━━━━━━━━━━━━━━━━━━━━━━━\u001b[0m \u001b[32m82.6/82.6 kB\u001b[0m \u001b[31m8.0 MB/s\u001b[0m eta \u001b[36m0:00:00\u001b[0m\n",
            "\u001b[?25hDownloading pmdarima-2.0.4-cp311-cp311-manylinux_2_17_x86_64.manylinux2014_x86_64.manylinux_2_28_x86_64.whl (2.2 MB)\n",
            "\u001b[2K   \u001b[90m━━━━━━━━━━━━━━━━━━━━━━━━━━━━━━━━━━━━━━━━\u001b[0m \u001b[32m2.2/2.2 MB\u001b[0m \u001b[31m86.3 MB/s\u001b[0m eta \u001b[36m0:00:00\u001b[0m\n",
            "\u001b[?25hDownloading scikit_learn-1.4.2-cp311-cp311-manylinux_2_17_x86_64.manylinux2014_x86_64.whl (12.1 MB)\n",
            "\u001b[2K   \u001b[90m━━━━━━━━━━━━━━━━━━━━━━━━━━━━━━━━━━━━━━━━\u001b[0m \u001b[32m12.1/12.1 MB\u001b[0m \u001b[31m89.8 MB/s\u001b[0m eta \u001b[36m0:00:00\u001b[0m\n",
            "\u001b[?25hDownloading scikit_plot-0.3.7-py3-none-any.whl (33 kB)\n",
            "Downloading scipy-1.11.4-cp311-cp311-manylinux_2_17_x86_64.manylinux2014_x86_64.whl (36.4 MB)\n",
            "\u001b[2K   \u001b[90m━━━━━━━━━━━━━━━━━━━━━━━━━━━━━━━━━━━━━━━━\u001b[0m \u001b[32m36.4/36.4 MB\u001b[0m \u001b[31m13.2 MB/s\u001b[0m eta \u001b[36m0:00:00\u001b[0m\n",
            "\u001b[?25hDownloading tbats-1.1.3-py3-none-any.whl (44 kB)\n",
            "\u001b[2K   \u001b[90m━━━━━━━━━━━━━━━━━━━━━━━━━━━━━━━━━━━━━━━━\u001b[0m \u001b[32m44.0/44.0 kB\u001b[0m \u001b[31m2.9 MB/s\u001b[0m eta \u001b[36m0:00:00\u001b[0m\n",
            "\u001b[?25hDownloading wurlitzer-3.1.1-py3-none-any.whl (8.6 kB)\n",
            "Downloading xxhash-3.5.0-cp311-cp311-manylinux_2_17_x86_64.manylinux2014_x86_64.whl (194 kB)\n",
            "\u001b[2K   \u001b[90m━━━━━━━━━━━━━━━━━━━━━━━━━━━━━━━━━━━━━━━━\u001b[0m \u001b[32m194.8/194.8 kB\u001b[0m \u001b[31m17.7 MB/s\u001b[0m eta \u001b[36m0:00:00\u001b[0m\n",
            "\u001b[?25hDownloading choreographer-1.0.5-py3-none-any.whl (42 kB)\n",
            "\u001b[2K   \u001b[90m━━━━━━━━━━━━━━━━━━━━━━━━━━━━━━━━━━━━━━━━\u001b[0m \u001b[32m42.7/42.7 kB\u001b[0m \u001b[31m3.9 MB/s\u001b[0m eta \u001b[36m0:00:00\u001b[0m\n",
            "\u001b[?25hDownloading dash-3.0.1-py3-none-any.whl (8.0 MB)\n",
            "\u001b[2K   \u001b[90m━━━━━━━━━━━━━━━━━━━━━━━━━━━━━━━━━━━━━━━━\u001b[0m \u001b[32m8.0/8.0 MB\u001b[0m \u001b[31m107.1 MB/s\u001b[0m eta \u001b[36m0:00:00\u001b[0m\n",
            "\u001b[?25hDownloading jedi-0.19.2-py2.py3-none-any.whl (1.6 MB)\n",
            "\u001b[2K   \u001b[90m━━━━━━━━━━━━━━━━━━━━━━━━━━━━━━━━━━━━━━━━\u001b[0m \u001b[32m1.6/1.6 MB\u001b[0m \u001b[31m69.2 MB/s\u001b[0m eta \u001b[36m0:00:00\u001b[0m\n",
            "\u001b[?25hDownloading logistro-1.0.11-py3-none-any.whl (7.0 kB)\n",
            "Downloading scikit_base-0.7.8-py3-none-any.whl (130 kB)\n",
            "\u001b[2K   \u001b[90m━━━━━━━━━━━━━━━━━━━━━━━━━━━━━━━━━━━━━━━━\u001b[0m \u001b[32m130.1/130.1 kB\u001b[0m \u001b[31m14.3 MB/s\u001b[0m eta \u001b[36m0:00:00\u001b[0m\n",
            "\u001b[?25hDownloading tsdownsample-0.1.4.1-cp311-cp311-manylinux_2_17_x86_64.manylinux2014_x86_64.whl (1.3 MB)\n",
            "\u001b[2K   \u001b[90m━━━━━━━━━━━━━━━━━━━━━━━━━━━━━━━━━━━━━━━━\u001b[0m \u001b[32m1.3/1.3 MB\u001b[0m \u001b[31m65.5 MB/s\u001b[0m eta \u001b[36m0:00:00\u001b[0m\n",
            "\u001b[?25hDownloading flask-3.0.3-py3-none-any.whl (101 kB)\n",
            "\u001b[2K   \u001b[90m━━━━━━━━━━━━━━━━━━━━━━━━━━━━━━━━━━━━━━━━\u001b[0m \u001b[32m101.7/101.7 kB\u001b[0m \u001b[31m10.6 MB/s\u001b[0m eta \u001b[36m0:00:00\u001b[0m\n",
            "\u001b[?25hDownloading werkzeug-3.0.6-py3-none-any.whl (227 kB)\n",
            "\u001b[2K   \u001b[90m━━━━━━━━━━━━━━━━━━━━━━━━━━━━━━━━━━━━━━━━\u001b[0m \u001b[32m228.0/228.0 kB\u001b[0m \u001b[31m22.1 MB/s\u001b[0m eta \u001b[36m0:00:00\u001b[0m\n",
            "\u001b[?25hDownloading retrying-1.3.4-py3-none-any.whl (11 kB)\n",
            "Building wheels for collected packages: pyod\n",
            "  Building wheel for pyod (setup.py) ... \u001b[?25l\u001b[?25hdone\n",
            "  Created wheel for pyod: filename=pyod-2.0.4-py3-none-any.whl size=200480 sha256=8da9c251ba8e76b84de732374bbd9c7e7c208e17bb3866d6d29d68821d3ee8a6\n",
            "  Stored in directory: /root/.cache/pip/wheels/cb/54/28/d02f62720600bc815c41219efedd0cb86889737fb5ea3c8f9a\n",
            "Successfully built pyod\n",
            "Installing collected packages: xxhash, wurlitzer, Werkzeug, scikit-base, schemdraw, retrying, numpy, logistro, joblib, jedi, deprecation, tsdownsample, scipy, pandas, Flask, choreographer, scikit-learn, matplotlib, kaleido, dash, sktime, scikit-plot, pyod, pmdarima, plotly-resampler, category-encoders, tbats, pycaret\n",
            "  Attempting uninstall: Werkzeug\n",
            "    Found existing installation: Werkzeug 3.1.3\n",
            "    Uninstalling Werkzeug-3.1.3:\n",
            "      Successfully uninstalled Werkzeug-3.1.3\n",
            "  Attempting uninstall: numpy\n",
            "    Found existing installation: numpy 2.0.2\n",
            "    Uninstalling numpy-2.0.2:\n",
            "      Successfully uninstalled numpy-2.0.2\n",
            "  Attempting uninstall: joblib\n",
            "    Found existing installation: joblib 1.4.2\n",
            "    Uninstalling joblib-1.4.2:\n",
            "      Successfully uninstalled joblib-1.4.2\n",
            "  Attempting uninstall: scipy\n",
            "    Found existing installation: scipy 1.14.1\n",
            "    Uninstalling scipy-1.14.1:\n",
            "      Successfully uninstalled scipy-1.14.1\n",
            "  Attempting uninstall: pandas\n",
            "    Found existing installation: pandas 2.2.2\n",
            "    Uninstalling pandas-2.2.2:\n",
            "      Successfully uninstalled pandas-2.2.2\n",
            "  Attempting uninstall: Flask\n",
            "    Found existing installation: Flask 3.1.0\n",
            "    Uninstalling Flask-3.1.0:\n",
            "      Successfully uninstalled Flask-3.1.0\n",
            "  Attempting uninstall: scikit-learn\n",
            "    Found existing installation: scikit-learn 1.6.1\n",
            "    Uninstalling scikit-learn-1.6.1:\n",
            "      Successfully uninstalled scikit-learn-1.6.1\n",
            "  Attempting uninstall: matplotlib\n",
            "    Found existing installation: matplotlib 3.10.0\n",
            "    Uninstalling matplotlib-3.10.0:\n",
            "      Successfully uninstalled matplotlib-3.10.0\n",
            "\u001b[31mERROR: pip's dependency resolver does not currently take into account all the packages that are installed. This behaviour is the source of the following dependency conflicts.\n",
            "google-colab 1.0.0 requires pandas==2.2.2, but you have pandas 2.1.4 which is incompatible.\n",
            "plotnine 0.14.5 requires matplotlib>=3.8.0, but you have matplotlib 3.7.5 which is incompatible.\n",
            "plotnine 0.14.5 requires pandas>=2.2.0, but you have pandas 2.1.4 which is incompatible.\n",
            "mizani 0.13.1 requires pandas>=2.2.0, but you have pandas 2.1.4 which is incompatible.\u001b[0m\u001b[31m\n",
            "\u001b[0mSuccessfully installed Flask-3.0.3 Werkzeug-3.0.6 category-encoders-2.7.0 choreographer-1.0.5 dash-3.0.1 deprecation-2.1.0 jedi-0.19.2 joblib-1.3.2 kaleido-1.0.0rc11 logistro-1.0.11 matplotlib-3.7.5 numpy-1.26.4 pandas-2.1.4 plotly-resampler-0.11.0rc0 pmdarima-2.0.4 pycaret-3.3.2 pyod-2.0.4 retrying-1.3.4 schemdraw-0.15 scikit-base-0.7.8 scikit-learn-1.4.2 scikit-plot-0.3.7 scipy-1.11.4 sktime-0.26.0 tbats-1.1.3 tsdownsample-0.1.4.1 wurlitzer-3.1.1 xxhash-3.5.0\n"
          ]
        },
        {
          "data": {
            "application/vnd.colab-display-data+json": {
              "id": "125c5aeb1eef4566a5dc3b4fcce8fc00",
              "pip_warning": {
                "packages": [
                  "matplotlib",
                  "mpl_toolkits"
                ]
              }
            }
          },
          "metadata": {},
          "output_type": "display_data"
        }
      ],
      "source": [
        "pip install --pre pycaret"
      ]
    },
    {
      "cell_type": "code",
      "execution_count": 1,
      "metadata": {
        "id": "jSsO2EAIRCcu"
      },
      "outputs": [],
      "source": [
        "from pycaret.datasets import get_data\n",
        "from pycaret.regression import *"
      ]
    },
    {
      "cell_type": "code",
      "execution_count": 2,
      "metadata": {
        "colab": {
          "base_uri": "https://localhost:8080/",
          "height": 395
        },
        "id": "jP_TEqn2Q_hq",
        "outputId": "d51d0246-3d9f-4f9b-d7ae-1756104c384c"
      },
      "outputs": [
        {
          "data": {
            "application/vnd.google.colaboratory.intrinsic+json": {
              "summary": "{\n  \"name\": \"data\",\n  \"rows\": 5,\n  \"fields\": [\n    {\n      \"column\": \"age\",\n      \"properties\": {\n        \"dtype\": \"number\",\n        \"std\": 7,\n        \"min\": 18,\n        \"max\": 33,\n        \"num_unique_values\": 5,\n        \"samples\": [\n          18,\n          32,\n          28\n        ],\n        \"semantic_type\": \"\",\n        \"description\": \"\"\n      }\n    },\n    {\n      \"column\": \"sex\",\n      \"properties\": {\n        \"dtype\": \"category\",\n        \"num_unique_values\": 2,\n        \"samples\": [\n          \"male\",\n          \"female\"\n        ],\n        \"semantic_type\": \"\",\n        \"description\": \"\"\n      }\n    },\n    {\n      \"column\": \"bmi\",\n      \"properties\": {\n        \"dtype\": \"number\",\n        \"std\": 4.4522275323707365,\n        \"min\": 22.705,\n        \"max\": 33.77,\n        \"num_unique_values\": 5,\n        \"samples\": [\n          33.77,\n          28.88\n        ],\n        \"semantic_type\": \"\",\n        \"description\": \"\"\n      }\n    },\n    {\n      \"column\": \"children\",\n      \"properties\": {\n        \"dtype\": \"number\",\n        \"std\": 1,\n        \"min\": 0,\n        \"max\": 3,\n        \"num_unique_values\": 3,\n        \"samples\": [\n          0,\n          1\n        ],\n        \"semantic_type\": \"\",\n        \"description\": \"\"\n      }\n    },\n    {\n      \"column\": \"smoker\",\n      \"properties\": {\n        \"dtype\": \"category\",\n        \"num_unique_values\": 2,\n        \"samples\": [\n          \"no\",\n          \"yes\"\n        ],\n        \"semantic_type\": \"\",\n        \"description\": \"\"\n      }\n    },\n    {\n      \"column\": \"region\",\n      \"properties\": {\n        \"dtype\": \"string\",\n        \"num_unique_values\": 3,\n        \"samples\": [\n          \"southwest\",\n          \"southeast\"\n        ],\n        \"semantic_type\": \"\",\n        \"description\": \"\"\n      }\n    },\n    {\n      \"column\": \"charges\",\n      \"properties\": {\n        \"dtype\": \"number\",\n        \"std\": 9051.009157648406,\n        \"min\": 1725.5523,\n        \"max\": 21984.47061,\n        \"num_unique_values\": 5,\n        \"samples\": [\n          1725.5523,\n          3866.8552\n        ],\n        \"semantic_type\": \"\",\n        \"description\": \"\"\n      }\n    }\n  ]\n}",
              "type": "dataframe"
            },
            "text/html": [
              "\n",
              "  <div id=\"df-f489fb33-f495-4c0c-bded-869863379396\" class=\"colab-df-container\">\n",
              "    <div>\n",
              "<style scoped>\n",
              "    .dataframe tbody tr th:only-of-type {\n",
              "        vertical-align: middle;\n",
              "    }\n",
              "\n",
              "    .dataframe tbody tr th {\n",
              "        vertical-align: top;\n",
              "    }\n",
              "\n",
              "    .dataframe thead th {\n",
              "        text-align: right;\n",
              "    }\n",
              "</style>\n",
              "<table border=\"1\" class=\"dataframe\">\n",
              "  <thead>\n",
              "    <tr style=\"text-align: right;\">\n",
              "      <th></th>\n",
              "      <th>age</th>\n",
              "      <th>sex</th>\n",
              "      <th>bmi</th>\n",
              "      <th>children</th>\n",
              "      <th>smoker</th>\n",
              "      <th>region</th>\n",
              "      <th>charges</th>\n",
              "    </tr>\n",
              "  </thead>\n",
              "  <tbody>\n",
              "    <tr>\n",
              "      <th>0</th>\n",
              "      <td>19</td>\n",
              "      <td>female</td>\n",
              "      <td>27.900</td>\n",
              "      <td>0</td>\n",
              "      <td>yes</td>\n",
              "      <td>southwest</td>\n",
              "      <td>16884.92400</td>\n",
              "    </tr>\n",
              "    <tr>\n",
              "      <th>1</th>\n",
              "      <td>18</td>\n",
              "      <td>male</td>\n",
              "      <td>33.770</td>\n",
              "      <td>1</td>\n",
              "      <td>no</td>\n",
              "      <td>southeast</td>\n",
              "      <td>1725.55230</td>\n",
              "    </tr>\n",
              "    <tr>\n",
              "      <th>2</th>\n",
              "      <td>28</td>\n",
              "      <td>male</td>\n",
              "      <td>33.000</td>\n",
              "      <td>3</td>\n",
              "      <td>no</td>\n",
              "      <td>southeast</td>\n",
              "      <td>4449.46200</td>\n",
              "    </tr>\n",
              "    <tr>\n",
              "      <th>3</th>\n",
              "      <td>33</td>\n",
              "      <td>male</td>\n",
              "      <td>22.705</td>\n",
              "      <td>0</td>\n",
              "      <td>no</td>\n",
              "      <td>northwest</td>\n",
              "      <td>21984.47061</td>\n",
              "    </tr>\n",
              "    <tr>\n",
              "      <th>4</th>\n",
              "      <td>32</td>\n",
              "      <td>male</td>\n",
              "      <td>28.880</td>\n",
              "      <td>0</td>\n",
              "      <td>no</td>\n",
              "      <td>northwest</td>\n",
              "      <td>3866.85520</td>\n",
              "    </tr>\n",
              "  </tbody>\n",
              "</table>\n",
              "</div>\n",
              "    <div class=\"colab-df-buttons\">\n",
              "\n",
              "  <div class=\"colab-df-container\">\n",
              "    <button class=\"colab-df-convert\" onclick=\"convertToInteractive('df-f489fb33-f495-4c0c-bded-869863379396')\"\n",
              "            title=\"Convert this dataframe to an interactive table.\"\n",
              "            style=\"display:none;\">\n",
              "\n",
              "  <svg xmlns=\"http://www.w3.org/2000/svg\" height=\"24px\" viewBox=\"0 -960 960 960\">\n",
              "    <path d=\"M120-120v-720h720v720H120Zm60-500h600v-160H180v160Zm220 220h160v-160H400v160Zm0 220h160v-160H400v160ZM180-400h160v-160H180v160Zm440 0h160v-160H620v160ZM180-180h160v-160H180v160Zm440 0h160v-160H620v160Z\"/>\n",
              "  </svg>\n",
              "    </button>\n",
              "\n",
              "  <style>\n",
              "    .colab-df-container {\n",
              "      display:flex;\n",
              "      gap: 12px;\n",
              "    }\n",
              "\n",
              "    .colab-df-convert {\n",
              "      background-color: #E8F0FE;\n",
              "      border: none;\n",
              "      border-radius: 50%;\n",
              "      cursor: pointer;\n",
              "      display: none;\n",
              "      fill: #1967D2;\n",
              "      height: 32px;\n",
              "      padding: 0 0 0 0;\n",
              "      width: 32px;\n",
              "    }\n",
              "\n",
              "    .colab-df-convert:hover {\n",
              "      background-color: #E2EBFA;\n",
              "      box-shadow: 0px 1px 2px rgba(60, 64, 67, 0.3), 0px 1px 3px 1px rgba(60, 64, 67, 0.15);\n",
              "      fill: #174EA6;\n",
              "    }\n",
              "\n",
              "    .colab-df-buttons div {\n",
              "      margin-bottom: 4px;\n",
              "    }\n",
              "\n",
              "    [theme=dark] .colab-df-convert {\n",
              "      background-color: #3B4455;\n",
              "      fill: #D2E3FC;\n",
              "    }\n",
              "\n",
              "    [theme=dark] .colab-df-convert:hover {\n",
              "      background-color: #434B5C;\n",
              "      box-shadow: 0px 1px 3px 1px rgba(0, 0, 0, 0.15);\n",
              "      filter: drop-shadow(0px 1px 2px rgba(0, 0, 0, 0.3));\n",
              "      fill: #FFFFFF;\n",
              "    }\n",
              "  </style>\n",
              "\n",
              "    <script>\n",
              "      const buttonEl =\n",
              "        document.querySelector('#df-f489fb33-f495-4c0c-bded-869863379396 button.colab-df-convert');\n",
              "      buttonEl.style.display =\n",
              "        google.colab.kernel.accessAllowed ? 'block' : 'none';\n",
              "\n",
              "      async function convertToInteractive(key) {\n",
              "        const element = document.querySelector('#df-f489fb33-f495-4c0c-bded-869863379396');\n",
              "        const dataTable =\n",
              "          await google.colab.kernel.invokeFunction('convertToInteractive',\n",
              "                                                    [key], {});\n",
              "        if (!dataTable) return;\n",
              "\n",
              "        const docLinkHtml = 'Like what you see? Visit the ' +\n",
              "          '<a target=\"_blank\" href=https://colab.research.google.com/notebooks/data_table.ipynb>data table notebook</a>'\n",
              "          + ' to learn more about interactive tables.';\n",
              "        element.innerHTML = '';\n",
              "        dataTable['output_type'] = 'display_data';\n",
              "        await google.colab.output.renderOutput(dataTable, element);\n",
              "        const docLink = document.createElement('div');\n",
              "        docLink.innerHTML = docLinkHtml;\n",
              "        element.appendChild(docLink);\n",
              "      }\n",
              "    </script>\n",
              "  </div>\n",
              "\n",
              "\n",
              "<div id=\"df-d10c8f38-dc81-41df-9f17-026bd8b83bf3\">\n",
              "  <button class=\"colab-df-quickchart\" onclick=\"quickchart('df-d10c8f38-dc81-41df-9f17-026bd8b83bf3')\"\n",
              "            title=\"Suggest charts\"\n",
              "            style=\"display:none;\">\n",
              "\n",
              "<svg xmlns=\"http://www.w3.org/2000/svg\" height=\"24px\"viewBox=\"0 0 24 24\"\n",
              "     width=\"24px\">\n",
              "    <g>\n",
              "        <path d=\"M19 3H5c-1.1 0-2 .9-2 2v14c0 1.1.9 2 2 2h14c1.1 0 2-.9 2-2V5c0-1.1-.9-2-2-2zM9 17H7v-7h2v7zm4 0h-2V7h2v10zm4 0h-2v-4h2v4z\"/>\n",
              "    </g>\n",
              "</svg>\n",
              "  </button>\n",
              "\n",
              "<style>\n",
              "  .colab-df-quickchart {\n",
              "      --bg-color: #E8F0FE;\n",
              "      --fill-color: #1967D2;\n",
              "      --hover-bg-color: #E2EBFA;\n",
              "      --hover-fill-color: #174EA6;\n",
              "      --disabled-fill-color: #AAA;\n",
              "      --disabled-bg-color: #DDD;\n",
              "  }\n",
              "\n",
              "  [theme=dark] .colab-df-quickchart {\n",
              "      --bg-color: #3B4455;\n",
              "      --fill-color: #D2E3FC;\n",
              "      --hover-bg-color: #434B5C;\n",
              "      --hover-fill-color: #FFFFFF;\n",
              "      --disabled-bg-color: #3B4455;\n",
              "      --disabled-fill-color: #666;\n",
              "  }\n",
              "\n",
              "  .colab-df-quickchart {\n",
              "    background-color: var(--bg-color);\n",
              "    border: none;\n",
              "    border-radius: 50%;\n",
              "    cursor: pointer;\n",
              "    display: none;\n",
              "    fill: var(--fill-color);\n",
              "    height: 32px;\n",
              "    padding: 0;\n",
              "    width: 32px;\n",
              "  }\n",
              "\n",
              "  .colab-df-quickchart:hover {\n",
              "    background-color: var(--hover-bg-color);\n",
              "    box-shadow: 0 1px 2px rgba(60, 64, 67, 0.3), 0 1px 3px 1px rgba(60, 64, 67, 0.15);\n",
              "    fill: var(--button-hover-fill-color);\n",
              "  }\n",
              "\n",
              "  .colab-df-quickchart-complete:disabled,\n",
              "  .colab-df-quickchart-complete:disabled:hover {\n",
              "    background-color: var(--disabled-bg-color);\n",
              "    fill: var(--disabled-fill-color);\n",
              "    box-shadow: none;\n",
              "  }\n",
              "\n",
              "  .colab-df-spinner {\n",
              "    border: 2px solid var(--fill-color);\n",
              "    border-color: transparent;\n",
              "    border-bottom-color: var(--fill-color);\n",
              "    animation:\n",
              "      spin 1s steps(1) infinite;\n",
              "  }\n",
              "\n",
              "  @keyframes spin {\n",
              "    0% {\n",
              "      border-color: transparent;\n",
              "      border-bottom-color: var(--fill-color);\n",
              "      border-left-color: var(--fill-color);\n",
              "    }\n",
              "    20% {\n",
              "      border-color: transparent;\n",
              "      border-left-color: var(--fill-color);\n",
              "      border-top-color: var(--fill-color);\n",
              "    }\n",
              "    30% {\n",
              "      border-color: transparent;\n",
              "      border-left-color: var(--fill-color);\n",
              "      border-top-color: var(--fill-color);\n",
              "      border-right-color: var(--fill-color);\n",
              "    }\n",
              "    40% {\n",
              "      border-color: transparent;\n",
              "      border-right-color: var(--fill-color);\n",
              "      border-top-color: var(--fill-color);\n",
              "    }\n",
              "    60% {\n",
              "      border-color: transparent;\n",
              "      border-right-color: var(--fill-color);\n",
              "    }\n",
              "    80% {\n",
              "      border-color: transparent;\n",
              "      border-right-color: var(--fill-color);\n",
              "      border-bottom-color: var(--fill-color);\n",
              "    }\n",
              "    90% {\n",
              "      border-color: transparent;\n",
              "      border-bottom-color: var(--fill-color);\n",
              "    }\n",
              "  }\n",
              "</style>\n",
              "\n",
              "  <script>\n",
              "    async function quickchart(key) {\n",
              "      const quickchartButtonEl =\n",
              "        document.querySelector('#' + key + ' button');\n",
              "      quickchartButtonEl.disabled = true;  // To prevent multiple clicks.\n",
              "      quickchartButtonEl.classList.add('colab-df-spinner');\n",
              "      try {\n",
              "        const charts = await google.colab.kernel.invokeFunction(\n",
              "            'suggestCharts', [key], {});\n",
              "      } catch (error) {\n",
              "        console.error('Error during call to suggestCharts:', error);\n",
              "      }\n",
              "      quickchartButtonEl.classList.remove('colab-df-spinner');\n",
              "      quickchartButtonEl.classList.add('colab-df-quickchart-complete');\n",
              "    }\n",
              "    (() => {\n",
              "      let quickchartButtonEl =\n",
              "        document.querySelector('#df-d10c8f38-dc81-41df-9f17-026bd8b83bf3 button');\n",
              "      quickchartButtonEl.style.display =\n",
              "        google.colab.kernel.accessAllowed ? 'block' : 'none';\n",
              "    })();\n",
              "  </script>\n",
              "</div>\n",
              "\n",
              "    </div>\n",
              "  </div>\n"
            ],
            "text/plain": [
              "   age     sex     bmi  children smoker     region      charges\n",
              "0   19  female  27.900         0    yes  southwest  16884.92400\n",
              "1   18    male  33.770         1     no  southeast   1725.55230\n",
              "2   28    male  33.000         3     no  southeast   4449.46200\n",
              "3   33    male  22.705         0     no  northwest  21984.47061\n",
              "4   32    male  28.880         0     no  northwest   3866.85520"
            ]
          },
          "metadata": {},
          "output_type": "display_data"
        },
        {
          "data": {
            "application/vnd.google.colaboratory.intrinsic+json": {
              "summary": "{\n  \"name\": \"data\",\n  \"rows\": 1338,\n  \"fields\": [\n    {\n      \"column\": \"age\",\n      \"properties\": {\n        \"dtype\": \"number\",\n        \"std\": 14,\n        \"min\": 18,\n        \"max\": 64,\n        \"num_unique_values\": 47,\n        \"samples\": [\n          21,\n          45,\n          36\n        ],\n        \"semantic_type\": \"\",\n        \"description\": \"\"\n      }\n    },\n    {\n      \"column\": \"sex\",\n      \"properties\": {\n        \"dtype\": \"category\",\n        \"num_unique_values\": 2,\n        \"samples\": [\n          \"male\",\n          \"female\"\n        ],\n        \"semantic_type\": \"\",\n        \"description\": \"\"\n      }\n    },\n    {\n      \"column\": \"bmi\",\n      \"properties\": {\n        \"dtype\": \"number\",\n        \"std\": 6.098186911679017,\n        \"min\": 15.96,\n        \"max\": 53.13,\n        \"num_unique_values\": 548,\n        \"samples\": [\n          23.18,\n          26.885\n        ],\n        \"semantic_type\": \"\",\n        \"description\": \"\"\n      }\n    },\n    {\n      \"column\": \"children\",\n      \"properties\": {\n        \"dtype\": \"number\",\n        \"std\": 1,\n        \"min\": 0,\n        \"max\": 5,\n        \"num_unique_values\": 6,\n        \"samples\": [\n          0,\n          1\n        ],\n        \"semantic_type\": \"\",\n        \"description\": \"\"\n      }\n    },\n    {\n      \"column\": \"smoker\",\n      \"properties\": {\n        \"dtype\": \"category\",\n        \"num_unique_values\": 2,\n        \"samples\": [\n          \"no\",\n          \"yes\"\n        ],\n        \"semantic_type\": \"\",\n        \"description\": \"\"\n      }\n    },\n    {\n      \"column\": \"region\",\n      \"properties\": {\n        \"dtype\": \"category\",\n        \"num_unique_values\": 4,\n        \"samples\": [\n          \"southeast\",\n          \"northeast\"\n        ],\n        \"semantic_type\": \"\",\n        \"description\": \"\"\n      }\n    },\n    {\n      \"column\": \"charges\",\n      \"properties\": {\n        \"dtype\": \"number\",\n        \"std\": 12110.011236693994,\n        \"min\": 1121.8739,\n        \"max\": 63770.42801,\n        \"num_unique_values\": 1337,\n        \"samples\": [\n          8688.85885,\n          5708.867\n        ],\n        \"semantic_type\": \"\",\n        \"description\": \"\"\n      }\n    }\n  ]\n}",
              "type": "dataframe",
              "variable_name": "data"
            },
            "text/html": [
              "\n",
              "  <div id=\"df-7e1bebab-6d5c-42b9-9076-0d9e8713ea16\" class=\"colab-df-container\">\n",
              "    <div>\n",
              "<style scoped>\n",
              "    .dataframe tbody tr th:only-of-type {\n",
              "        vertical-align: middle;\n",
              "    }\n",
              "\n",
              "    .dataframe tbody tr th {\n",
              "        vertical-align: top;\n",
              "    }\n",
              "\n",
              "    .dataframe thead th {\n",
              "        text-align: right;\n",
              "    }\n",
              "</style>\n",
              "<table border=\"1\" class=\"dataframe\">\n",
              "  <thead>\n",
              "    <tr style=\"text-align: right;\">\n",
              "      <th></th>\n",
              "      <th>age</th>\n",
              "      <th>sex</th>\n",
              "      <th>bmi</th>\n",
              "      <th>children</th>\n",
              "      <th>smoker</th>\n",
              "      <th>region</th>\n",
              "      <th>charges</th>\n",
              "    </tr>\n",
              "  </thead>\n",
              "  <tbody>\n",
              "    <tr>\n",
              "      <th>0</th>\n",
              "      <td>19</td>\n",
              "      <td>female</td>\n",
              "      <td>27.900</td>\n",
              "      <td>0</td>\n",
              "      <td>yes</td>\n",
              "      <td>southwest</td>\n",
              "      <td>16884.92400</td>\n",
              "    </tr>\n",
              "    <tr>\n",
              "      <th>1</th>\n",
              "      <td>18</td>\n",
              "      <td>male</td>\n",
              "      <td>33.770</td>\n",
              "      <td>1</td>\n",
              "      <td>no</td>\n",
              "      <td>southeast</td>\n",
              "      <td>1725.55230</td>\n",
              "    </tr>\n",
              "    <tr>\n",
              "      <th>2</th>\n",
              "      <td>28</td>\n",
              "      <td>male</td>\n",
              "      <td>33.000</td>\n",
              "      <td>3</td>\n",
              "      <td>no</td>\n",
              "      <td>southeast</td>\n",
              "      <td>4449.46200</td>\n",
              "    </tr>\n",
              "    <tr>\n",
              "      <th>3</th>\n",
              "      <td>33</td>\n",
              "      <td>male</td>\n",
              "      <td>22.705</td>\n",
              "      <td>0</td>\n",
              "      <td>no</td>\n",
              "      <td>northwest</td>\n",
              "      <td>21984.47061</td>\n",
              "    </tr>\n",
              "    <tr>\n",
              "      <th>4</th>\n",
              "      <td>32</td>\n",
              "      <td>male</td>\n",
              "      <td>28.880</td>\n",
              "      <td>0</td>\n",
              "      <td>no</td>\n",
              "      <td>northwest</td>\n",
              "      <td>3866.85520</td>\n",
              "    </tr>\n",
              "  </tbody>\n",
              "</table>\n",
              "</div>\n",
              "    <div class=\"colab-df-buttons\">\n",
              "\n",
              "  <div class=\"colab-df-container\">\n",
              "    <button class=\"colab-df-convert\" onclick=\"convertToInteractive('df-7e1bebab-6d5c-42b9-9076-0d9e8713ea16')\"\n",
              "            title=\"Convert this dataframe to an interactive table.\"\n",
              "            style=\"display:none;\">\n",
              "\n",
              "  <svg xmlns=\"http://www.w3.org/2000/svg\" height=\"24px\" viewBox=\"0 -960 960 960\">\n",
              "    <path d=\"M120-120v-720h720v720H120Zm60-500h600v-160H180v160Zm220 220h160v-160H400v160Zm0 220h160v-160H400v160ZM180-400h160v-160H180v160Zm440 0h160v-160H620v160ZM180-180h160v-160H180v160Zm440 0h160v-160H620v160Z\"/>\n",
              "  </svg>\n",
              "    </button>\n",
              "\n",
              "  <style>\n",
              "    .colab-df-container {\n",
              "      display:flex;\n",
              "      gap: 12px;\n",
              "    }\n",
              "\n",
              "    .colab-df-convert {\n",
              "      background-color: #E8F0FE;\n",
              "      border: none;\n",
              "      border-radius: 50%;\n",
              "      cursor: pointer;\n",
              "      display: none;\n",
              "      fill: #1967D2;\n",
              "      height: 32px;\n",
              "      padding: 0 0 0 0;\n",
              "      width: 32px;\n",
              "    }\n",
              "\n",
              "    .colab-df-convert:hover {\n",
              "      background-color: #E2EBFA;\n",
              "      box-shadow: 0px 1px 2px rgba(60, 64, 67, 0.3), 0px 1px 3px 1px rgba(60, 64, 67, 0.15);\n",
              "      fill: #174EA6;\n",
              "    }\n",
              "\n",
              "    .colab-df-buttons div {\n",
              "      margin-bottom: 4px;\n",
              "    }\n",
              "\n",
              "    [theme=dark] .colab-df-convert {\n",
              "      background-color: #3B4455;\n",
              "      fill: #D2E3FC;\n",
              "    }\n",
              "\n",
              "    [theme=dark] .colab-df-convert:hover {\n",
              "      background-color: #434B5C;\n",
              "      box-shadow: 0px 1px 3px 1px rgba(0, 0, 0, 0.15);\n",
              "      filter: drop-shadow(0px 1px 2px rgba(0, 0, 0, 0.3));\n",
              "      fill: #FFFFFF;\n",
              "    }\n",
              "  </style>\n",
              "\n",
              "    <script>\n",
              "      const buttonEl =\n",
              "        document.querySelector('#df-7e1bebab-6d5c-42b9-9076-0d9e8713ea16 button.colab-df-convert');\n",
              "      buttonEl.style.display =\n",
              "        google.colab.kernel.accessAllowed ? 'block' : 'none';\n",
              "\n",
              "      async function convertToInteractive(key) {\n",
              "        const element = document.querySelector('#df-7e1bebab-6d5c-42b9-9076-0d9e8713ea16');\n",
              "        const dataTable =\n",
              "          await google.colab.kernel.invokeFunction('convertToInteractive',\n",
              "                                                    [key], {});\n",
              "        if (!dataTable) return;\n",
              "\n",
              "        const docLinkHtml = 'Like what you see? Visit the ' +\n",
              "          '<a target=\"_blank\" href=https://colab.research.google.com/notebooks/data_table.ipynb>data table notebook</a>'\n",
              "          + ' to learn more about interactive tables.';\n",
              "        element.innerHTML = '';\n",
              "        dataTable['output_type'] = 'display_data';\n",
              "        await google.colab.output.renderOutput(dataTable, element);\n",
              "        const docLink = document.createElement('div');\n",
              "        docLink.innerHTML = docLinkHtml;\n",
              "        element.appendChild(docLink);\n",
              "      }\n",
              "    </script>\n",
              "  </div>\n",
              "\n",
              "\n",
              "<div id=\"df-de8a3a30-cbe7-4777-8796-da235c4bb29f\">\n",
              "  <button class=\"colab-df-quickchart\" onclick=\"quickchart('df-de8a3a30-cbe7-4777-8796-da235c4bb29f')\"\n",
              "            title=\"Suggest charts\"\n",
              "            style=\"display:none;\">\n",
              "\n",
              "<svg xmlns=\"http://www.w3.org/2000/svg\" height=\"24px\"viewBox=\"0 0 24 24\"\n",
              "     width=\"24px\">\n",
              "    <g>\n",
              "        <path d=\"M19 3H5c-1.1 0-2 .9-2 2v14c0 1.1.9 2 2 2h14c1.1 0 2-.9 2-2V5c0-1.1-.9-2-2-2zM9 17H7v-7h2v7zm4 0h-2V7h2v10zm4 0h-2v-4h2v4z\"/>\n",
              "    </g>\n",
              "</svg>\n",
              "  </button>\n",
              "\n",
              "<style>\n",
              "  .colab-df-quickchart {\n",
              "      --bg-color: #E8F0FE;\n",
              "      --fill-color: #1967D2;\n",
              "      --hover-bg-color: #E2EBFA;\n",
              "      --hover-fill-color: #174EA6;\n",
              "      --disabled-fill-color: #AAA;\n",
              "      --disabled-bg-color: #DDD;\n",
              "  }\n",
              "\n",
              "  [theme=dark] .colab-df-quickchart {\n",
              "      --bg-color: #3B4455;\n",
              "      --fill-color: #D2E3FC;\n",
              "      --hover-bg-color: #434B5C;\n",
              "      --hover-fill-color: #FFFFFF;\n",
              "      --disabled-bg-color: #3B4455;\n",
              "      --disabled-fill-color: #666;\n",
              "  }\n",
              "\n",
              "  .colab-df-quickchart {\n",
              "    background-color: var(--bg-color);\n",
              "    border: none;\n",
              "    border-radius: 50%;\n",
              "    cursor: pointer;\n",
              "    display: none;\n",
              "    fill: var(--fill-color);\n",
              "    height: 32px;\n",
              "    padding: 0;\n",
              "    width: 32px;\n",
              "  }\n",
              "\n",
              "  .colab-df-quickchart:hover {\n",
              "    background-color: var(--hover-bg-color);\n",
              "    box-shadow: 0 1px 2px rgba(60, 64, 67, 0.3), 0 1px 3px 1px rgba(60, 64, 67, 0.15);\n",
              "    fill: var(--button-hover-fill-color);\n",
              "  }\n",
              "\n",
              "  .colab-df-quickchart-complete:disabled,\n",
              "  .colab-df-quickchart-complete:disabled:hover {\n",
              "    background-color: var(--disabled-bg-color);\n",
              "    fill: var(--disabled-fill-color);\n",
              "    box-shadow: none;\n",
              "  }\n",
              "\n",
              "  .colab-df-spinner {\n",
              "    border: 2px solid var(--fill-color);\n",
              "    border-color: transparent;\n",
              "    border-bottom-color: var(--fill-color);\n",
              "    animation:\n",
              "      spin 1s steps(1) infinite;\n",
              "  }\n",
              "\n",
              "  @keyframes spin {\n",
              "    0% {\n",
              "      border-color: transparent;\n",
              "      border-bottom-color: var(--fill-color);\n",
              "      border-left-color: var(--fill-color);\n",
              "    }\n",
              "    20% {\n",
              "      border-color: transparent;\n",
              "      border-left-color: var(--fill-color);\n",
              "      border-top-color: var(--fill-color);\n",
              "    }\n",
              "    30% {\n",
              "      border-color: transparent;\n",
              "      border-left-color: var(--fill-color);\n",
              "      border-top-color: var(--fill-color);\n",
              "      border-right-color: var(--fill-color);\n",
              "    }\n",
              "    40% {\n",
              "      border-color: transparent;\n",
              "      border-right-color: var(--fill-color);\n",
              "      border-top-color: var(--fill-color);\n",
              "    }\n",
              "    60% {\n",
              "      border-color: transparent;\n",
              "      border-right-color: var(--fill-color);\n",
              "    }\n",
              "    80% {\n",
              "      border-color: transparent;\n",
              "      border-right-color: var(--fill-color);\n",
              "      border-bottom-color: var(--fill-color);\n",
              "    }\n",
              "    90% {\n",
              "      border-color: transparent;\n",
              "      border-bottom-color: var(--fill-color);\n",
              "    }\n",
              "  }\n",
              "</style>\n",
              "\n",
              "  <script>\n",
              "    async function quickchart(key) {\n",
              "      const quickchartButtonEl =\n",
              "        document.querySelector('#' + key + ' button');\n",
              "      quickchartButtonEl.disabled = true;  // To prevent multiple clicks.\n",
              "      quickchartButtonEl.classList.add('colab-df-spinner');\n",
              "      try {\n",
              "        const charts = await google.colab.kernel.invokeFunction(\n",
              "            'suggestCharts', [key], {});\n",
              "      } catch (error) {\n",
              "        console.error('Error during call to suggestCharts:', error);\n",
              "      }\n",
              "      quickchartButtonEl.classList.remove('colab-df-spinner');\n",
              "      quickchartButtonEl.classList.add('colab-df-quickchart-complete');\n",
              "    }\n",
              "    (() => {\n",
              "      let quickchartButtonEl =\n",
              "        document.querySelector('#df-de8a3a30-cbe7-4777-8796-da235c4bb29f button');\n",
              "      quickchartButtonEl.style.display =\n",
              "        google.colab.kernel.accessAllowed ? 'block' : 'none';\n",
              "    })();\n",
              "  </script>\n",
              "</div>\n",
              "\n",
              "    </div>\n",
              "  </div>\n"
            ],
            "text/plain": [
              "   age     sex     bmi  children smoker     region      charges\n",
              "0   19  female  27.900         0    yes  southwest  16884.92400\n",
              "1   18    male  33.770         1     no  southeast   1725.55230\n",
              "2   28    male  33.000         3     no  southeast   4449.46200\n",
              "3   33    male  22.705         0     no  northwest  21984.47061\n",
              "4   32    male  28.880         0     no  northwest   3866.85520"
            ]
          },
          "execution_count": 2,
          "metadata": {},
          "output_type": "execute_result"
        }
      ],
      "source": [
        "# Выберем простой регрессионный датасет\n",
        "data = get_data('insurance')\n",
        "\n",
        "# Покажем первые строки\n",
        "data.head()"
      ]
    },
    {
      "cell_type": "code",
      "execution_count": 3,
      "metadata": {
        "colab": {
          "base_uri": "https://localhost:8080/",
          "height": 739
        },
        "id": "YXCFHt0sREpw",
        "outputId": "d5548993-f1e3-4fe6-c77f-3bc343c0db22"
      },
      "outputs": [
        {
          "data": {
            "text/html": [
              "<style type=\"text/css\">\n",
              "#T_60c84_row9_col1 {\n",
              "  background-color: lightgreen;\n",
              "}\n",
              "</style>\n",
              "<table id=\"T_60c84\" class=\"dataframe\">\n",
              "  <thead>\n",
              "    <tr>\n",
              "      <th class=\"blank level0\" >&nbsp;</th>\n",
              "      <th id=\"T_60c84_level0_col0\" class=\"col_heading level0 col0\" >Description</th>\n",
              "      <th id=\"T_60c84_level0_col1\" class=\"col_heading level0 col1\" >Value</th>\n",
              "    </tr>\n",
              "  </thead>\n",
              "  <tbody>\n",
              "    <tr>\n",
              "      <th id=\"T_60c84_level0_row0\" class=\"row_heading level0 row0\" >0</th>\n",
              "      <td id=\"T_60c84_row0_col0\" class=\"data row0 col0\" >Session id</td>\n",
              "      <td id=\"T_60c84_row0_col1\" class=\"data row0 col1\" >123</td>\n",
              "    </tr>\n",
              "    <tr>\n",
              "      <th id=\"T_60c84_level0_row1\" class=\"row_heading level0 row1\" >1</th>\n",
              "      <td id=\"T_60c84_row1_col0\" class=\"data row1 col0\" >Target</td>\n",
              "      <td id=\"T_60c84_row1_col1\" class=\"data row1 col1\" >charges</td>\n",
              "    </tr>\n",
              "    <tr>\n",
              "      <th id=\"T_60c84_level0_row2\" class=\"row_heading level0 row2\" >2</th>\n",
              "      <td id=\"T_60c84_row2_col0\" class=\"data row2 col0\" >Target type</td>\n",
              "      <td id=\"T_60c84_row2_col1\" class=\"data row2 col1\" >Regression</td>\n",
              "    </tr>\n",
              "    <tr>\n",
              "      <th id=\"T_60c84_level0_row3\" class=\"row_heading level0 row3\" >3</th>\n",
              "      <td id=\"T_60c84_row3_col0\" class=\"data row3 col0\" >Original data shape</td>\n",
              "      <td id=\"T_60c84_row3_col1\" class=\"data row3 col1\" >(1338, 7)</td>\n",
              "    </tr>\n",
              "    <tr>\n",
              "      <th id=\"T_60c84_level0_row4\" class=\"row_heading level0 row4\" >4</th>\n",
              "      <td id=\"T_60c84_row4_col0\" class=\"data row4 col0\" >Transformed data shape</td>\n",
              "      <td id=\"T_60c84_row4_col1\" class=\"data row4 col1\" >(1338, 10)</td>\n",
              "    </tr>\n",
              "    <tr>\n",
              "      <th id=\"T_60c84_level0_row5\" class=\"row_heading level0 row5\" >5</th>\n",
              "      <td id=\"T_60c84_row5_col0\" class=\"data row5 col0\" >Transformed train set shape</td>\n",
              "      <td id=\"T_60c84_row5_col1\" class=\"data row5 col1\" >(936, 10)</td>\n",
              "    </tr>\n",
              "    <tr>\n",
              "      <th id=\"T_60c84_level0_row6\" class=\"row_heading level0 row6\" >6</th>\n",
              "      <td id=\"T_60c84_row6_col0\" class=\"data row6 col0\" >Transformed test set shape</td>\n",
              "      <td id=\"T_60c84_row6_col1\" class=\"data row6 col1\" >(402, 10)</td>\n",
              "    </tr>\n",
              "    <tr>\n",
              "      <th id=\"T_60c84_level0_row7\" class=\"row_heading level0 row7\" >7</th>\n",
              "      <td id=\"T_60c84_row7_col0\" class=\"data row7 col0\" >Numeric features</td>\n",
              "      <td id=\"T_60c84_row7_col1\" class=\"data row7 col1\" >3</td>\n",
              "    </tr>\n",
              "    <tr>\n",
              "      <th id=\"T_60c84_level0_row8\" class=\"row_heading level0 row8\" >8</th>\n",
              "      <td id=\"T_60c84_row8_col0\" class=\"data row8 col0\" >Categorical features</td>\n",
              "      <td id=\"T_60c84_row8_col1\" class=\"data row8 col1\" >3</td>\n",
              "    </tr>\n",
              "    <tr>\n",
              "      <th id=\"T_60c84_level0_row9\" class=\"row_heading level0 row9\" >9</th>\n",
              "      <td id=\"T_60c84_row9_col0\" class=\"data row9 col0\" >Preprocess</td>\n",
              "      <td id=\"T_60c84_row9_col1\" class=\"data row9 col1\" >True</td>\n",
              "    </tr>\n",
              "    <tr>\n",
              "      <th id=\"T_60c84_level0_row10\" class=\"row_heading level0 row10\" >10</th>\n",
              "      <td id=\"T_60c84_row10_col0\" class=\"data row10 col0\" >Imputation type</td>\n",
              "      <td id=\"T_60c84_row10_col1\" class=\"data row10 col1\" >simple</td>\n",
              "    </tr>\n",
              "    <tr>\n",
              "      <th id=\"T_60c84_level0_row11\" class=\"row_heading level0 row11\" >11</th>\n",
              "      <td id=\"T_60c84_row11_col0\" class=\"data row11 col0\" >Numeric imputation</td>\n",
              "      <td id=\"T_60c84_row11_col1\" class=\"data row11 col1\" >mean</td>\n",
              "    </tr>\n",
              "    <tr>\n",
              "      <th id=\"T_60c84_level0_row12\" class=\"row_heading level0 row12\" >12</th>\n",
              "      <td id=\"T_60c84_row12_col0\" class=\"data row12 col0\" >Categorical imputation</td>\n",
              "      <td id=\"T_60c84_row12_col1\" class=\"data row12 col1\" >mode</td>\n",
              "    </tr>\n",
              "    <tr>\n",
              "      <th id=\"T_60c84_level0_row13\" class=\"row_heading level0 row13\" >13</th>\n",
              "      <td id=\"T_60c84_row13_col0\" class=\"data row13 col0\" >Maximum one-hot encoding</td>\n",
              "      <td id=\"T_60c84_row13_col1\" class=\"data row13 col1\" >25</td>\n",
              "    </tr>\n",
              "    <tr>\n",
              "      <th id=\"T_60c84_level0_row14\" class=\"row_heading level0 row14\" >14</th>\n",
              "      <td id=\"T_60c84_row14_col0\" class=\"data row14 col0\" >Encoding method</td>\n",
              "      <td id=\"T_60c84_row14_col1\" class=\"data row14 col1\" >None</td>\n",
              "    </tr>\n",
              "    <tr>\n",
              "      <th id=\"T_60c84_level0_row15\" class=\"row_heading level0 row15\" >15</th>\n",
              "      <td id=\"T_60c84_row15_col0\" class=\"data row15 col0\" >Fold Generator</td>\n",
              "      <td id=\"T_60c84_row15_col1\" class=\"data row15 col1\" >KFold</td>\n",
              "    </tr>\n",
              "    <tr>\n",
              "      <th id=\"T_60c84_level0_row16\" class=\"row_heading level0 row16\" >16</th>\n",
              "      <td id=\"T_60c84_row16_col0\" class=\"data row16 col0\" >Fold Number</td>\n",
              "      <td id=\"T_60c84_row16_col1\" class=\"data row16 col1\" >10</td>\n",
              "    </tr>\n",
              "    <tr>\n",
              "      <th id=\"T_60c84_level0_row17\" class=\"row_heading level0 row17\" >17</th>\n",
              "      <td id=\"T_60c84_row17_col0\" class=\"data row17 col0\" >CPU Jobs</td>\n",
              "      <td id=\"T_60c84_row17_col1\" class=\"data row17 col1\" >-1</td>\n",
              "    </tr>\n",
              "    <tr>\n",
              "      <th id=\"T_60c84_level0_row18\" class=\"row_heading level0 row18\" >18</th>\n",
              "      <td id=\"T_60c84_row18_col0\" class=\"data row18 col0\" >Use GPU</td>\n",
              "      <td id=\"T_60c84_row18_col1\" class=\"data row18 col1\" >False</td>\n",
              "    </tr>\n",
              "    <tr>\n",
              "      <th id=\"T_60c84_level0_row19\" class=\"row_heading level0 row19\" >19</th>\n",
              "      <td id=\"T_60c84_row19_col0\" class=\"data row19 col0\" >Log Experiment</td>\n",
              "      <td id=\"T_60c84_row19_col1\" class=\"data row19 col1\" >False</td>\n",
              "    </tr>\n",
              "    <tr>\n",
              "      <th id=\"T_60c84_level0_row20\" class=\"row_heading level0 row20\" >20</th>\n",
              "      <td id=\"T_60c84_row20_col0\" class=\"data row20 col0\" >Experiment Name</td>\n",
              "      <td id=\"T_60c84_row20_col1\" class=\"data row20 col1\" >reg-default-name</td>\n",
              "    </tr>\n",
              "    <tr>\n",
              "      <th id=\"T_60c84_level0_row21\" class=\"row_heading level0 row21\" >21</th>\n",
              "      <td id=\"T_60c84_row21_col0\" class=\"data row21 col0\" >USI</td>\n",
              "      <td id=\"T_60c84_row21_col1\" class=\"data row21 col1\" >467e</td>\n",
              "    </tr>\n",
              "  </tbody>\n",
              "</table>\n"
            ],
            "text/plain": [
              "<pandas.io.formats.style.Styler at 0x79a3c192bc10>"
            ]
          },
          "metadata": {},
          "output_type": "display_data"
        }
      ],
      "source": [
        "# Укажем целевую переменную\n",
        "exp = setup(data, target='charges', session_id=123)"
      ]
    },
    {
      "cell_type": "code",
      "execution_count": 4,
      "metadata": {
        "colab": {
          "base_uri": "https://localhost:8080/",
          "height": 1000,
          "referenced_widgets": [
            "cf64ff5017d841d2991594703e94742d",
            "803c0d2d08334960bfd184c8fd3ea66b",
            "1a6faa6394b844998eeeae6ecfdb06f2",
            "4ba6ae5cc5b541ed8c58a34be23080d3",
            "5b0ce7756f894a97be1edfc74c20cc92",
            "eda71403f918498da675ab706596d230",
            "9a0dd1114c3c4fbf8471e3163ee75a76",
            "dca256763bf84bdebd5fc21202566cd1",
            "f94b532f165e4203adbfddc380673f66",
            "6bfddd40b6f04bf2a608fc37d6c0864b",
            "0012d53535a2413cb182730b600df7e5"
          ]
        },
        "id": "Q3uTP0OCRplk",
        "outputId": "b9a6493f-f7b8-4f4c-eb21-b187ad5925a4"
      },
      "outputs": [
        {
          "data": {
            "text/html": [],
            "text/plain": [
              "<IPython.core.display.HTML object>"
            ]
          },
          "metadata": {},
          "output_type": "display_data"
        },
        {
          "data": {
            "text/html": [
              "<style type=\"text/css\">\n",
              "#T_a2543 th {\n",
              "  text-align: left;\n",
              "}\n",
              "#T_a2543_row0_col0, #T_a2543_row0_col6, #T_a2543_row1_col0, #T_a2543_row1_col1, #T_a2543_row1_col2, #T_a2543_row1_col3, #T_a2543_row1_col4, #T_a2543_row1_col5, #T_a2543_row1_col6, #T_a2543_row2_col0, #T_a2543_row2_col1, #T_a2543_row2_col2, #T_a2543_row2_col3, #T_a2543_row2_col4, #T_a2543_row2_col5, #T_a2543_row2_col6, #T_a2543_row3_col0, #T_a2543_row3_col1, #T_a2543_row3_col2, #T_a2543_row3_col3, #T_a2543_row3_col4, #T_a2543_row3_col5, #T_a2543_row3_col6, #T_a2543_row4_col0, #T_a2543_row4_col1, #T_a2543_row4_col2, #T_a2543_row4_col3, #T_a2543_row4_col4, #T_a2543_row4_col5, #T_a2543_row4_col6, #T_a2543_row5_col0, #T_a2543_row5_col1, #T_a2543_row5_col2, #T_a2543_row5_col3, #T_a2543_row5_col4, #T_a2543_row5_col5, #T_a2543_row5_col6, #T_a2543_row6_col0, #T_a2543_row6_col1, #T_a2543_row6_col2, #T_a2543_row6_col3, #T_a2543_row6_col4, #T_a2543_row6_col5, #T_a2543_row6_col6, #T_a2543_row7_col0, #T_a2543_row7_col1, #T_a2543_row7_col2, #T_a2543_row7_col3, #T_a2543_row7_col4, #T_a2543_row7_col5, #T_a2543_row7_col6, #T_a2543_row8_col0, #T_a2543_row8_col1, #T_a2543_row8_col2, #T_a2543_row8_col3, #T_a2543_row8_col4, #T_a2543_row8_col5, #T_a2543_row8_col6, #T_a2543_row9_col0, #T_a2543_row9_col1, #T_a2543_row9_col2, #T_a2543_row9_col3, #T_a2543_row9_col4, #T_a2543_row9_col5, #T_a2543_row9_col6, #T_a2543_row10_col0, #T_a2543_row10_col1, #T_a2543_row10_col2, #T_a2543_row10_col3, #T_a2543_row10_col4, #T_a2543_row10_col5, #T_a2543_row10_col6, #T_a2543_row11_col0, #T_a2543_row11_col1, #T_a2543_row11_col2, #T_a2543_row11_col3, #T_a2543_row11_col4, #T_a2543_row11_col5, #T_a2543_row11_col6, #T_a2543_row12_col0, #T_a2543_row12_col1, #T_a2543_row12_col2, #T_a2543_row12_col3, #T_a2543_row12_col4, #T_a2543_row12_col5, #T_a2543_row13_col0, #T_a2543_row13_col1, #T_a2543_row13_col2, #T_a2543_row13_col3, #T_a2543_row13_col4, #T_a2543_row13_col5, #T_a2543_row13_col6, #T_a2543_row14_col0, #T_a2543_row14_col1, #T_a2543_row14_col2, #T_a2543_row14_col3, #T_a2543_row14_col4, #T_a2543_row14_col5, #T_a2543_row14_col6, #T_a2543_row15_col0, #T_a2543_row15_col1, #T_a2543_row15_col2, #T_a2543_row15_col3, #T_a2543_row15_col4, #T_a2543_row15_col5, #T_a2543_row15_col6, #T_a2543_row16_col0, #T_a2543_row16_col1, #T_a2543_row16_col2, #T_a2543_row16_col3, #T_a2543_row16_col4, #T_a2543_row16_col5, #T_a2543_row16_col6, #T_a2543_row17_col0, #T_a2543_row17_col1, #T_a2543_row17_col2, #T_a2543_row17_col3, #T_a2543_row17_col4, #T_a2543_row17_col5, #T_a2543_row17_col6, #T_a2543_row18_col0, #T_a2543_row18_col1, #T_a2543_row18_col2, #T_a2543_row18_col3, #T_a2543_row18_col4, #T_a2543_row18_col5, #T_a2543_row18_col6 {\n",
              "  text-align: left;\n",
              "}\n",
              "#T_a2543_row0_col1, #T_a2543_row0_col2, #T_a2543_row0_col3, #T_a2543_row0_col4, #T_a2543_row0_col5, #T_a2543_row12_col6 {\n",
              "  text-align: left;\n",
              "  background-color: yellow;\n",
              "}\n",
              "#T_a2543_row0_col7, #T_a2543_row1_col7, #T_a2543_row2_col7, #T_a2543_row3_col7, #T_a2543_row4_col7, #T_a2543_row5_col7, #T_a2543_row6_col7, #T_a2543_row7_col7, #T_a2543_row8_col7, #T_a2543_row9_col7, #T_a2543_row10_col7, #T_a2543_row11_col7, #T_a2543_row12_col7, #T_a2543_row13_col7, #T_a2543_row14_col7, #T_a2543_row15_col7, #T_a2543_row16_col7, #T_a2543_row17_col7 {\n",
              "  text-align: left;\n",
              "  background-color: lightgrey;\n",
              "}\n",
              "#T_a2543_row18_col7 {\n",
              "  text-align: left;\n",
              "  background-color: yellow;\n",
              "  background-color: lightgrey;\n",
              "}\n",
              "</style>\n",
              "<table id=\"T_a2543\" class=\"dataframe\">\n",
              "  <thead>\n",
              "    <tr>\n",
              "      <th class=\"blank level0\" >&nbsp;</th>\n",
              "      <th id=\"T_a2543_level0_col0\" class=\"col_heading level0 col0\" >Model</th>\n",
              "      <th id=\"T_a2543_level0_col1\" class=\"col_heading level0 col1\" >MAE</th>\n",
              "      <th id=\"T_a2543_level0_col2\" class=\"col_heading level0 col2\" >MSE</th>\n",
              "      <th id=\"T_a2543_level0_col3\" class=\"col_heading level0 col3\" >RMSE</th>\n",
              "      <th id=\"T_a2543_level0_col4\" class=\"col_heading level0 col4\" >R2</th>\n",
              "      <th id=\"T_a2543_level0_col5\" class=\"col_heading level0 col5\" >RMSLE</th>\n",
              "      <th id=\"T_a2543_level0_col6\" class=\"col_heading level0 col6\" >MAPE</th>\n",
              "      <th id=\"T_a2543_level0_col7\" class=\"col_heading level0 col7\" >TT (Sec)</th>\n",
              "    </tr>\n",
              "  </thead>\n",
              "  <tbody>\n",
              "    <tr>\n",
              "      <th id=\"T_a2543_level0_row0\" class=\"row_heading level0 row0\" >gbr</th>\n",
              "      <td id=\"T_a2543_row0_col0\" class=\"data row0 col0\" >Gradient Boosting Regressor</td>\n",
              "      <td id=\"T_a2543_row0_col1\" class=\"data row0 col1\" >2701.9927</td>\n",
              "      <td id=\"T_a2543_row0_col2\" class=\"data row0 col2\" >23548981.3626</td>\n",
              "      <td id=\"T_a2543_row0_col3\" class=\"data row0 col3\" >4832.9682</td>\n",
              "      <td id=\"T_a2543_row0_col4\" class=\"data row0 col4\" >0.8320</td>\n",
              "      <td id=\"T_a2543_row0_col5\" class=\"data row0 col5\" >0.4447</td>\n",
              "      <td id=\"T_a2543_row0_col6\" class=\"data row0 col6\" >0.3137</td>\n",
              "      <td id=\"T_a2543_row0_col7\" class=\"data row0 col7\" >0.1470</td>\n",
              "    </tr>\n",
              "    <tr>\n",
              "      <th id=\"T_a2543_level0_row1\" class=\"row_heading level0 row1\" >rf</th>\n",
              "      <td id=\"T_a2543_row1_col0\" class=\"data row1 col0\" >Random Forest Regressor</td>\n",
              "      <td id=\"T_a2543_row1_col1\" class=\"data row1 col1\" >2771.4583</td>\n",
              "      <td id=\"T_a2543_row1_col2\" class=\"data row1 col2\" >25416502.3827</td>\n",
              "      <td id=\"T_a2543_row1_col3\" class=\"data row1 col3\" >5028.6343</td>\n",
              "      <td id=\"T_a2543_row1_col4\" class=\"data row1 col4\" >0.8172</td>\n",
              "      <td id=\"T_a2543_row1_col5\" class=\"data row1 col5\" >0.4690</td>\n",
              "      <td id=\"T_a2543_row1_col6\" class=\"data row1 col6\" >0.3303</td>\n",
              "      <td id=\"T_a2543_row1_col7\" class=\"data row1 col7\" >0.4640</td>\n",
              "    </tr>\n",
              "    <tr>\n",
              "      <th id=\"T_a2543_level0_row2\" class=\"row_heading level0 row2\" >lightgbm</th>\n",
              "      <td id=\"T_a2543_row2_col0\" class=\"data row2 col0\" >Light Gradient Boosting Machine</td>\n",
              "      <td id=\"T_a2543_row2_col1\" class=\"data row2 col1\" >2992.1828</td>\n",
              "      <td id=\"T_a2543_row2_col2\" class=\"data row2 col2\" >25521038.3331</td>\n",
              "      <td id=\"T_a2543_row2_col3\" class=\"data row2 col3\" >5042.0978</td>\n",
              "      <td id=\"T_a2543_row2_col4\" class=\"data row2 col4\" >0.8149</td>\n",
              "      <td id=\"T_a2543_row2_col5\" class=\"data row2 col5\" >0.5378</td>\n",
              "      <td id=\"T_a2543_row2_col6\" class=\"data row2 col6\" >0.3751</td>\n",
              "      <td id=\"T_a2543_row2_col7\" class=\"data row2 col7\" >0.7160</td>\n",
              "    </tr>\n",
              "    <tr>\n",
              "      <th id=\"T_a2543_level0_row3\" class=\"row_heading level0 row3\" >et</th>\n",
              "      <td id=\"T_a2543_row3_col0\" class=\"data row3 col0\" >Extra Trees Regressor</td>\n",
              "      <td id=\"T_a2543_row3_col1\" class=\"data row3 col1\" >2833.3624</td>\n",
              "      <td id=\"T_a2543_row3_col2\" class=\"data row3 col2\" >28427844.2412</td>\n",
              "      <td id=\"T_a2543_row3_col3\" class=\"data row3 col3\" >5305.6516</td>\n",
              "      <td id=\"T_a2543_row3_col4\" class=\"data row3 col4\" >0.7991</td>\n",
              "      <td id=\"T_a2543_row3_col5\" class=\"data row3 col5\" >0.4877</td>\n",
              "      <td id=\"T_a2543_row3_col6\" class=\"data row3 col6\" >0.3363</td>\n",
              "      <td id=\"T_a2543_row3_col7\" class=\"data row3 col7\" >0.2810</td>\n",
              "    </tr>\n",
              "    <tr>\n",
              "      <th id=\"T_a2543_level0_row4\" class=\"row_heading level0 row4\" >ada</th>\n",
              "      <td id=\"T_a2543_row4_col0\" class=\"data row4 col0\" >AdaBoost Regressor</td>\n",
              "      <td id=\"T_a2543_row4_col1\" class=\"data row4 col1\" >4316.0568</td>\n",
              "      <td id=\"T_a2543_row4_col2\" class=\"data row4 col2\" >29220505.6498</td>\n",
              "      <td id=\"T_a2543_row4_col3\" class=\"data row4 col3\" >5398.4561</td>\n",
              "      <td id=\"T_a2543_row4_col4\" class=\"data row4 col4\" >0.7903</td>\n",
              "      <td id=\"T_a2543_row4_col5\" class=\"data row4 col5\" >0.6368</td>\n",
              "      <td id=\"T_a2543_row4_col6\" class=\"data row4 col6\" >0.7394</td>\n",
              "      <td id=\"T_a2543_row4_col7\" class=\"data row4 col7\" >0.0770</td>\n",
              "    </tr>\n",
              "    <tr>\n",
              "      <th id=\"T_a2543_level0_row5\" class=\"row_heading level0 row5\" >xgboost</th>\n",
              "      <td id=\"T_a2543_row5_col0\" class=\"data row5 col0\" >Extreme Gradient Boosting</td>\n",
              "      <td id=\"T_a2543_row5_col1\" class=\"data row5 col1\" >3278.3216</td>\n",
              "      <td id=\"T_a2543_row5_col2\" class=\"data row5 col2\" >31628234.0000</td>\n",
              "      <td id=\"T_a2543_row5_col3\" class=\"data row5 col3\" >5599.0988</td>\n",
              "      <td id=\"T_a2543_row5_col4\" class=\"data row5 col4\" >0.7709</td>\n",
              "      <td id=\"T_a2543_row5_col5\" class=\"data row5 col5\" >0.5733</td>\n",
              "      <td id=\"T_a2543_row5_col6\" class=\"data row5 col6\" >0.4208</td>\n",
              "      <td id=\"T_a2543_row5_col7\" class=\"data row5 col7\" >0.1240</td>\n",
              "    </tr>\n",
              "    <tr>\n",
              "      <th id=\"T_a2543_level0_row6\" class=\"row_heading level0 row6\" >br</th>\n",
              "      <td id=\"T_a2543_row6_col0\" class=\"data row6 col0\" >Bayesian Ridge</td>\n",
              "      <td id=\"T_a2543_row6_col1\" class=\"data row6 col1\" >4311.2349</td>\n",
              "      <td id=\"T_a2543_row6_col2\" class=\"data row6 col2\" >38391950.0874</td>\n",
              "      <td id=\"T_a2543_row6_col3\" class=\"data row6 col3\" >6176.8896</td>\n",
              "      <td id=\"T_a2543_row6_col4\" class=\"data row6 col4\" >0.7306</td>\n",
              "      <td id=\"T_a2543_row6_col5\" class=\"data row6 col5\" >0.5910</td>\n",
              "      <td id=\"T_a2543_row6_col6\" class=\"data row6 col6\" >0.4447</td>\n",
              "      <td id=\"T_a2543_row6_col7\" class=\"data row6 col7\" >0.0600</td>\n",
              "    </tr>\n",
              "    <tr>\n",
              "      <th id=\"T_a2543_level0_row7\" class=\"row_heading level0 row7\" >llar</th>\n",
              "      <td id=\"T_a2543_row7_col0\" class=\"data row7 col0\" >Lasso Least Angle Regression</td>\n",
              "      <td id=\"T_a2543_row7_col1\" class=\"data row7 col1\" >4303.7694</td>\n",
              "      <td id=\"T_a2543_row7_col2\" class=\"data row7 col2\" >38386824.2786</td>\n",
              "      <td id=\"T_a2543_row7_col3\" class=\"data row7 col3\" >6176.4846</td>\n",
              "      <td id=\"T_a2543_row7_col4\" class=\"data row7 col4\" >0.7306</td>\n",
              "      <td id=\"T_a2543_row7_col5\" class=\"data row7 col5\" >0.5952</td>\n",
              "      <td id=\"T_a2543_row7_col6\" class=\"data row7 col6\" >0.4434</td>\n",
              "      <td id=\"T_a2543_row7_col7\" class=\"data row7 col7\" >0.0610</td>\n",
              "    </tr>\n",
              "    <tr>\n",
              "      <th id=\"T_a2543_level0_row8\" class=\"row_heading level0 row8\" >lr</th>\n",
              "      <td id=\"T_a2543_row8_col0\" class=\"data row8 col0\" >Linear Regression</td>\n",
              "      <td id=\"T_a2543_row8_col1\" class=\"data row8 col1\" >4303.5559</td>\n",
              "      <td id=\"T_a2543_row8_col2\" class=\"data row8 col2\" >38388058.4578</td>\n",
              "      <td id=\"T_a2543_row8_col3\" class=\"data row8 col3\" >6176.5920</td>\n",
              "      <td id=\"T_a2543_row8_col4\" class=\"data row8 col4\" >0.7306</td>\n",
              "      <td id=\"T_a2543_row8_col5\" class=\"data row8 col5\" >0.5949</td>\n",
              "      <td id=\"T_a2543_row8_col6\" class=\"data row8 col6\" >0.4433</td>\n",
              "      <td id=\"T_a2543_row8_col7\" class=\"data row8 col7\" >0.7710</td>\n",
              "    </tr>\n",
              "    <tr>\n",
              "      <th id=\"T_a2543_level0_row9\" class=\"row_heading level0 row9\" >lar</th>\n",
              "      <td id=\"T_a2543_row9_col0\" class=\"data row9 col0\" >Least Angle Regression</td>\n",
              "      <td id=\"T_a2543_row9_col1\" class=\"data row9 col1\" >4303.5559</td>\n",
              "      <td id=\"T_a2543_row9_col2\" class=\"data row9 col2\" >38388058.4578</td>\n",
              "      <td id=\"T_a2543_row9_col3\" class=\"data row9 col3\" >6176.5920</td>\n",
              "      <td id=\"T_a2543_row9_col4\" class=\"data row9 col4\" >0.7306</td>\n",
              "      <td id=\"T_a2543_row9_col5\" class=\"data row9 col5\" >0.5949</td>\n",
              "      <td id=\"T_a2543_row9_col6\" class=\"data row9 col6\" >0.4433</td>\n",
              "      <td id=\"T_a2543_row9_col7\" class=\"data row9 col7\" >0.0610</td>\n",
              "    </tr>\n",
              "    <tr>\n",
              "      <th id=\"T_a2543_level0_row10\" class=\"row_heading level0 row10\" >ridge</th>\n",
              "      <td id=\"T_a2543_row10_col0\" class=\"data row10 col0\" >Ridge Regression</td>\n",
              "      <td id=\"T_a2543_row10_col1\" class=\"data row10 col1\" >4317.6984</td>\n",
              "      <td id=\"T_a2543_row10_col2\" class=\"data row10 col2\" >38396435.9578</td>\n",
              "      <td id=\"T_a2543_row10_col3\" class=\"data row10 col3\" >6177.2329</td>\n",
              "      <td id=\"T_a2543_row10_col4\" class=\"data row10 col4\" >0.7306</td>\n",
              "      <td id=\"T_a2543_row10_col5\" class=\"data row10 col5\" >0.5891</td>\n",
              "      <td id=\"T_a2543_row10_col6\" class=\"data row10 col6\" >0.4459</td>\n",
              "      <td id=\"T_a2543_row10_col7\" class=\"data row10 col7\" >0.0590</td>\n",
              "    </tr>\n",
              "    <tr>\n",
              "      <th id=\"T_a2543_level0_row11\" class=\"row_heading level0 row11\" >lasso</th>\n",
              "      <td id=\"T_a2543_row11_col0\" class=\"data row11 col0\" >Lasso Regression</td>\n",
              "      <td id=\"T_a2543_row11_col1\" class=\"data row11 col1\" >4303.7697</td>\n",
              "      <td id=\"T_a2543_row11_col2\" class=\"data row11 col2\" >38386797.6709</td>\n",
              "      <td id=\"T_a2543_row11_col3\" class=\"data row11 col3\" >6176.4824</td>\n",
              "      <td id=\"T_a2543_row11_col4\" class=\"data row11 col4\" >0.7306</td>\n",
              "      <td id=\"T_a2543_row11_col5\" class=\"data row11 col5\" >0.5952</td>\n",
              "      <td id=\"T_a2543_row11_col6\" class=\"data row11 col6\" >0.4434</td>\n",
              "      <td id=\"T_a2543_row11_col7\" class=\"data row11 col7\" >0.0980</td>\n",
              "    </tr>\n",
              "    <tr>\n",
              "      <th id=\"T_a2543_level0_row12\" class=\"row_heading level0 row12\" >huber</th>\n",
              "      <td id=\"T_a2543_row12_col0\" class=\"data row12 col0\" >Huber Regressor</td>\n",
              "      <td id=\"T_a2543_row12_col1\" class=\"data row12 col1\" >3463.2216</td>\n",
              "      <td id=\"T_a2543_row12_col2\" class=\"data row12 col2\" >48801106.4612</td>\n",
              "      <td id=\"T_a2543_row12_col3\" class=\"data row12 col3\" >6963.9984</td>\n",
              "      <td id=\"T_a2543_row12_col4\" class=\"data row12 col4\" >0.6544</td>\n",
              "      <td id=\"T_a2543_row12_col5\" class=\"data row12 col5\" >0.4927</td>\n",
              "      <td id=\"T_a2543_row12_col6\" class=\"data row12 col6\" >0.2212</td>\n",
              "      <td id=\"T_a2543_row12_col7\" class=\"data row12 col7\" >0.1240</td>\n",
              "    </tr>\n",
              "    <tr>\n",
              "      <th id=\"T_a2543_level0_row13\" class=\"row_heading level0 row13\" >dt</th>\n",
              "      <td id=\"T_a2543_row13_col0\" class=\"data row13 col0\" >Decision Tree Regressor</td>\n",
              "      <td id=\"T_a2543_row13_col1\" class=\"data row13 col1\" >3383.4916</td>\n",
              "      <td id=\"T_a2543_row13_col2\" class=\"data row13 col2\" >47823199.0729</td>\n",
              "      <td id=\"T_a2543_row13_col3\" class=\"data row13 col3\" >6895.7016</td>\n",
              "      <td id=\"T_a2543_row13_col4\" class=\"data row13 col4\" >0.6497</td>\n",
              "      <td id=\"T_a2543_row13_col5\" class=\"data row13 col5\" >0.5602</td>\n",
              "      <td id=\"T_a2543_row13_col6\" class=\"data row13 col6\" >0.4013</td>\n",
              "      <td id=\"T_a2543_row13_col7\" class=\"data row13 col7\" >0.0630</td>\n",
              "    </tr>\n",
              "    <tr>\n",
              "      <th id=\"T_a2543_level0_row14\" class=\"row_heading level0 row14\" >par</th>\n",
              "      <td id=\"T_a2543_row14_col0\" class=\"data row14 col0\" >Passive Aggressive Regressor</td>\n",
              "      <td id=\"T_a2543_row14_col1\" class=\"data row14 col1\" >4537.0122</td>\n",
              "      <td id=\"T_a2543_row14_col2\" class=\"data row14 col2\" >67346309.9218</td>\n",
              "      <td id=\"T_a2543_row14_col3\" class=\"data row14 col3\" >8142.7826</td>\n",
              "      <td id=\"T_a2543_row14_col4\" class=\"data row14 col4\" >0.5422</td>\n",
              "      <td id=\"T_a2543_row14_col5\" class=\"data row14 col5\" >0.5276</td>\n",
              "      <td id=\"T_a2543_row14_col6\" class=\"data row14 col6\" >0.3207</td>\n",
              "      <td id=\"T_a2543_row14_col7\" class=\"data row14 col7\" >0.0650</td>\n",
              "    </tr>\n",
              "    <tr>\n",
              "      <th id=\"T_a2543_level0_row15\" class=\"row_heading level0 row15\" >en</th>\n",
              "      <td id=\"T_a2543_row15_col0\" class=\"data row15 col0\" >Elastic Net</td>\n",
              "      <td id=\"T_a2543_row15_col1\" class=\"data row15 col1\" >7372.5238</td>\n",
              "      <td id=\"T_a2543_row15_col2\" class=\"data row15 col2\" >90450782.5713</td>\n",
              "      <td id=\"T_a2543_row15_col3\" class=\"data row15 col3\" >9468.3193</td>\n",
              "      <td id=\"T_a2543_row15_col4\" class=\"data row15 col4\" >0.3792</td>\n",
              "      <td id=\"T_a2543_row15_col5\" class=\"data row15 col5\" >0.7342</td>\n",
              "      <td id=\"T_a2543_row15_col6\" class=\"data row15 col6\" >0.9184</td>\n",
              "      <td id=\"T_a2543_row15_col7\" class=\"data row15 col7\" >0.0610</td>\n",
              "    </tr>\n",
              "    <tr>\n",
              "      <th id=\"T_a2543_level0_row16\" class=\"row_heading level0 row16\" >omp</th>\n",
              "      <td id=\"T_a2543_row16_col0\" class=\"data row16 col0\" >Orthogonal Matching Pursuit</td>\n",
              "      <td id=\"T_a2543_row16_col1\" class=\"data row16 col1\" >9089.9268</td>\n",
              "      <td id=\"T_a2543_row16_col2\" class=\"data row16 col2\" >133439413.5272</td>\n",
              "      <td id=\"T_a2543_row16_col3\" class=\"data row16 col3\" >11488.4238</td>\n",
              "      <td id=\"T_a2543_row16_col4\" class=\"data row16 col4\" >0.0884</td>\n",
              "      <td id=\"T_a2543_row16_col5\" class=\"data row16 col5\" >0.8790</td>\n",
              "      <td id=\"T_a2543_row16_col6\" class=\"data row16 col6\" >1.1514</td>\n",
              "      <td id=\"T_a2543_row16_col7\" class=\"data row16 col7\" >0.0600</td>\n",
              "    </tr>\n",
              "    <tr>\n",
              "      <th id=\"T_a2543_level0_row17\" class=\"row_heading level0 row17\" >knn</th>\n",
              "      <td id=\"T_a2543_row17_col0\" class=\"data row17 col0\" >K Neighbors Regressor</td>\n",
              "      <td id=\"T_a2543_row17_col1\" class=\"data row17 col1\" >8007.1197</td>\n",
              "      <td id=\"T_a2543_row17_col2\" class=\"data row17 col2\" >131380022.4000</td>\n",
              "      <td id=\"T_a2543_row17_col3\" class=\"data row17 col3\" >11424.9843</td>\n",
              "      <td id=\"T_a2543_row17_col4\" class=\"data row17 col4\" >0.0860</td>\n",
              "      <td id=\"T_a2543_row17_col5\" class=\"data row17 col5\" >0.8535</td>\n",
              "      <td id=\"T_a2543_row17_col6\" class=\"data row17 col6\" >0.9231</td>\n",
              "      <td id=\"T_a2543_row17_col7\" class=\"data row17 col7\" >0.0670</td>\n",
              "    </tr>\n",
              "    <tr>\n",
              "      <th id=\"T_a2543_level0_row18\" class=\"row_heading level0 row18\" >dummy</th>\n",
              "      <td id=\"T_a2543_row18_col0\" class=\"data row18 col0\" >Dummy Regressor</td>\n",
              "      <td id=\"T_a2543_row18_col1\" class=\"data row18 col1\" >9192.5418</td>\n",
              "      <td id=\"T_a2543_row18_col2\" class=\"data row18 col2\" >148516792.8000</td>\n",
              "      <td id=\"T_a2543_row18_col3\" class=\"data row18 col3\" >12132.4733</td>\n",
              "      <td id=\"T_a2543_row18_col4\" class=\"data row18 col4\" >-0.0175</td>\n",
              "      <td id=\"T_a2543_row18_col5\" class=\"data row18 col5\" >1.0154</td>\n",
              "      <td id=\"T_a2543_row18_col6\" class=\"data row18 col6\" >1.5637</td>\n",
              "      <td id=\"T_a2543_row18_col7\" class=\"data row18 col7\" >0.0570</td>\n",
              "    </tr>\n",
              "  </tbody>\n",
              "</table>\n"
            ],
            "text/plain": [
              "<pandas.io.formats.style.Styler at 0x79a276853990>"
            ]
          },
          "metadata": {},
          "output_type": "display_data"
        },
        {
          "data": {
            "application/vnd.jupyter.widget-view+json": {
              "model_id": "cf64ff5017d841d2991594703e94742d",
              "version_major": 2,
              "version_minor": 0
            },
            "text/plain": [
              "Processing:   0%|          | 0/81 [00:00<?, ?it/s]"
            ]
          },
          "metadata": {
            "application/vnd.jupyter.widget-view+json": {
              "colab": {
                "custom_widget_manager": {
                  "url": "https://ssl.gstatic.com/colaboratory-static/widgets/colab-cdn-widget-manager/2b70e893a8ba7c0f/manager.min.js"
                }
              }
            }
          },
          "output_type": "display_data"
        },
        {
          "data": {
            "text/html": [],
            "text/plain": [
              "<IPython.core.display.HTML object>"
            ]
          },
          "metadata": {},
          "output_type": "display_data"
        }
      ],
      "source": [
        "best_model = compare_models()"
      ]
    },
    {
      "cell_type": "code",
      "execution_count": 6,
      "metadata": {
        "colab": {
          "base_uri": "https://localhost:8080/",
          "height": 202,
          "referenced_widgets": [
            "07c63403703b49f8906a750108dad3cd",
            "d898eecca9454c3eaab1a819d3327344",
            "a8f02ad4fdd74d83847ace2d1df5a681",
            "0b0de18158314e5ba95e5804e9d74973",
            "9cf5d53278ae44e18ae523ec0070f67b",
            "21968ee355c84321a161a2b4217bf659",
            "a2394d98ccca4aa7b35edbaba48a4e53"
          ]
        },
        "id": "lHrI1n4pRu6F",
        "outputId": "669b5c9c-36e4-4028-8327-cf8b3ee4a9e0"
      },
      "outputs": [
        {
          "data": {
            "application/vnd.jupyter.widget-view+json": {
              "model_id": "07c63403703b49f8906a750108dad3cd",
              "version_major": 2,
              "version_minor": 0
            },
            "text/plain": [
              "interactive(children=(ToggleButtons(description='Plot Type:', icons=('',), options=(('Pipeline Plot', 'pipelin…"
            ]
          },
          "metadata": {
            "application/vnd.jupyter.widget-view+json": {
              "colab": {
                "custom_widget_manager": {
                  "url": "https://ssl.gstatic.com/colaboratory-static/widgets/colab-cdn-widget-manager/2b70e893a8ba7c0f/manager.min.js"
                }
              }
            }
          },
          "output_type": "display_data"
        }
      ],
      "source": [
        "# Посмотрим метрики\n",
        "evaluate_model(best_model)"
      ]
    },
    {
      "cell_type": "code",
      "execution_count": 7,
      "metadata": {
        "colab": {
          "base_uri": "https://localhost:8080/"
        },
        "id": "vL9BDc20ghi1",
        "outputId": "64161e14-ac9c-4491-c56f-f46f8d588217"
      },
      "outputs": [
        {
          "name": "stdout",
          "output_type": "stream",
          "text": [
            "Transformation Pipeline and Model Successfully Saved\n"
          ]
        },
        {
          "data": {
            "text/plain": [
              "(Pipeline(memory=Memory(location=None),\n",
              "          steps=[('numerical_imputer',\n",
              "                  TransformerWrapper(include=['age', 'bmi', 'children'],\n",
              "                                     transformer=SimpleImputer())),\n",
              "                 ('categorical_imputer',\n",
              "                  TransformerWrapper(include=['sex', 'smoker', 'region'],\n",
              "                                     transformer=SimpleImputer(strategy='most_frequent'))),\n",
              "                 ('ordinal_encoding',\n",
              "                  TransformerWrapper(include=['sex', 'smoker'],\n",
              "                                     transfor...\n",
              "                                                                          'data_type': dtype('O'),\n",
              "                                                                          'mapping': female    0\n",
              " male      1\n",
              " NaN      -1\n",
              " dtype: int64},\n",
              "                                                                         {'col': 'smoker',\n",
              "                                                                          'data_type': dtype('O'),\n",
              "                                                                          'mapping': no     0\n",
              " yes    1\n",
              " NaN   -1\n",
              " dtype: int64}]))),\n",
              "                 ('onehot_encoding',\n",
              "                  TransformerWrapper(include=['region'],\n",
              "                                     transformer=OneHotEncoder(cols=['region'],\n",
              "                                                               handle_missing='return_nan',\n",
              "                                                               use_cat_names=True))),\n",
              "                 ('trained_model', GradientBoostingRegressor(random_state=123))]),\n",
              " 'best_insurance_model.pkl')"
            ]
          },
          "execution_count": 7,
          "metadata": {},
          "output_type": "execute_result"
        }
      ],
      "source": [
        "save_model(best_model, 'best_insurance_model')"
      ]
    },
    {
      "cell_type": "code",
      "execution_count": 8,
      "metadata": {
        "colab": {
          "base_uri": "https://localhost:8080/",
          "height": 270
        },
        "id": "0JpqaygtgptS",
        "outputId": "8f4fc68f-3974-4e5d-ce08-23b8f0b5e5b0"
      },
      "outputs": [
        {
          "data": {
            "text/html": [
              "<style type=\"text/css\">\n",
              "</style>\n",
              "<table id=\"T_6663d\" class=\"dataframe\">\n",
              "  <thead>\n",
              "    <tr>\n",
              "      <th class=\"blank level0\" >&nbsp;</th>\n",
              "      <th id=\"T_6663d_level0_col0\" class=\"col_heading level0 col0\" >Model</th>\n",
              "      <th id=\"T_6663d_level0_col1\" class=\"col_heading level0 col1\" >MAE</th>\n",
              "      <th id=\"T_6663d_level0_col2\" class=\"col_heading level0 col2\" >MSE</th>\n",
              "      <th id=\"T_6663d_level0_col3\" class=\"col_heading level0 col3\" >RMSE</th>\n",
              "      <th id=\"T_6663d_level0_col4\" class=\"col_heading level0 col4\" >R2</th>\n",
              "      <th id=\"T_6663d_level0_col5\" class=\"col_heading level0 col5\" >RMSLE</th>\n",
              "      <th id=\"T_6663d_level0_col6\" class=\"col_heading level0 col6\" >MAPE</th>\n",
              "    </tr>\n",
              "  </thead>\n",
              "  <tbody>\n",
              "    <tr>\n",
              "      <th id=\"T_6663d_level0_row0\" class=\"row_heading level0 row0\" >0</th>\n",
              "      <td id=\"T_6663d_row0_col0\" class=\"data row0 col0\" >Gradient Boosting Regressor</td>\n",
              "      <td id=\"T_6663d_row0_col1\" class=\"data row0 col1\" >2219.8743</td>\n",
              "      <td id=\"T_6663d_row0_col2\" class=\"data row0 col2\" >15663377.0613</td>\n",
              "      <td id=\"T_6663d_row0_col3\" class=\"data row0 col3\" >3957.6985</td>\n",
              "      <td id=\"T_6663d_row0_col4\" class=\"data row0 col4\" >0.8931</td>\n",
              "      <td id=\"T_6663d_row0_col5\" class=\"data row0 col5\" >0.3650</td>\n",
              "      <td id=\"T_6663d_row0_col6\" class=\"data row0 col6\" >0.2634</td>\n",
              "    </tr>\n",
              "  </tbody>\n",
              "</table>\n"
            ],
            "text/plain": [
              "<pandas.io.formats.style.Styler at 0x79a2767c3b90>"
            ]
          },
          "metadata": {},
          "output_type": "display_data"
        },
        {
          "data": {
            "application/vnd.google.colaboratory.intrinsic+json": {
              "summary": "{\n  \"name\": \"predictions[['charges', 'prediction_label']]\",\n  \"rows\": 5,\n  \"fields\": [\n    {\n      \"column\": \"charges\",\n      \"properties\": {\n        \"dtype\": \"float32\",\n        \"num_unique_values\": 5,\n        \"samples\": [\n          1725.55224609375,\n          3866.855224609375,\n          4449.4619140625\n        ],\n        \"semantic_type\": \"\",\n        \"description\": \"\"\n      }\n    },\n    {\n      \"column\": \"prediction_label\",\n      \"properties\": {\n        \"dtype\": \"number\",\n        \"std\": 6146.760478059597,\n        \"min\": 3325.531291586461,\n        \"max\": 18464.33444779357,\n        \"num_unique_values\": 5,\n        \"samples\": [\n          4020.3453835473215,\n          3325.531291586461,\n          6555.388388439389\n        ],\n        \"semantic_type\": \"\",\n        \"description\": \"\"\n      }\n    }\n  ]\n}",
              "type": "dataframe"
            },
            "text/html": [
              "\n",
              "  <div id=\"df-a6bce231-4599-4ac0-99e0-ebb5b97e837b\" class=\"colab-df-container\">\n",
              "    <div>\n",
              "<style scoped>\n",
              "    .dataframe tbody tr th:only-of-type {\n",
              "        vertical-align: middle;\n",
              "    }\n",
              "\n",
              "    .dataframe tbody tr th {\n",
              "        vertical-align: top;\n",
              "    }\n",
              "\n",
              "    .dataframe thead th {\n",
              "        text-align: right;\n",
              "    }\n",
              "</style>\n",
              "<table border=\"1\" class=\"dataframe\">\n",
              "  <thead>\n",
              "    <tr style=\"text-align: right;\">\n",
              "      <th></th>\n",
              "      <th>charges</th>\n",
              "      <th>prediction_label</th>\n",
              "    </tr>\n",
              "  </thead>\n",
              "  <tbody>\n",
              "    <tr>\n",
              "      <th>0</th>\n",
              "      <td>16884.923828</td>\n",
              "      <td>18464.334448</td>\n",
              "    </tr>\n",
              "    <tr>\n",
              "      <th>1</th>\n",
              "      <td>1725.552246</td>\n",
              "      <td>4020.345384</td>\n",
              "    </tr>\n",
              "    <tr>\n",
              "      <th>2</th>\n",
              "      <td>4449.461914</td>\n",
              "      <td>6555.388388</td>\n",
              "    </tr>\n",
              "    <tr>\n",
              "      <th>3</th>\n",
              "      <td>21984.470703</td>\n",
              "      <td>9627.045725</td>\n",
              "    </tr>\n",
              "    <tr>\n",
              "      <th>4</th>\n",
              "      <td>3866.855225</td>\n",
              "      <td>3325.531292</td>\n",
              "    </tr>\n",
              "  </tbody>\n",
              "</table>\n",
              "</div>\n",
              "    <div class=\"colab-df-buttons\">\n",
              "\n",
              "  <div class=\"colab-df-container\">\n",
              "    <button class=\"colab-df-convert\" onclick=\"convertToInteractive('df-a6bce231-4599-4ac0-99e0-ebb5b97e837b')\"\n",
              "            title=\"Convert this dataframe to an interactive table.\"\n",
              "            style=\"display:none;\">\n",
              "\n",
              "  <svg xmlns=\"http://www.w3.org/2000/svg\" height=\"24px\" viewBox=\"0 -960 960 960\">\n",
              "    <path d=\"M120-120v-720h720v720H120Zm60-500h600v-160H180v160Zm220 220h160v-160H400v160Zm0 220h160v-160H400v160ZM180-400h160v-160H180v160Zm440 0h160v-160H620v160ZM180-180h160v-160H180v160Zm440 0h160v-160H620v160Z\"/>\n",
              "  </svg>\n",
              "    </button>\n",
              "\n",
              "  <style>\n",
              "    .colab-df-container {\n",
              "      display:flex;\n",
              "      gap: 12px;\n",
              "    }\n",
              "\n",
              "    .colab-df-convert {\n",
              "      background-color: #E8F0FE;\n",
              "      border: none;\n",
              "      border-radius: 50%;\n",
              "      cursor: pointer;\n",
              "      display: none;\n",
              "      fill: #1967D2;\n",
              "      height: 32px;\n",
              "      padding: 0 0 0 0;\n",
              "      width: 32px;\n",
              "    }\n",
              "\n",
              "    .colab-df-convert:hover {\n",
              "      background-color: #E2EBFA;\n",
              "      box-shadow: 0px 1px 2px rgba(60, 64, 67, 0.3), 0px 1px 3px 1px rgba(60, 64, 67, 0.15);\n",
              "      fill: #174EA6;\n",
              "    }\n",
              "\n",
              "    .colab-df-buttons div {\n",
              "      margin-bottom: 4px;\n",
              "    }\n",
              "\n",
              "    [theme=dark] .colab-df-convert {\n",
              "      background-color: #3B4455;\n",
              "      fill: #D2E3FC;\n",
              "    }\n",
              "\n",
              "    [theme=dark] .colab-df-convert:hover {\n",
              "      background-color: #434B5C;\n",
              "      box-shadow: 0px 1px 3px 1px rgba(0, 0, 0, 0.15);\n",
              "      filter: drop-shadow(0px 1px 2px rgba(0, 0, 0, 0.3));\n",
              "      fill: #FFFFFF;\n",
              "    }\n",
              "  </style>\n",
              "\n",
              "    <script>\n",
              "      const buttonEl =\n",
              "        document.querySelector('#df-a6bce231-4599-4ac0-99e0-ebb5b97e837b button.colab-df-convert');\n",
              "      buttonEl.style.display =\n",
              "        google.colab.kernel.accessAllowed ? 'block' : 'none';\n",
              "\n",
              "      async function convertToInteractive(key) {\n",
              "        const element = document.querySelector('#df-a6bce231-4599-4ac0-99e0-ebb5b97e837b');\n",
              "        const dataTable =\n",
              "          await google.colab.kernel.invokeFunction('convertToInteractive',\n",
              "                                                    [key], {});\n",
              "        if (!dataTable) return;\n",
              "\n",
              "        const docLinkHtml = 'Like what you see? Visit the ' +\n",
              "          '<a target=\"_blank\" href=https://colab.research.google.com/notebooks/data_table.ipynb>data table notebook</a>'\n",
              "          + ' to learn more about interactive tables.';\n",
              "        element.innerHTML = '';\n",
              "        dataTable['output_type'] = 'display_data';\n",
              "        await google.colab.output.renderOutput(dataTable, element);\n",
              "        const docLink = document.createElement('div');\n",
              "        docLink.innerHTML = docLinkHtml;\n",
              "        element.appendChild(docLink);\n",
              "      }\n",
              "    </script>\n",
              "  </div>\n",
              "\n",
              "\n",
              "<div id=\"df-f74c8872-829b-49f4-99b2-f07968cc700f\">\n",
              "  <button class=\"colab-df-quickchart\" onclick=\"quickchart('df-f74c8872-829b-49f4-99b2-f07968cc700f')\"\n",
              "            title=\"Suggest charts\"\n",
              "            style=\"display:none;\">\n",
              "\n",
              "<svg xmlns=\"http://www.w3.org/2000/svg\" height=\"24px\"viewBox=\"0 0 24 24\"\n",
              "     width=\"24px\">\n",
              "    <g>\n",
              "        <path d=\"M19 3H5c-1.1 0-2 .9-2 2v14c0 1.1.9 2 2 2h14c1.1 0 2-.9 2-2V5c0-1.1-.9-2-2-2zM9 17H7v-7h2v7zm4 0h-2V7h2v10zm4 0h-2v-4h2v4z\"/>\n",
              "    </g>\n",
              "</svg>\n",
              "  </button>\n",
              "\n",
              "<style>\n",
              "  .colab-df-quickchart {\n",
              "      --bg-color: #E8F0FE;\n",
              "      --fill-color: #1967D2;\n",
              "      --hover-bg-color: #E2EBFA;\n",
              "      --hover-fill-color: #174EA6;\n",
              "      --disabled-fill-color: #AAA;\n",
              "      --disabled-bg-color: #DDD;\n",
              "  }\n",
              "\n",
              "  [theme=dark] .colab-df-quickchart {\n",
              "      --bg-color: #3B4455;\n",
              "      --fill-color: #D2E3FC;\n",
              "      --hover-bg-color: #434B5C;\n",
              "      --hover-fill-color: #FFFFFF;\n",
              "      --disabled-bg-color: #3B4455;\n",
              "      --disabled-fill-color: #666;\n",
              "  }\n",
              "\n",
              "  .colab-df-quickchart {\n",
              "    background-color: var(--bg-color);\n",
              "    border: none;\n",
              "    border-radius: 50%;\n",
              "    cursor: pointer;\n",
              "    display: none;\n",
              "    fill: var(--fill-color);\n",
              "    height: 32px;\n",
              "    padding: 0;\n",
              "    width: 32px;\n",
              "  }\n",
              "\n",
              "  .colab-df-quickchart:hover {\n",
              "    background-color: var(--hover-bg-color);\n",
              "    box-shadow: 0 1px 2px rgba(60, 64, 67, 0.3), 0 1px 3px 1px rgba(60, 64, 67, 0.15);\n",
              "    fill: var(--button-hover-fill-color);\n",
              "  }\n",
              "\n",
              "  .colab-df-quickchart-complete:disabled,\n",
              "  .colab-df-quickchart-complete:disabled:hover {\n",
              "    background-color: var(--disabled-bg-color);\n",
              "    fill: var(--disabled-fill-color);\n",
              "    box-shadow: none;\n",
              "  }\n",
              "\n",
              "  .colab-df-spinner {\n",
              "    border: 2px solid var(--fill-color);\n",
              "    border-color: transparent;\n",
              "    border-bottom-color: var(--fill-color);\n",
              "    animation:\n",
              "      spin 1s steps(1) infinite;\n",
              "  }\n",
              "\n",
              "  @keyframes spin {\n",
              "    0% {\n",
              "      border-color: transparent;\n",
              "      border-bottom-color: var(--fill-color);\n",
              "      border-left-color: var(--fill-color);\n",
              "    }\n",
              "    20% {\n",
              "      border-color: transparent;\n",
              "      border-left-color: var(--fill-color);\n",
              "      border-top-color: var(--fill-color);\n",
              "    }\n",
              "    30% {\n",
              "      border-color: transparent;\n",
              "      border-left-color: var(--fill-color);\n",
              "      border-top-color: var(--fill-color);\n",
              "      border-right-color: var(--fill-color);\n",
              "    }\n",
              "    40% {\n",
              "      border-color: transparent;\n",
              "      border-right-color: var(--fill-color);\n",
              "      border-top-color: var(--fill-color);\n",
              "    }\n",
              "    60% {\n",
              "      border-color: transparent;\n",
              "      border-right-color: var(--fill-color);\n",
              "    }\n",
              "    80% {\n",
              "      border-color: transparent;\n",
              "      border-right-color: var(--fill-color);\n",
              "      border-bottom-color: var(--fill-color);\n",
              "    }\n",
              "    90% {\n",
              "      border-color: transparent;\n",
              "      border-bottom-color: var(--fill-color);\n",
              "    }\n",
              "  }\n",
              "</style>\n",
              "\n",
              "  <script>\n",
              "    async function quickchart(key) {\n",
              "      const quickchartButtonEl =\n",
              "        document.querySelector('#' + key + ' button');\n",
              "      quickchartButtonEl.disabled = true;  // To prevent multiple clicks.\n",
              "      quickchartButtonEl.classList.add('colab-df-spinner');\n",
              "      try {\n",
              "        const charts = await google.colab.kernel.invokeFunction(\n",
              "            'suggestCharts', [key], {});\n",
              "      } catch (error) {\n",
              "        console.error('Error during call to suggestCharts:', error);\n",
              "      }\n",
              "      quickchartButtonEl.classList.remove('colab-df-spinner');\n",
              "      quickchartButtonEl.classList.add('colab-df-quickchart-complete');\n",
              "    }\n",
              "    (() => {\n",
              "      let quickchartButtonEl =\n",
              "        document.querySelector('#df-f74c8872-829b-49f4-99b2-f07968cc700f button');\n",
              "      quickchartButtonEl.style.display =\n",
              "        google.colab.kernel.accessAllowed ? 'block' : 'none';\n",
              "    })();\n",
              "  </script>\n",
              "</div>\n",
              "\n",
              "    </div>\n",
              "  </div>\n"
            ],
            "text/plain": [
              "        charges  prediction_label\n",
              "0  16884.923828      18464.334448\n",
              "1   1725.552246       4020.345384\n",
              "2   4449.461914       6555.388388\n",
              "3  21984.470703       9627.045725\n",
              "4   3866.855225       3325.531292"
            ]
          },
          "execution_count": 8,
          "metadata": {},
          "output_type": "execute_result"
        }
      ],
      "source": [
        "predictions = predict_model(best_model, data)\n",
        "predictions[['charges', 'prediction_label']].head()"
      ]
    }
  ],
  "metadata": {
    "colab": {
      "collapsed_sections": [
        "YSeYMz5xnG9L",
        "nelR0LH-nQIe",
        "DrZvo1S_nQfv"
      ],
      "provenance": [],
      "toc_visible": true
    },
    "kernelspec": {
      "display_name": "Python 3",
      "name": "python3"
    },
    "language_info": {
      "name": "python"
    },
    "widgets": {
      "application/vnd.jupyter.widget-state+json": {
        "0012d53535a2413cb182730b600df7e5": {
          "model_module": "@jupyter-widgets/controls",
          "model_module_version": "1.5.0",
          "model_name": "DescriptionStyleModel",
          "state": {
            "_model_module": "@jupyter-widgets/controls",
            "_model_module_version": "1.5.0",
            "_model_name": "DescriptionStyleModel",
            "_view_count": null,
            "_view_module": "@jupyter-widgets/base",
            "_view_module_version": "1.2.0",
            "_view_name": "StyleView",
            "description_width": ""
          }
        },
        "07c63403703b49f8906a750108dad3cd": {
          "model_module": "@jupyter-widgets/controls",
          "model_module_version": "1.5.0",
          "model_name": "VBoxModel",
          "state": {
            "_dom_classes": [
              "widget-interact"
            ],
            "_model_module": "@jupyter-widgets/controls",
            "_model_module_version": "1.5.0",
            "_model_name": "VBoxModel",
            "_view_count": null,
            "_view_module": "@jupyter-widgets/controls",
            "_view_module_version": "1.5.0",
            "_view_name": "VBoxView",
            "box_style": "",
            "children": [
              "IPY_MODEL_d898eecca9454c3eaab1a819d3327344",
              "IPY_MODEL_a8f02ad4fdd74d83847ace2d1df5a681"
            ],
            "layout": "IPY_MODEL_0b0de18158314e5ba95e5804e9d74973"
          }
        },
        "0b0de18158314e5ba95e5804e9d74973": {
          "model_module": "@jupyter-widgets/base",
          "model_module_version": "1.2.0",
          "model_name": "LayoutModel",
          "state": {
            "_model_module": "@jupyter-widgets/base",
            "_model_module_version": "1.2.0",
            "_model_name": "LayoutModel",
            "_view_count": null,
            "_view_module": "@jupyter-widgets/base",
            "_view_module_version": "1.2.0",
            "_view_name": "LayoutView",
            "align_content": null,
            "align_items": null,
            "align_self": null,
            "border": null,
            "bottom": null,
            "display": null,
            "flex": null,
            "flex_flow": null,
            "grid_area": null,
            "grid_auto_columns": null,
            "grid_auto_flow": null,
            "grid_auto_rows": null,
            "grid_column": null,
            "grid_gap": null,
            "grid_row": null,
            "grid_template_areas": null,
            "grid_template_columns": null,
            "grid_template_rows": null,
            "height": null,
            "justify_content": null,
            "justify_items": null,
            "left": null,
            "margin": null,
            "max_height": null,
            "max_width": null,
            "min_height": null,
            "min_width": null,
            "object_fit": null,
            "object_position": null,
            "order": null,
            "overflow": null,
            "overflow_x": null,
            "overflow_y": null,
            "padding": null,
            "right": null,
            "top": null,
            "visibility": null,
            "width": null
          }
        },
        "1a6faa6394b844998eeeae6ecfdb06f2": {
          "model_module": "@jupyter-widgets/controls",
          "model_module_version": "1.5.0",
          "model_name": "FloatProgressModel",
          "state": {
            "_dom_classes": [],
            "_model_module": "@jupyter-widgets/controls",
            "_model_module_version": "1.5.0",
            "_model_name": "FloatProgressModel",
            "_view_count": null,
            "_view_module": "@jupyter-widgets/controls",
            "_view_module_version": "1.5.0",
            "_view_name": "ProgressView",
            "bar_style": "",
            "description": "",
            "description_tooltip": null,
            "layout": "IPY_MODEL_dca256763bf84bdebd5fc21202566cd1",
            "max": 81,
            "min": 0,
            "orientation": "horizontal",
            "style": "IPY_MODEL_f94b532f165e4203adbfddc380673f66",
            "value": 81
          }
        },
        "21968ee355c84321a161a2b4217bf659": {
          "model_module": "@jupyter-widgets/controls",
          "model_module_version": "1.5.0",
          "model_name": "ToggleButtonsStyleModel",
          "state": {
            "_model_module": "@jupyter-widgets/controls",
            "_model_module_version": "1.5.0",
            "_model_name": "ToggleButtonsStyleModel",
            "_view_count": null,
            "_view_module": "@jupyter-widgets/base",
            "_view_module_version": "1.2.0",
            "_view_name": "StyleView",
            "button_width": "",
            "description_width": "",
            "font_weight": ""
          }
        },
        "4ba6ae5cc5b541ed8c58a34be23080d3": {
          "model_module": "@jupyter-widgets/controls",
          "model_module_version": "1.5.0",
          "model_name": "HTMLModel",
          "state": {
            "_dom_classes": [],
            "_model_module": "@jupyter-widgets/controls",
            "_model_module_version": "1.5.0",
            "_model_name": "HTMLModel",
            "_view_count": null,
            "_view_module": "@jupyter-widgets/controls",
            "_view_module_version": "1.5.0",
            "_view_name": "HTMLView",
            "description": "",
            "description_tooltip": null,
            "layout": "IPY_MODEL_6bfddd40b6f04bf2a608fc37d6c0864b",
            "placeholder": "​",
            "style": "IPY_MODEL_0012d53535a2413cb182730b600df7e5",
            "value": " 81/81 [00:40&lt;00:00,  2.13it/s]"
          }
        },
        "5b0ce7756f894a97be1edfc74c20cc92": {
          "model_module": "@jupyter-widgets/base",
          "model_module_version": "1.2.0",
          "model_name": "LayoutModel",
          "state": {
            "_model_module": "@jupyter-widgets/base",
            "_model_module_version": "1.2.0",
            "_model_name": "LayoutModel",
            "_view_count": null,
            "_view_module": "@jupyter-widgets/base",
            "_view_module_version": "1.2.0",
            "_view_name": "LayoutView",
            "align_content": null,
            "align_items": null,
            "align_self": null,
            "border": null,
            "bottom": null,
            "display": null,
            "flex": null,
            "flex_flow": null,
            "grid_area": null,
            "grid_auto_columns": null,
            "grid_auto_flow": null,
            "grid_auto_rows": null,
            "grid_column": null,
            "grid_gap": null,
            "grid_row": null,
            "grid_template_areas": null,
            "grid_template_columns": null,
            "grid_template_rows": null,
            "height": null,
            "justify_content": null,
            "justify_items": null,
            "left": null,
            "margin": null,
            "max_height": null,
            "max_width": null,
            "min_height": null,
            "min_width": null,
            "object_fit": null,
            "object_position": null,
            "order": null,
            "overflow": null,
            "overflow_x": null,
            "overflow_y": null,
            "padding": null,
            "right": null,
            "top": null,
            "visibility": "hidden",
            "width": null
          }
        },
        "6bfddd40b6f04bf2a608fc37d6c0864b": {
          "model_module": "@jupyter-widgets/base",
          "model_module_version": "1.2.0",
          "model_name": "LayoutModel",
          "state": {
            "_model_module": "@jupyter-widgets/base",
            "_model_module_version": "1.2.0",
            "_model_name": "LayoutModel",
            "_view_count": null,
            "_view_module": "@jupyter-widgets/base",
            "_view_module_version": "1.2.0",
            "_view_name": "LayoutView",
            "align_content": null,
            "align_items": null,
            "align_self": null,
            "border": null,
            "bottom": null,
            "display": null,
            "flex": null,
            "flex_flow": null,
            "grid_area": null,
            "grid_auto_columns": null,
            "grid_auto_flow": null,
            "grid_auto_rows": null,
            "grid_column": null,
            "grid_gap": null,
            "grid_row": null,
            "grid_template_areas": null,
            "grid_template_columns": null,
            "grid_template_rows": null,
            "height": null,
            "justify_content": null,
            "justify_items": null,
            "left": null,
            "margin": null,
            "max_height": null,
            "max_width": null,
            "min_height": null,
            "min_width": null,
            "object_fit": null,
            "object_position": null,
            "order": null,
            "overflow": null,
            "overflow_x": null,
            "overflow_y": null,
            "padding": null,
            "right": null,
            "top": null,
            "visibility": null,
            "width": null
          }
        },
        "803c0d2d08334960bfd184c8fd3ea66b": {
          "model_module": "@jupyter-widgets/controls",
          "model_module_version": "1.5.0",
          "model_name": "HTMLModel",
          "state": {
            "_dom_classes": [],
            "_model_module": "@jupyter-widgets/controls",
            "_model_module_version": "1.5.0",
            "_model_name": "HTMLModel",
            "_view_count": null,
            "_view_module": "@jupyter-widgets/controls",
            "_view_module_version": "1.5.0",
            "_view_name": "HTMLView",
            "description": "",
            "description_tooltip": null,
            "layout": "IPY_MODEL_eda71403f918498da675ab706596d230",
            "placeholder": "​",
            "style": "IPY_MODEL_9a0dd1114c3c4fbf8471e3163ee75a76",
            "value": "Processing: 100%"
          }
        },
        "9a0dd1114c3c4fbf8471e3163ee75a76": {
          "model_module": "@jupyter-widgets/controls",
          "model_module_version": "1.5.0",
          "model_name": "DescriptionStyleModel",
          "state": {
            "_model_module": "@jupyter-widgets/controls",
            "_model_module_version": "1.5.0",
            "_model_name": "DescriptionStyleModel",
            "_view_count": null,
            "_view_module": "@jupyter-widgets/base",
            "_view_module_version": "1.2.0",
            "_view_name": "StyleView",
            "description_width": ""
          }
        },
        "9cf5d53278ae44e18ae523ec0070f67b": {
          "model_module": "@jupyter-widgets/base",
          "model_module_version": "1.2.0",
          "model_name": "LayoutModel",
          "state": {
            "_model_module": "@jupyter-widgets/base",
            "_model_module_version": "1.2.0",
            "_model_name": "LayoutModel",
            "_view_count": null,
            "_view_module": "@jupyter-widgets/base",
            "_view_module_version": "1.2.0",
            "_view_name": "LayoutView",
            "align_content": null,
            "align_items": null,
            "align_self": null,
            "border": null,
            "bottom": null,
            "display": null,
            "flex": null,
            "flex_flow": null,
            "grid_area": null,
            "grid_auto_columns": null,
            "grid_auto_flow": null,
            "grid_auto_rows": null,
            "grid_column": null,
            "grid_gap": null,
            "grid_row": null,
            "grid_template_areas": null,
            "grid_template_columns": null,
            "grid_template_rows": null,
            "height": null,
            "justify_content": null,
            "justify_items": null,
            "left": null,
            "margin": null,
            "max_height": null,
            "max_width": null,
            "min_height": null,
            "min_width": null,
            "object_fit": null,
            "object_position": null,
            "order": null,
            "overflow": null,
            "overflow_x": null,
            "overflow_y": null,
            "padding": null,
            "right": null,
            "top": null,
            "visibility": null,
            "width": null
          }
        },
        "a2394d98ccca4aa7b35edbaba48a4e53": {
          "model_module": "@jupyter-widgets/base",
          "model_module_version": "1.2.0",
          "model_name": "LayoutModel",
          "state": {
            "_model_module": "@jupyter-widgets/base",
            "_model_module_version": "1.2.0",
            "_model_name": "LayoutModel",
            "_view_count": null,
            "_view_module": "@jupyter-widgets/base",
            "_view_module_version": "1.2.0",
            "_view_name": "LayoutView",
            "align_content": null,
            "align_items": null,
            "align_self": null,
            "border": null,
            "bottom": null,
            "display": null,
            "flex": null,
            "flex_flow": null,
            "grid_area": null,
            "grid_auto_columns": null,
            "grid_auto_flow": null,
            "grid_auto_rows": null,
            "grid_column": null,
            "grid_gap": null,
            "grid_row": null,
            "grid_template_areas": null,
            "grid_template_columns": null,
            "grid_template_rows": null,
            "height": null,
            "justify_content": null,
            "justify_items": null,
            "left": null,
            "margin": null,
            "max_height": null,
            "max_width": null,
            "min_height": null,
            "min_width": null,
            "object_fit": null,
            "object_position": null,
            "order": null,
            "overflow": null,
            "overflow_x": null,
            "overflow_y": null,
            "padding": null,
            "right": null,
            "top": null,
            "visibility": null,
            "width": null
          }
        },
        "a8f02ad4fdd74d83847ace2d1df5a681": {
          "model_module": "@jupyter-widgets/output",
          "model_module_version": "1.0.0",
          "model_name": "OutputModel",
          "state": {
            "_dom_classes": [],
            "_model_module": "@jupyter-widgets/output",
            "_model_module_version": "1.0.0",
            "_model_name": "OutputModel",
            "_view_count": null,
            "_view_module": "@jupyter-widgets/output",
            "_view_module_version": "1.0.0",
            "_view_name": "OutputView",
            "layout": "IPY_MODEL_a2394d98ccca4aa7b35edbaba48a4e53",
            "msg_id": "",
            "outputs": [
              {
                "data": {
                  "image/png": "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\n",
                  "text/plain": "<Figure size 2200x600 with 1 Axes>"
                },
                "metadata": {},
                "output_type": "display_data"
              }
            ]
          }
        },
        "cf64ff5017d841d2991594703e94742d": {
          "model_module": "@jupyter-widgets/controls",
          "model_module_version": "1.5.0",
          "model_name": "HBoxModel",
          "state": {
            "_dom_classes": [],
            "_model_module": "@jupyter-widgets/controls",
            "_model_module_version": "1.5.0",
            "_model_name": "HBoxModel",
            "_view_count": null,
            "_view_module": "@jupyter-widgets/controls",
            "_view_module_version": "1.5.0",
            "_view_name": "HBoxView",
            "box_style": "",
            "children": [
              "IPY_MODEL_803c0d2d08334960bfd184c8fd3ea66b",
              "IPY_MODEL_1a6faa6394b844998eeeae6ecfdb06f2",
              "IPY_MODEL_4ba6ae5cc5b541ed8c58a34be23080d3"
            ],
            "layout": "IPY_MODEL_5b0ce7756f894a97be1edfc74c20cc92"
          }
        },
        "d898eecca9454c3eaab1a819d3327344": {
          "model_module": "@jupyter-widgets/controls",
          "model_module_version": "1.5.0",
          "model_name": "ToggleButtonsModel",
          "state": {
            "_dom_classes": [],
            "_model_module": "@jupyter-widgets/controls",
            "_model_module_version": "1.5.0",
            "_model_name": "ToggleButtonsModel",
            "_options_labels": [
              "Pipeline Plot",
              "Hyperparameters",
              "Residuals",
              "Prediction Error",
              "Cooks Distance",
              "Feature Selection",
              "Learning Curve",
              "Manifold Learning",
              "Validation Curve",
              "Feature Importance",
              "Feature Importance (All)",
              "Decision Tree",
              "Interactive Residuals"
            ],
            "_view_count": null,
            "_view_module": "@jupyter-widgets/controls",
            "_view_module_version": "1.5.0",
            "_view_name": "ToggleButtonsView",
            "button_style": "",
            "description": "Plot Type:",
            "description_tooltip": null,
            "disabled": false,
            "icons": [
              ""
            ],
            "index": 0,
            "layout": "IPY_MODEL_9cf5d53278ae44e18ae523ec0070f67b",
            "style": "IPY_MODEL_21968ee355c84321a161a2b4217bf659",
            "tooltips": []
          }
        },
        "dca256763bf84bdebd5fc21202566cd1": {
          "model_module": "@jupyter-widgets/base",
          "model_module_version": "1.2.0",
          "model_name": "LayoutModel",
          "state": {
            "_model_module": "@jupyter-widgets/base",
            "_model_module_version": "1.2.0",
            "_model_name": "LayoutModel",
            "_view_count": null,
            "_view_module": "@jupyter-widgets/base",
            "_view_module_version": "1.2.0",
            "_view_name": "LayoutView",
            "align_content": null,
            "align_items": null,
            "align_self": null,
            "border": null,
            "bottom": null,
            "display": null,
            "flex": null,
            "flex_flow": null,
            "grid_area": null,
            "grid_auto_columns": null,
            "grid_auto_flow": null,
            "grid_auto_rows": null,
            "grid_column": null,
            "grid_gap": null,
            "grid_row": null,
            "grid_template_areas": null,
            "grid_template_columns": null,
            "grid_template_rows": null,
            "height": null,
            "justify_content": null,
            "justify_items": null,
            "left": null,
            "margin": null,
            "max_height": null,
            "max_width": null,
            "min_height": null,
            "min_width": null,
            "object_fit": null,
            "object_position": null,
            "order": null,
            "overflow": null,
            "overflow_x": null,
            "overflow_y": null,
            "padding": null,
            "right": null,
            "top": null,
            "visibility": null,
            "width": null
          }
        },
        "eda71403f918498da675ab706596d230": {
          "model_module": "@jupyter-widgets/base",
          "model_module_version": "1.2.0",
          "model_name": "LayoutModel",
          "state": {
            "_model_module": "@jupyter-widgets/base",
            "_model_module_version": "1.2.0",
            "_model_name": "LayoutModel",
            "_view_count": null,
            "_view_module": "@jupyter-widgets/base",
            "_view_module_version": "1.2.0",
            "_view_name": "LayoutView",
            "align_content": null,
            "align_items": null,
            "align_self": null,
            "border": null,
            "bottom": null,
            "display": null,
            "flex": null,
            "flex_flow": null,
            "grid_area": null,
            "grid_auto_columns": null,
            "grid_auto_flow": null,
            "grid_auto_rows": null,
            "grid_column": null,
            "grid_gap": null,
            "grid_row": null,
            "grid_template_areas": null,
            "grid_template_columns": null,
            "grid_template_rows": null,
            "height": null,
            "justify_content": null,
            "justify_items": null,
            "left": null,
            "margin": null,
            "max_height": null,
            "max_width": null,
            "min_height": null,
            "min_width": null,
            "object_fit": null,
            "object_position": null,
            "order": null,
            "overflow": null,
            "overflow_x": null,
            "overflow_y": null,
            "padding": null,
            "right": null,
            "top": null,
            "visibility": null,
            "width": null
          }
        },
        "f94b532f165e4203adbfddc380673f66": {
          "model_module": "@jupyter-widgets/controls",
          "model_module_version": "1.5.0",
          "model_name": "ProgressStyleModel",
          "state": {
            "_model_module": "@jupyter-widgets/controls",
            "_model_module_version": "1.5.0",
            "_model_name": "ProgressStyleModel",
            "_view_count": null,
            "_view_module": "@jupyter-widgets/base",
            "_view_module_version": "1.2.0",
            "_view_name": "StyleView",
            "bar_color": null,
            "description_width": ""
          }
        }
      }
    }
  },
  "nbformat": 4,
  "nbformat_minor": 0
}
